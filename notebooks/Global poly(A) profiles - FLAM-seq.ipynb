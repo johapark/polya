{
 "cells": [
  {
   "cell_type": "code",
   "execution_count": 1,
   "metadata": {},
   "outputs": [],
   "source": [
    "from matplotlib.ticker import AutoMinorLocator\n",
    "from matplotlib import pyplot as plt\n",
    "\n",
    "import seaborn as sns\n",
    "import pandas as pd\n",
    "import feather\n",
    "import os.path\n",
    "\n",
    "from polya.utils import smooth\n",
    "\n",
    "sample=\"HeLaS3_r1\"\n",
    "drop_mtgenes = True"
   ]
  },
  {
   "cell_type": "code",
   "execution_count": 2,
   "metadata": {},
   "outputs": [
    {
     "name": "stdout",
     "output_type": "stream",
     "text": [
      "HeLaS3_r1 ../data/external/flam-seq/GSM3602165_hela_rep1_genomic_cleaned_gene_length.txt.gz\n"
     ]
    }
   ],
   "source": [
    "data_dir = \"../data/external/flam-seq\"\n",
    "fname = {\n",
    "    \"HeLaS3_r1\": \"GSM3602165_hela_rep1_genomic_cleaned_gene_length.txt.gz\",\n",
    "    \"HeLaS3_r2\": \"GSM3602166_hela_rep2_genomic_cleaned_gene_length.txt.gz\",\n",
    "}[sample]\n",
    "\n",
    "fpath = os.path.join(data_dir, fname)\n",
    "print( sample, fpath)"
   ]
  },
  {
   "cell_type": "code",
   "execution_count": 9,
   "metadata": {},
   "outputs": [
    {
     "name": "stdout",
     "output_type": "stream",
     "text": [
      "37 MT-encoded genes\n",
      "89 TOP genes\n",
      "1177 RP genes\n"
     ]
    }
   ],
   "source": [
    "genepath = \"/casa/joha/scripts/tailseeker3.1.7/refdb/level3/GRCh38/annotations-gene.feather\"\n",
    "df_gene = feather.read_dataframe(genepath)\n",
    "\n",
    "## Mitochondrially-encoded genes\n",
    "df_mtgenes = df_gene[df_gene[\"gene_description\"].map(lambda x: x.startswith(\"mitochondrially encoded\") if x else False)]\n",
    "df_mtgenes = df_gene[df_gene[\"seqname\"].map(lambda x: x == \"chrM\" if x else False)]\n",
    "mtgenes = df_mtgenes[\"gene_name\"]\n",
    "print( len(mtgenes), \"MT-encoded genes\")\n",
    "\n",
    "## TOP genes: The list is from Yamashita et al., NAR, 2008\n",
    "topglist = [g.strip().upper() for g in open(\"../data/external/human_top_genes_nar_2008.csv\", \"rt\").readlines()]\n",
    "df_topgenes = df_gene[df_gene[\"gene_name\"].isin(topglist)]\n",
    "topgenes = df_topgenes[\"gene_name\"]\n",
    "print( len(topgenes), \"TOP genes\" )\n",
    "\n",
    "## RP genes\n",
    "df_rpgenes = df_gene[df_gene[\"gene_description\"].map(lambda x: x.startswith(\"ribosomal protein\") if x else False)]\n",
    "df_rpgenes = df_rpgenes[df_rpgenes[\"gene_description\"].map(lambda x: \"kinase\" not in x)]\n",
    "df_rpgenes = df_rpgenes[df_rpgenes[\"gene_description\"].map(lambda x: \"like\" not in x)]\n",
    "df_rpgenes = df_rpgenes[df_rpgenes[\"gene_description\"].map(lambda x: \"binding\" not in x)]\n",
    "rpgenes = df_rpgenes[\"gene_name\"]\n",
    "print(len(df_rpgenes), \"RP genes\")"
   ]
  },
  {
   "cell_type": "code",
   "execution_count": 10,
   "metadata": {},
   "outputs": [
    {
     "name": "stderr",
     "output_type": "stream",
     "text": [
      "/utp/joha/miniconda3/envs/polya/lib/python3.7/site-packages/ipykernel_launcher.py:2: FutureWarning: read_table is deprecated, use read_csv instead.\n",
      "  \n"
     ]
    },
    {
     "name": "stdout",
     "output_type": "stream",
     "text": [
      "271711 reads\n",
      "262997 reads for non-MT genes\n",
      "261670 reads after removing PCR duplicates\n"
     ]
    },
    {
     "data": {
      "text/html": [
       "<div>\n",
       "<style scoped>\n",
       "    .dataframe tbody tr th:only-of-type {\n",
       "        vertical-align: middle;\n",
       "    }\n",
       "\n",
       "    .dataframe tbody tr th {\n",
       "        vertical-align: top;\n",
       "    }\n",
       "\n",
       "    .dataframe thead th {\n",
       "        text-align: right;\n",
       "    }\n",
       "</style>\n",
       "<table border=\"1\" class=\"dataframe\">\n",
       "  <thead>\n",
       "    <tr style=\"text-align: right;\">\n",
       "      <th></th>\n",
       "      <th>read</th>\n",
       "      <th>gene</th>\n",
       "      <th>umi</th>\n",
       "      <th>length</th>\n",
       "      <th>tail</th>\n",
       "    </tr>\n",
       "  </thead>\n",
       "  <tbody>\n",
       "    <tr>\n",
       "      <th>1</th>\n",
       "      <td>m54099_180718_200058_10027435</td>\n",
       "      <td>TMSB10</td>\n",
       "      <td>TATGGGACAT</td>\n",
       "      <td>84</td>\n",
       "      <td>TTTTTTTTTTTTTTTTTTTTTTTTTTTTTTTTTTTTTTTTTTTTTT...</td>\n",
       "    </tr>\n",
       "    <tr>\n",
       "      <th>2</th>\n",
       "      <td>m54099_180718_200058_10027544</td>\n",
       "      <td>BLCAP</td>\n",
       "      <td>AATTAACTCT</td>\n",
       "      <td>135</td>\n",
       "      <td>TTTTTTTTTTTTTTTTTTTTTTTTTTTTTTTTTTTTTTTTTTTTTT...</td>\n",
       "    </tr>\n",
       "    <tr>\n",
       "      <th>3</th>\n",
       "      <td>m54099_180718_200058_10027567</td>\n",
       "      <td>B2M</td>\n",
       "      <td>CGGCCGTTCC</td>\n",
       "      <td>200</td>\n",
       "      <td>TTTTTTTTTTTTTTTTTTTTTTTTTTTTTTTTTTTTTTTTTTTTTT...</td>\n",
       "    </tr>\n",
       "  </tbody>\n",
       "</table>\n",
       "</div>"
      ],
      "text/plain": [
       "                            read    gene         umi  length  \\\n",
       "1  m54099_180718_200058_10027435  TMSB10  TATGGGACAT      84   \n",
       "2  m54099_180718_200058_10027544   BLCAP  AATTAACTCT     135   \n",
       "3  m54099_180718_200058_10027567     B2M  CGGCCGTTCC     200   \n",
       "\n",
       "                                                tail  \n",
       "1  TTTTTTTTTTTTTTTTTTTTTTTTTTTTTTTTTTTTTTTTTTTTTT...  \n",
       "2  TTTTTTTTTTTTTTTTTTTTTTTTTTTTTTTTTTTTTTTTTTTTTT...  \n",
       "3  TTTTTTTTTTTTTTTTTTTTTTTTTTTTTTTTTTTTTTTTTTTTTT...  "
      ]
     },
     "execution_count": 10,
     "metadata": {},
     "output_type": "execute_result"
    }
   ],
   "source": [
    "### Load and preprocess the data\n",
    "df = pd.read_table(fpath, sep=\" \", compression=\"gzip\")\n",
    "print( len(df), \"reads\")\n",
    "\n",
    "if drop_mtgenes is True: \n",
    "    df = df[~df[\"gene\"].isin(mtgenes)]\n",
    "    print( len(df), \"reads for non-MT genes\")\n",
    "    \n",
    "df = df.drop_duplicates(subset=[\"gene\",\"umi\"])\n",
    "print( len(df), \"reads after removing PCR duplicates\" )\n",
    "\n",
    "df.head(3)"
   ]
  },
  {
   "cell_type": "markdown",
   "metadata": {},
   "source": [
    "Global poly(A) length distribution"
   ]
  },
  {
   "cell_type": "code",
   "execution_count": 11,
   "metadata": {},
   "outputs": [
    {
     "name": "stderr",
     "output_type": "stream",
     "text": [
      "No handles with labels found to put in legend.\n"
     ]
    },
    {
     "name": "stdout",
     "output_type": "stream",
     "text": [
      "../plots/global_pAlen_dists_HeLaS3_r1_FLAM-seq_10-220_wo_mtgenes_mini.pdf\n"
     ]
    },
    {
     "data": {
      "image/png": "[encoded data removed]",
      "text/plain": [
       "<Figure size 180x126 with 1 Axes>"
      ]
     },
     "metadata": {},
     "output_type": "display_data"
    }
   ],
   "source": [
    "savefig = True\n",
    "minifig = True\n",
    "\n",
    "pAlen_range = [10, 220]; pr=pAlen_range\n",
    "smoothing = True\n",
    "smoothing_window=15\n",
    "fmax = None\n",
    "\n",
    "figsize = 5, 3.5\n",
    "styles = [\"../polya.mplstyle\"]\n",
    "if minifig is True: \n",
    "    styles.append(\"../mini.mplstyle\")\n",
    "    figsize = list(map(lambda x:x/2, figsize))\n",
    "\n",
    "with plt.style.context(styles):\n",
    "    fig = plt.figure(figsize=figsize)\n",
    "    ax = fig.add_subplot(111)\n",
    "    \n",
    "    pAlen_dist = df[\"length\"].value_counts().sort_index().loc[pr[0]:pr[1]]\n",
    "    pAlen_dist = pAlen_dist / pAlen_dist.sum() * 100 # fraction in percent\n",
    "    \n",
    "    if smoothing: pAlen_dist = smooth(np.array(pAlen_dist), window_len=smoothing_window)\n",
    "        \n",
    "    if fmax is None: fmax = pAlen_dist.max()\n",
    "    elif fmax < pAlen_dist.max(): fmax = pAlen_dist.max()\n",
    "    \n",
    "    ax.plot(pAlen_dist)\n",
    "    ax.xaxis.set_minor_locator(AutoMinorLocator(2))\n",
    "    ax.yaxis.set_minor_locator(AutoMinorLocator(2)) \n",
    "    ax.xaxis.grid(True, which='major', color='#878787', linestyle='-', lw=0.5)\n",
    "    ax.xaxis.grid(True, which='minor', color='#878787', linestyle='--', lw=0.3)\n",
    "    ax.yaxis.grid(True, which='major', color='#878787', linestyle='-', lw=0.5)\n",
    "    ax.yaxis.grid(True, which='minor', color='#878787', linestyle='--', lw=0.3)\n",
    "    ax.set_xlim([0,230])\n",
    "#     ax.set_ylim([0, np.round(fmax * 1.1, 1)])\n",
    "    ax.set_ylim([0,1.4])\n",
    "    ax.set_xticks(range(0,250,50))\n",
    "    ax.legend(loc=\"upper right\", fontsize=\"medium\", handlelength=1.0)#, ncol=2, columnspacing=0.1)\n",
    "#     ax.legend(loc=\"center left\", bbox_to_anchor=[1.01,0.5])\n",
    "    ax.set_xlabel(\"Poly(A) length (nt)\")\n",
    "    ax.set_ylabel(\"Fraction (%)\")\n",
    "    ax.set_title(\"{}\".format(sample), fontsize=\"medium\")\n",
    "\n",
    "    fname_adduct = \"\"\n",
    "    if drop_mtgenes is True: fname_adduct += \"_wo_mtgenes\"\n",
    "    if minifig is True: fname_adduct += \"_mini\"\n",
    "        \n",
    "    if savefig is True:\n",
    "        outfigpath = \"../plots/global_pAlen_dists_{}_FLAM-seq_{}-{}{}.pdf\".format(sample, pr[0], pr[1], fname_adduct)\n",
    "        print(outfigpath)\n",
    "        fig.savefig(outfigpath, dpi=300, bbox_inches=\"tight\")\n",
    "        \n",
    "    plt.show()"
   ]
  },
  {
   "cell_type": "markdown",
   "metadata": {},
   "source": [
    "#### Moda poly(A) length scatter"
   ]
  },
  {
   "cell_type": "code",
   "execution_count": 12,
   "metadata": {},
   "outputs": [],
   "source": [
    "pAlen_range = [10, 220]; pr=pAlen_range\n",
    "minimum_pAtags = 200\n",
    "df_ft = df.copy()\n",
    "df_ft = df_ft[(df_ft[\"length\"] >= pr[0]) & (df_ft[\"length\"] <= pr[1])]\n",
    "df_ft = df_ft.groupby(\"gene\").filter(lambda gr: len(gr) >= minimum_pAtags)\n",
    "\n",
    "pAmodes = df_ft.groupby(\"gene\")[\"length\"].agg(lambda x:x.value_counts().idxmax())\n",
    "pAmeans = df_ft.groupby(\"gene\")[\"length\"].agg(np.mean)"
   ]
  },
  {
   "cell_type": "code",
   "execution_count": 13,
   "metadata": {},
   "outputs": [
    {
     "name": "stdout",
     "output_type": "stream",
     "text": [
      "../plots/modal_vs_mean_pAlen_HeLaS3_r1_FLAM-seq_10-220_wo_mtgenes_mini.pdf\n"
     ]
    },
    {
     "data": {
      "image/png": "[encoded data removed]",
      "text/plain": [
       "<Figure size 180x126 with 1 Axes>"
      ]
     },
     "metadata": {},
     "output_type": "display_data"
    }
   ],
   "source": [
    "savefig = True\n",
    "minifig = True\n",
    "\n",
    "x = pAmodes\n",
    "y = pAmeans\n",
    "\n",
    "figsize = 5, 3.5\n",
    "styles = [\"../polya.mplstyle\"]\n",
    "if minifig is True: \n",
    "    styles.append(\"../mini.mplstyle\")\n",
    "    figsize = list(map(lambda x:x/2, figsize))\n",
    "\n",
    "with plt.style.context(styles):\n",
    "    fig = plt.figure(figsize=figsize)\n",
    "    ax = fig.add_subplot(111)\n",
    "    \n",
    "    ax.scatter(x, y, s=2, color=\"grey\", edgecolor=\"none\", rasterized=True)\n",
    "    sns.kdeplot(x, y, n_levels=5, cmap=\"cubehelix\", ax=ax)\n",
    "    \n",
    "    ax.text(x=0.95, y=0.1, s=\"n=%d\"%(len(x)), ha=\"right\", transform=ax.transAxes)\n",
    "    ax.set_xlim([0,230])\n",
    "#     ax.set_ylim([0,170])\n",
    "    ax.set_xticks(range(0,250,50))\n",
    "    ax.set_xlabel(\"Mode (nt)\")\n",
    "    ax.set_ylabel(\"Mean (nt)\")\n",
    "    ax.set_title(sample, fontsize=\"medium\")\n",
    "    ax.grid(True)\n",
    "\n",
    "    fname_adduct = \"\"\n",
    "    if drop_mtgenes is True: fname_adduct += \"_wo_mtgenes\"\n",
    "    if minifig is True: fname_adduct += \"_mini\"\n",
    "\n",
    "    if savefig is True:\n",
    "        outfigpath = \"../plots/modal_vs_mean_pAlen_{}_FLAM-seq_{}-{}{}.pdf\".format(sample, pr[0], pr[1], fname_adduct)\n",
    "        print(outfigpath)\n",
    "        fig.savefig(outfigpath, dpi=300, bbox_inches=\"tight\")\n",
    "        \n",
    "    plt.show()"
   ]
  },
  {
   "cell_type": "code",
   "execution_count": null,
   "metadata": {
    "collapsed": true,
    "jupyter": {
     "outputs_hidden": true
    }
   },
   "outputs": [],
   "source": []
  }
 ],
 "metadata": {
  "kernelspec": {
   "display_name": "polya",
   "language": "python",
   "name": "polya"
  },
  "language_info": {
   "codemirror_mode": {
    "name": "ipython",
    "version": 3
   },
   "file_extension": ".py",
   "mimetype": "text/x-python",
   "name": "python",
   "nbconvert_exporter": "python",
   "pygments_lexer": "ipython3",
   "version": "3.7.7"
  }
 },
 "nbformat": 4,
 "nbformat_minor": 4
}
