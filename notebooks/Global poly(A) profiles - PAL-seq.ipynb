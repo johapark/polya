{
 "cells": [
  {
   "cell_type": "code",
   "execution_count": 1,
   "metadata": {},
   "outputs": [],
   "source": [
    "from matplotlib.ticker import AutoMinorLocator\n",
    "from matplotlib import pyplot as plt\n",
    "\n",
    "import seaborn as sns\n",
    "import pandas as pd\n",
    "import feather\n",
    "import os.path\n",
    "\n",
    "from polya.utils import smooth\n",
    "\n",
    "sample = \"HeLa\""
   ]
  },
  {
   "cell_type": "code",
   "execution_count": 2,
   "metadata": {},
   "outputs": [
    {
     "name": "stdout",
     "output_type": "stream",
     "text": [
      "../data/external/pal-seq/GSM1316813_HeLa_total_PAL.tsv\n"
     ]
    }
   ],
   "source": [
    "datadir = \"../data/external/pal-seq\"\n",
    "\n",
    "fname = {\n",
    "    \"HeLa\": \"GSM1316813_HeLa_total_PAL.tsv\",\n",
    "    \"HeLa-Cyt\": \"GSM1316812_HeLa_PAL.tsv\",\n",
    "    \"3T3\": \"GSM1316801_3T3_PAL.tsv\",\n",
    "    \"HEK293T\": \"GSM1316800_Hek293T_PAL.tsv\",\n",
    "}[sample]\n",
    "\n",
    "fpath = os.path.join(datadir, fname)\n",
    "print( fpath )\n"
   ]
  },
  {
   "cell_type": "code",
   "execution_count": 3,
   "metadata": {},
   "outputs": [
    {
     "data": {
      "text/html": [
       "<div>\n",
       "<style scoped>\n",
       "    .dataframe tbody tr th:only-of-type {\n",
       "        vertical-align: middle;\n",
       "    }\n",
       "\n",
       "    .dataframe tbody tr th {\n",
       "        vertical-align: top;\n",
       "    }\n",
       "\n",
       "    .dataframe thead th {\n",
       "        text-align: right;\n",
       "    }\n",
       "</style>\n",
       "<table border=\"1\" class=\"dataframe\">\n",
       "  <thead>\n",
       "    <tr style=\"text-align: right;\">\n",
       "      <th></th>\n",
       "      <th>0</th>\n",
       "      <th>1</th>\n",
       "      <th>2</th>\n",
       "      <th>3</th>\n",
       "      <th>4</th>\n",
       "      <th>5</th>\n",
       "      <th>6</th>\n",
       "      <th>7</th>\n",
       "      <th>8</th>\n",
       "      <th>9</th>\n",
       "      <th>...</th>\n",
       "      <th>241</th>\n",
       "      <th>242</th>\n",
       "      <th>243</th>\n",
       "      <th>244</th>\n",
       "      <th>245</th>\n",
       "      <th>246</th>\n",
       "      <th>247</th>\n",
       "      <th>248</th>\n",
       "      <th>249</th>\n",
       "      <th>250</th>\n",
       "    </tr>\n",
       "    <tr>\n",
       "      <th>geneid</th>\n",
       "      <th></th>\n",
       "      <th></th>\n",
       "      <th></th>\n",
       "      <th></th>\n",
       "      <th></th>\n",
       "      <th></th>\n",
       "      <th></th>\n",
       "      <th></th>\n",
       "      <th></th>\n",
       "      <th></th>\n",
       "      <th></th>\n",
       "      <th></th>\n",
       "      <th></th>\n",
       "      <th></th>\n",
       "      <th></th>\n",
       "      <th></th>\n",
       "      <th></th>\n",
       "      <th></th>\n",
       "      <th></th>\n",
       "      <th></th>\n",
       "      <th></th>\n",
       "    </tr>\n",
       "  </thead>\n",
       "  <tbody>\n",
       "    <tr>\n",
       "      <th>ENSG00000000003</th>\n",
       "      <td>0</td>\n",
       "      <td>0</td>\n",
       "      <td>0</td>\n",
       "      <td>0</td>\n",
       "      <td>0</td>\n",
       "      <td>0</td>\n",
       "      <td>0</td>\n",
       "      <td>0</td>\n",
       "      <td>0</td>\n",
       "      <td>0</td>\n",
       "      <td>...</td>\n",
       "      <td>0</td>\n",
       "      <td>0</td>\n",
       "      <td>0</td>\n",
       "      <td>0</td>\n",
       "      <td>0</td>\n",
       "      <td>0</td>\n",
       "      <td>0</td>\n",
       "      <td>0</td>\n",
       "      <td>0</td>\n",
       "      <td>0</td>\n",
       "    </tr>\n",
       "    <tr>\n",
       "      <th>ENSG00000000419</th>\n",
       "      <td>0</td>\n",
       "      <td>0</td>\n",
       "      <td>0</td>\n",
       "      <td>0</td>\n",
       "      <td>0</td>\n",
       "      <td>0</td>\n",
       "      <td>0</td>\n",
       "      <td>0</td>\n",
       "      <td>0</td>\n",
       "      <td>0</td>\n",
       "      <td>...</td>\n",
       "      <td>2</td>\n",
       "      <td>4</td>\n",
       "      <td>0</td>\n",
       "      <td>0</td>\n",
       "      <td>0</td>\n",
       "      <td>0</td>\n",
       "      <td>0</td>\n",
       "      <td>0</td>\n",
       "      <td>0</td>\n",
       "      <td>0</td>\n",
       "    </tr>\n",
       "    <tr>\n",
       "      <th>ENSG00000000457</th>\n",
       "      <td>0</td>\n",
       "      <td>0</td>\n",
       "      <td>0</td>\n",
       "      <td>0</td>\n",
       "      <td>0</td>\n",
       "      <td>0</td>\n",
       "      <td>0</td>\n",
       "      <td>0</td>\n",
       "      <td>0</td>\n",
       "      <td>0</td>\n",
       "      <td>...</td>\n",
       "      <td>0</td>\n",
       "      <td>0</td>\n",
       "      <td>0</td>\n",
       "      <td>0</td>\n",
       "      <td>0</td>\n",
       "      <td>0</td>\n",
       "      <td>0</td>\n",
       "      <td>0</td>\n",
       "      <td>0</td>\n",
       "      <td>0</td>\n",
       "    </tr>\n",
       "    <tr>\n",
       "      <th>ENSG00000000460</th>\n",
       "      <td>0</td>\n",
       "      <td>0</td>\n",
       "      <td>0</td>\n",
       "      <td>0</td>\n",
       "      <td>0</td>\n",
       "      <td>0</td>\n",
       "      <td>0</td>\n",
       "      <td>0</td>\n",
       "      <td>0</td>\n",
       "      <td>0</td>\n",
       "      <td>...</td>\n",
       "      <td>0</td>\n",
       "      <td>0</td>\n",
       "      <td>0</td>\n",
       "      <td>0</td>\n",
       "      <td>0</td>\n",
       "      <td>0</td>\n",
       "      <td>0</td>\n",
       "      <td>0</td>\n",
       "      <td>0</td>\n",
       "      <td>0</td>\n",
       "    </tr>\n",
       "    <tr>\n",
       "      <th>ENSG00000000971</th>\n",
       "      <td>0</td>\n",
       "      <td>0</td>\n",
       "      <td>0</td>\n",
       "      <td>0</td>\n",
       "      <td>0</td>\n",
       "      <td>0</td>\n",
       "      <td>0</td>\n",
       "      <td>0</td>\n",
       "      <td>0</td>\n",
       "      <td>0</td>\n",
       "      <td>...</td>\n",
       "      <td>0</td>\n",
       "      <td>0</td>\n",
       "      <td>0</td>\n",
       "      <td>0</td>\n",
       "      <td>0</td>\n",
       "      <td>0</td>\n",
       "      <td>0</td>\n",
       "      <td>0</td>\n",
       "      <td>0</td>\n",
       "      <td>0</td>\n",
       "    </tr>\n",
       "  </tbody>\n",
       "</table>\n",
       "<p>5 rows × 251 columns</p>\n",
       "</div>"
      ],
      "text/plain": [
       "                 0  1  2  3  4  5  6  7  8  9  ...  241  242  243  244  245  \\\n",
       "geneid                                         ...                            \n",
       "ENSG00000000003  0  0  0  0  0  0  0  0  0  0  ...    0    0    0    0    0   \n",
       "ENSG00000000419  0  0  0  0  0  0  0  0  0  0  ...    2    4    0    0    0   \n",
       "ENSG00000000457  0  0  0  0  0  0  0  0  0  0  ...    0    0    0    0    0   \n",
       "ENSG00000000460  0  0  0  0  0  0  0  0  0  0  ...    0    0    0    0    0   \n",
       "ENSG00000000971  0  0  0  0  0  0  0  0  0  0  ...    0    0    0    0    0   \n",
       "\n",
       "                 246  247  248  249  250  \n",
       "geneid                                    \n",
       "ENSG00000000003    0    0    0    0    0  \n",
       "ENSG00000000419    0    0    0    0    0  \n",
       "ENSG00000000457    0    0    0    0    0  \n",
       "ENSG00000000460    0    0    0    0    0  \n",
       "ENSG00000000971    0    0    0    0    0  \n",
       "\n",
       "[5 rows x 251 columns]"
      ]
     },
     "execution_count": 3,
     "metadata": {},
     "output_type": "execute_result"
    }
   ],
   "source": [
    "df = pd.read_csv(fpath, sep=\"\\t\", index_col=0)\n",
    "df.head()"
   ]
  },
  {
   "cell_type": "markdown",
   "metadata": {},
   "source": [
    "#### Global poly(A) length of a sample, w/ and w/o mitochondrial genes"
   ]
  },
  {
   "cell_type": "code",
   "execution_count": 4,
   "metadata": {},
   "outputs": [
    {
     "name": "stdout",
     "output_type": "stream",
     "text": [
      "39 MT-encoded genes\n",
      "89 TOP genes\n",
      "1177 RP genes\n"
     ]
    },
    {
     "name": "stderr",
     "output_type": "stream",
     "text": [
      "/utp/joha/miniconda3/envs/polya/lib/python3.7/site-packages/pyarrow/pandas_compat.py:752: FutureWarning: .labels was deprecated in version 0.24.0. Use .codes instead.\n",
      "  labels, = index.labels\n"
     ]
    }
   ],
   "source": [
    "genepath = \"/casa/joha/scripts/tailseeker3.1.7/refdb/level3/GRCh38/annotations-gene.feather\"\n",
    "df_gene = feather.read_dataframe(genepath)\n",
    "\n",
    "# Mitochondrially-encoded genes\n",
    "df_mtgenes = df_gene[df_gene[\"seqname\"].map(lambda x: x == \"chrM\" if x else False)]\n",
    "mtgenes = df_mtgenes[\"gene_id\"]\n",
    "mtgenes = mtgenes.append(pd.Series(['ENSG00000247627.2', 'ENSG00000248527.1']) ) # adding MTND4P12, MTATP6P1 pseudogenes\n",
    "mtgenes = mtgenes.map(lambda x: x.split('.')[0])\n",
    "print( len(mtgenes), \"MT-encoded genes\")\n",
    "\n",
    "# TOP genes: The list is from Yamashita et al., NAR, 2008\n",
    "topglist = [g.strip().upper() for g in open(\"../data/external/human_top_genes_nar_2008.csv\", \"rt\").readlines()]\n",
    "df_topgenes = df_gene[df_gene[\"gene_name\"].isin(topglist)]\n",
    "topgenes = df_topgenes[\"gene_id\"]\n",
    "print( len(topgenes), \"TOP genes\" )\n",
    "\n",
    "# RP genes\n",
    "df_rpgenes = df_gene[df_gene[\"gene_description\"].map(lambda x: x.startswith(\"ribosomal protein\") if x else False)]\n",
    "df_rpgenes = df_rpgenes[df_rpgenes[\"gene_description\"].map(lambda x: \"kinase\" not in x)]\n",
    "df_rpgenes = df_rpgenes[df_rpgenes[\"gene_description\"].map(lambda x: \"like\" not in x)]\n",
    "df_rpgenes = df_rpgenes[df_rpgenes[\"gene_description\"].map(lambda x: \"binding\" not in x)]\n",
    "print(len(df_rpgenes), \"RP genes\")\n",
    "rpgenes = df_rpgenes[\"gene_id\"]\n",
    "\n",
    "gene_subsets = {\n",
    "    'mtgenes': mtgenes,\n",
    "    'topgenes': topgenes,\n",
    "    'rpgenes': rpgenes,\n",
    "}"
   ]
  },
  {
   "cell_type": "code",
   "execution_count": 5,
   "metadata": {},
   "outputs": [
    {
     "name": "stdout",
     "output_type": "stream",
     "text": [
      "12374 12337\n"
     ]
    }
   ],
   "source": [
    "drop_mtgenes=True\n",
    "df_wo_mt = df.drop(mtgenes, errors=\"ignore\")\n",
    "print( len(df), len(df_wo_mt) )"
   ]
  },
  {
   "cell_type": "code",
   "execution_count": 6,
   "metadata": {},
   "outputs": [
    {
     "name": "stdout",
     "output_type": "stream",
     "text": [
      "../plots/global_pAlen_dists_HeLa_PAL-seq_10-220_wo_mtgenes_mini.pdf\n"
     ]
    },
    {
     "data": {
      "image/png": "[encoded data removed]",
      "text/plain": [
       "<Figure size 180x126 with 1 Axes>"
      ]
     },
     "metadata": {},
     "output_type": "display_data"
    }
   ],
   "source": [
    "savefig = True\n",
    "minifig = True\n",
    "\n",
    "figsize = 5, 3.5\n",
    "smoothing = True\n",
    "pAlen_range = [10, 220]; pr=pAlen_range\n",
    "fmax=None\n",
    "\n",
    "styles = [\"../polya.mplstyle\"]\n",
    "if minifig is True: \n",
    "    styles.append(\"../mini.mplstyle\")\n",
    "    figsize = list(map(lambda x:x/2, figsize))\n",
    "    \n",
    "with plt.style.context(styles):\n",
    "    fig = plt.figure(figsize=figsize)\n",
    "    ax = fig.add_subplot(111)\n",
    "        \n",
    "    pAlen_dist = df.sum().iloc[pr[0]:pr[1]]\n",
    "    pAlen_dist = pAlen_dist / pAlen_dist.sum() * 100 # fraction in percent\n",
    "    pAlen_dist_wo_mt = df_wo_mt.sum().iloc[pr[0]:pr[1]]\n",
    "    pAlen_dist_wo_mt = pAlen_dist_wo_mt / pAlen_dist_wo_mt.sum() * 100\n",
    "    \n",
    "    if smoothing is True:\n",
    "        pAlen_dist = smooth(np.array(pAlen_dist), window_len=11)\n",
    "        pAlen_dist_wo_mt = smooth(np.array(pAlen_dist_wo_mt), window_len=11)\n",
    "\n",
    "    \n",
    "    if fmax is None: fmax = pAlen_dist.max()\n",
    "    elif fmax < pAlen_dist.max(): fmax = pAlen_dist.max()\n",
    "    \n",
    "#     ax.plot(pAlen_dist, label=\"Total\")\n",
    "    ax.plot(pAlen_dist_wo_mt, label=\"w/o MT\")\n",
    "    \n",
    "    ax.xaxis.set_minor_locator(AutoMinorLocator(5))\n",
    "    ax.yaxis.set_minor_locator(AutoMinorLocator(2)) \n",
    "    ax.xaxis.grid(True, which='major', color='#878787', linestyle='-', lw=0.5)\n",
    "    ax.xaxis.grid(True, which='minor', color='#878787', linestyle='--', lw=0.3)\n",
    "    ax.yaxis.grid(True, which='major', color='#878787', linestyle='-', lw=0.5)\n",
    "    ax.yaxis.grid(True, which='minor', color='#878787', linestyle='--', lw=0.3)\n",
    "    ax.set_xlim([0,230])\n",
    "#     ax.set_ylim([0, np.round(fmax * 1.1, 1)])\n",
    "    ax.set_ylim([0,1.4])\n",
    "    ax.set_xticks(range(0,250,50))\n",
    "    ax.legend(loc=\"upper right\", fontsize=\"medium\", handlelength=1.0)#, ncol=2, columnspacing=0.1)\n",
    "#     ax.legend(loc=\"center left\", bbox_to_anchor=[1.01,0.5])\n",
    "    ax.set_xlabel(\"Poly(A) length (nt)\")\n",
    "    ax.set_ylabel(\"Fraction (%)\")\n",
    "    ax.set_title(\"{}\".format(sample), fontsize=\"medium\")\n",
    "    \n",
    "    fname_adduct = \"\"\n",
    "    if drop_mtgenes is True: fname_adduct += \"_wo_mtgenes\"\n",
    "    if minifig is True: fname_adduct += \"_mini\"\n",
    "\n",
    "    if savefig is True:\n",
    "        outfigpath = \"../plots/global_pAlen_dists_{}_PAL-seq_{}-{}{}.pdf\".format(sample, pr[0], pr[1], fname_adduct)\n",
    "        print(outfigpath)\n",
    "        fig.savefig(outfigpath, dpi=300, bbox_inches=\"tight\")\n",
    "        \n",
    "    plt.show()"
   ]
  },
  {
   "cell_type": "markdown",
   "metadata": {},
   "source": [
    "#### Modal poly(A) length scatter"
   ]
  },
  {
   "cell_type": "code",
   "execution_count": 28,
   "metadata": {},
   "outputs": [],
   "source": [
    "pAlen_range = [10, 220]; pr=pAlen_range\n",
    "minimum_pAtags = 200\n",
    "drop_mtgenes = True\n",
    "np.random.seed(42)\n",
    "\n",
    "df = pd.read_csv(fpath, sep=\"\\t\", index_col=0)\n",
    "if drop_mtgenes: df = df.drop(mtgenes, errors=\"ignore\")\n",
    "\n",
    "pAtags = df.iloc[:, pr[0]:pr[1]+1]\n",
    "pAtags = pAtags[pAtags.sum(axis=1) >= minimum_pAtags]\n",
    "pAshuffled = pAtags.columns.tolist(); np.random.shuffle(pAshuffled)\n",
    "pAmodes = pAtags[pAshuffled].apply(pd.Series.idxmax, axis=1).astype(int)\n",
    "pAmeans = pAtags.multiply(pAtags.columns.astype(int)).sum(axis=1) / pAtags.sum(axis=1) # Arithmatic mean"
   ]
  },
  {
   "cell_type": "code",
   "execution_count": 31,
   "metadata": {},
   "outputs": [
    {
     "name": "stdout",
     "output_type": "stream",
     "text": [
      "../plots/modal_vs_mean_pAlen_HeLa_PAL-seq_10-220_wo_mtgenes_mini.pdf\n"
     ]
    },
    {
     "data": {
      "image/png": "[encoded data removed]",
      "text/plain": [
       "<Figure size 180x126 with 1 Axes>"
      ]
     },
     "metadata": {},
     "output_type": "display_data"
    }
   ],
   "source": [
    "savefig = True\n",
    "minifig = True\n",
    "\n",
    "x = pAmodes\n",
    "y = pAmeans\n",
    "\n",
    "figsize = 5, 3.5\n",
    "styles = [\"../polya.mplstyle\"]\n",
    "if minifig is True: \n",
    "    styles.append(\"../mini.mplstyle\")\n",
    "    figsize = list(map(lambda x:x/2, figsize))\n",
    "\n",
    "with plt.style.context(styles):\n",
    "    fig = plt.figure(figsize=figsize)\n",
    "    ax = fig.add_subplot(111)\n",
    "    \n",
    "    ax.scatter(x, y, s=2, color=\"grey\", edgecolor=\"none\", rasterized=True)\n",
    "    sns.kdeplot(x, y, n_levels=5, cmap=\"cubehelix\", ax=ax)\n",
    "    \n",
    "    ax.text(x=0.95, y=0.1, s=\"n=%d\"%(len(x)), ha=\"right\", transform=ax.transAxes)\n",
    "    ax.set_xlim([0,230])\n",
    "    ax.set_xticks(range(0,250,50))\n",
    "    ax.set_xlabel(\"Mode (nt)\")\n",
    "    ax.set_ylabel(\"Mean (nt)\")\n",
    "    ax.set_title(sample, fontsize=\"medium\")\n",
    "    ax.grid(True)\n",
    "\n",
    "    fname_adduct = \"\"\n",
    "    if drop_mtgenes is True: fname_adduct += \"_wo_mtgenes\"\n",
    "    if minifig is True: fname_adduct += \"_mini\"\n",
    "\n",
    "    if savefig is True:\n",
    "        outfigpath = \"../plots/modal_vs_mean_pAlen_{}_PAL-seq_{}-{}{}.pdf\".format(sample, pr[0], pr[1], fname_adduct)\n",
    "        print(outfigpath)\n",
    "        fig.savefig(outfigpath, dpi=300, bbox_inches=\"tight\")\n",
    "        \n",
    "    plt.show()"
   ]
  },
  {
   "cell_type": "code",
   "execution_count": null,
   "metadata": {
    "collapsed": true,
    "jupyter": {
     "outputs_hidden": true
    }
   },
   "outputs": [],
   "source": []
  }
 ],
 "metadata": {
  "kernelspec": {
   "display_name": "polya",
   "language": "python",
   "name": "polya"
  },
  "language_info": {
   "codemirror_mode": {
    "name": "ipython",
    "version": 3
   },
   "file_extension": ".py",
   "mimetype": "text/x-python",
   "name": "python",
   "nbconvert_exporter": "python",
   "pygments_lexer": "ipython3",
   "version": "3.7.7"
  }
 },
 "nbformat": 4,
 "nbformat_minor": 4
}
