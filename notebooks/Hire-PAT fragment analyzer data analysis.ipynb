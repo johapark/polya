{
 "cells": [
  {
   "cell_type": "markdown",
   "metadata": {},
   "source": [
    "# Hire-PAT fragment analyzer data analysis\n",
    "It reads `fsa` files generated from ABI fragment analyzer for High-resolution Poly(A)-tail Assay (Hire-PAT)"
   ]
  },
  {
   "cell_type": "code",
   "execution_count": 1,
   "metadata": {},
   "outputs": [],
   "source": [
    "# Built-in\n",
    "from collections import OrderedDict\n",
    "from pathlib import Path\n",
    "import pickle\n",
    "\n",
    "## Third-party\n",
    "from matplotlib import pyplot as plt\n",
    "from matplotlib.ticker import AutoMinorLocator\n",
    "from ipywidgets import interact\n",
    "import seaborn as sns\n",
    "import numpy as np\n",
    "\n",
    "## Local\n",
    "from polya.utils import FSAAnalyzer, smooth\n",
    "from polya.plot import sequential_palette"
   ]
  },
  {
   "cell_type": "code",
   "execution_count": 74,
   "metadata": {},
   "outputs": [],
   "source": [
    "work = \"210209\""
   ]
  },
  {
   "cell_type": "code",
   "execution_count": 75,
   "metadata": {},
   "outputs": [
    {
     "data": {
      "text/html": [
       "<style>\n",
       "table {float:left}\n",
       "</style>\n"
      ],
      "text/plain": [
       "<IPython.core.display.HTML object>"
      ]
     },
     "metadata": {},
     "output_type": "display_data"
    }
   ],
   "source": [
    "%%html\n",
    "<style>\n",
    "table {float:left}\n",
    "</style>"
   ]
  },
  {
   "cell_type": "markdown",
   "metadata": {},
   "source": [
    "### Sample descriptions\n",
    "| Work (date) | Note | Figure |\n",
    "| ---- | ----- | ---- |\n",
    "| 210209 | TOP reporter LARP1 KD and 30m tracing | Figs. 4a, S4d |\n",
    "| 210321 | Non-TOP reporter LARP1 KD and 30m tracing | Figs. 4b, S4d |\n",
    "| 210322 | Endogenous mRNAs steady-state poly(A) length after LARP1 KD (siLARP1 #2) | Fig. S4e |"
   ]
  },
  {
   "cell_type": "code",
   "execution_count": 76,
   "metadata": {},
   "outputs": [
    {
     "data": {
      "text/html": [
       "<div>\n",
       "<style scoped>\n",
       "    .dataframe tbody tr th:only-of-type {\n",
       "        vertical-align: middle;\n",
       "    }\n",
       "\n",
       "    .dataframe tbody tr th {\n",
       "        vertical-align: top;\n",
       "    }\n",
       "\n",
       "    .dataframe thead th {\n",
       "        text-align: right;\n",
       "    }\n",
       "</style>\n",
       "<table border=\"1\" class=\"dataframe\">\n",
       "  <thead>\n",
       "    <tr style=\"text-align: right;\">\n",
       "      <th></th>\n",
       "      <th>Sample</th>\n",
       "      <th>Filename</th>\n",
       "      <th>Cell</th>\n",
       "      <th>Gene</th>\n",
       "      <th>Group</th>\n",
       "      <th>Baseline</th>\n",
       "      <th>Data_lane</th>\n",
       "      <th>Control_lane</th>\n",
       "      <th>Control_set</th>\n",
       "    </tr>\n",
       "  </thead>\n",
       "  <tbody>\n",
       "    <tr>\n",
       "      <th>0</th>\n",
       "      <td>Mock</td>\n",
       "      <td>210209D0005_siNC_Mock.fsa</td>\n",
       "      <td>T11</td>\n",
       "      <td>5TOPwt-TRICK</td>\n",
       "      <td>siNC</td>\n",
       "      <td>153</td>\n",
       "      <td>1</td>\n",
       "      <td>4</td>\n",
       "      <td>genescan500liz</td>\n",
       "    </tr>\n",
       "    <tr>\n",
       "      <th>1</th>\n",
       "      <td>0 m</td>\n",
       "      <td>210209D0005_siNC_0m.fsa</td>\n",
       "      <td>T11</td>\n",
       "      <td>5TOPwt-TRICK</td>\n",
       "      <td>siNC</td>\n",
       "      <td>153</td>\n",
       "      <td>1</td>\n",
       "      <td>4</td>\n",
       "      <td>genescan500liz</td>\n",
       "    </tr>\n",
       "    <tr>\n",
       "      <th>2</th>\n",
       "      <td>30 m</td>\n",
       "      <td>210209D0005_siNC_30m.fsa</td>\n",
       "      <td>T11</td>\n",
       "      <td>5TOPwt-TRICK</td>\n",
       "      <td>siNC</td>\n",
       "      <td>153</td>\n",
       "      <td>1</td>\n",
       "      <td>4</td>\n",
       "      <td>genescan500liz</td>\n",
       "    </tr>\n",
       "    <tr>\n",
       "      <th>3</th>\n",
       "      <td>60 m</td>\n",
       "      <td>210209D0005_siNC_60m.fsa</td>\n",
       "      <td>T11</td>\n",
       "      <td>5TOPwt-TRICK</td>\n",
       "      <td>siNC</td>\n",
       "      <td>153</td>\n",
       "      <td>1</td>\n",
       "      <td>4</td>\n",
       "      <td>genescan500liz</td>\n",
       "    </tr>\n",
       "    <tr>\n",
       "      <th>4</th>\n",
       "      <td>90 m</td>\n",
       "      <td>210209D0005_siNC_90m.fsa</td>\n",
       "      <td>T11</td>\n",
       "      <td>5TOPwt-TRICK</td>\n",
       "      <td>siNC</td>\n",
       "      <td>153</td>\n",
       "      <td>1</td>\n",
       "      <td>4</td>\n",
       "      <td>genescan500liz</td>\n",
       "    </tr>\n",
       "    <tr>\n",
       "      <th>5</th>\n",
       "      <td>120 m</td>\n",
       "      <td>210209D0005_siNC_120m.fsa</td>\n",
       "      <td>T11</td>\n",
       "      <td>5TOPwt-TRICK</td>\n",
       "      <td>siNC</td>\n",
       "      <td>153</td>\n",
       "      <td>1</td>\n",
       "      <td>4</td>\n",
       "      <td>genescan500liz</td>\n",
       "    </tr>\n",
       "    <tr>\n",
       "      <th>6</th>\n",
       "      <td>Mock</td>\n",
       "      <td>210209D0005_siLARP1-3_Mock.fsa</td>\n",
       "      <td>T11</td>\n",
       "      <td>5TOPwt-TRICK</td>\n",
       "      <td>siLARP1-3</td>\n",
       "      <td>153</td>\n",
       "      <td>1</td>\n",
       "      <td>4</td>\n",
       "      <td>genescan500liz</td>\n",
       "    </tr>\n",
       "    <tr>\n",
       "      <th>7</th>\n",
       "      <td>0 m</td>\n",
       "      <td>210209D0005_siLARP1-3_0m.fsa</td>\n",
       "      <td>T11</td>\n",
       "      <td>5TOPwt-TRICK</td>\n",
       "      <td>siLARP1-3</td>\n",
       "      <td>153</td>\n",
       "      <td>1</td>\n",
       "      <td>4</td>\n",
       "      <td>genescan500liz</td>\n",
       "    </tr>\n",
       "    <tr>\n",
       "      <th>8</th>\n",
       "      <td>30 m</td>\n",
       "      <td>210209D0005_siLARP1-3_30m.fsa</td>\n",
       "      <td>T11</td>\n",
       "      <td>5TOPwt-TRICK</td>\n",
       "      <td>siLARP1-3</td>\n",
       "      <td>153</td>\n",
       "      <td>1</td>\n",
       "      <td>4</td>\n",
       "      <td>genescan500liz</td>\n",
       "    </tr>\n",
       "    <tr>\n",
       "      <th>9</th>\n",
       "      <td>60 m</td>\n",
       "      <td>210209D0005_siLARP1-3_60m.fsa</td>\n",
       "      <td>T11</td>\n",
       "      <td>5TOPwt-TRICK</td>\n",
       "      <td>siLARP1-3</td>\n",
       "      <td>153</td>\n",
       "      <td>1</td>\n",
       "      <td>4</td>\n",
       "      <td>genescan500liz</td>\n",
       "    </tr>\n",
       "    <tr>\n",
       "      <th>10</th>\n",
       "      <td>90 m</td>\n",
       "      <td>210209D0005_siLARP1-3_90m.fsa</td>\n",
       "      <td>T11</td>\n",
       "      <td>5TOPwt-TRICK</td>\n",
       "      <td>siLARP1-3</td>\n",
       "      <td>153</td>\n",
       "      <td>1</td>\n",
       "      <td>4</td>\n",
       "      <td>genescan500liz</td>\n",
       "    </tr>\n",
       "    <tr>\n",
       "      <th>11</th>\n",
       "      <td>120 m</td>\n",
       "      <td>210209D0005_siLARP1-3_120m.fsa</td>\n",
       "      <td>T11</td>\n",
       "      <td>5TOPwt-TRICK</td>\n",
       "      <td>siLARP1-3</td>\n",
       "      <td>153</td>\n",
       "      <td>1</td>\n",
       "      <td>4</td>\n",
       "      <td>genescan500liz</td>\n",
       "    </tr>\n",
       "    <tr>\n",
       "      <th>12</th>\n",
       "      <td>Mock</td>\n",
       "      <td>210209D0005_siLARP1-SM_Mock.fsa</td>\n",
       "      <td>T11</td>\n",
       "      <td>5TOPwt-TRICK</td>\n",
       "      <td>siLARP1-SM</td>\n",
       "      <td>153</td>\n",
       "      <td>1</td>\n",
       "      <td>4</td>\n",
       "      <td>genescan500liz</td>\n",
       "    </tr>\n",
       "    <tr>\n",
       "      <th>13</th>\n",
       "      <td>0 m</td>\n",
       "      <td>210209D0005_siLARP1-SM_0m.fsa</td>\n",
       "      <td>T11</td>\n",
       "      <td>5TOPwt-TRICK</td>\n",
       "      <td>siLARP1-SM</td>\n",
       "      <td>153</td>\n",
       "      <td>1</td>\n",
       "      <td>4</td>\n",
       "      <td>genescan500liz</td>\n",
       "    </tr>\n",
       "    <tr>\n",
       "      <th>14</th>\n",
       "      <td>30 m</td>\n",
       "      <td>210209D0005_siLARP1-SM_30m.fsa</td>\n",
       "      <td>T11</td>\n",
       "      <td>5TOPwt-TRICK</td>\n",
       "      <td>siLARP1-SM</td>\n",
       "      <td>153</td>\n",
       "      <td>1</td>\n",
       "      <td>4</td>\n",
       "      <td>genescan500liz</td>\n",
       "    </tr>\n",
       "    <tr>\n",
       "      <th>15</th>\n",
       "      <td>60 m</td>\n",
       "      <td>210209D0005_siLARP1-SM_60m.fsa</td>\n",
       "      <td>T11</td>\n",
       "      <td>5TOPwt-TRICK</td>\n",
       "      <td>siLARP1-SM</td>\n",
       "      <td>153</td>\n",
       "      <td>1</td>\n",
       "      <td>4</td>\n",
       "      <td>genescan500liz</td>\n",
       "    </tr>\n",
       "    <tr>\n",
       "      <th>16</th>\n",
       "      <td>90 m</td>\n",
       "      <td>210209D0005_siLARP1-SM_90m.fsa</td>\n",
       "      <td>T11</td>\n",
       "      <td>5TOPwt-TRICK</td>\n",
       "      <td>siLARP1-SM</td>\n",
       "      <td>153</td>\n",
       "      <td>1</td>\n",
       "      <td>4</td>\n",
       "      <td>genescan500liz</td>\n",
       "    </tr>\n",
       "    <tr>\n",
       "      <th>17</th>\n",
       "      <td>120 m</td>\n",
       "      <td>210209D0005_siLARP1-SM_120m.fsa</td>\n",
       "      <td>T11</td>\n",
       "      <td>5TOPwt-TRICK</td>\n",
       "      <td>siLARP1-SM</td>\n",
       "      <td>153</td>\n",
       "      <td>1</td>\n",
       "      <td>4</td>\n",
       "      <td>genescan500liz</td>\n",
       "    </tr>\n",
       "  </tbody>\n",
       "</table>\n",
       "</div>"
      ],
      "text/plain": [
       "   Sample                         Filename Cell          Gene       Group  \\\n",
       "0    Mock        210209D0005_siNC_Mock.fsa  T11  5TOPwt-TRICK        siNC   \n",
       "1     0 m          210209D0005_siNC_0m.fsa  T11  5TOPwt-TRICK        siNC   \n",
       "2    30 m         210209D0005_siNC_30m.fsa  T11  5TOPwt-TRICK        siNC   \n",
       "3    60 m         210209D0005_siNC_60m.fsa  T11  5TOPwt-TRICK        siNC   \n",
       "4    90 m         210209D0005_siNC_90m.fsa  T11  5TOPwt-TRICK        siNC   \n",
       "5   120 m        210209D0005_siNC_120m.fsa  T11  5TOPwt-TRICK        siNC   \n",
       "6    Mock   210209D0005_siLARP1-3_Mock.fsa  T11  5TOPwt-TRICK   siLARP1-3   \n",
       "7     0 m     210209D0005_siLARP1-3_0m.fsa  T11  5TOPwt-TRICK   siLARP1-3   \n",
       "8    30 m    210209D0005_siLARP1-3_30m.fsa  T11  5TOPwt-TRICK   siLARP1-3   \n",
       "9    60 m    210209D0005_siLARP1-3_60m.fsa  T11  5TOPwt-TRICK   siLARP1-3   \n",
       "10   90 m    210209D0005_siLARP1-3_90m.fsa  T11  5TOPwt-TRICK   siLARP1-3   \n",
       "11  120 m   210209D0005_siLARP1-3_120m.fsa  T11  5TOPwt-TRICK   siLARP1-3   \n",
       "12   Mock  210209D0005_siLARP1-SM_Mock.fsa  T11  5TOPwt-TRICK  siLARP1-SM   \n",
       "13    0 m    210209D0005_siLARP1-SM_0m.fsa  T11  5TOPwt-TRICK  siLARP1-SM   \n",
       "14   30 m   210209D0005_siLARP1-SM_30m.fsa  T11  5TOPwt-TRICK  siLARP1-SM   \n",
       "15   60 m   210209D0005_siLARP1-SM_60m.fsa  T11  5TOPwt-TRICK  siLARP1-SM   \n",
       "16   90 m   210209D0005_siLARP1-SM_90m.fsa  T11  5TOPwt-TRICK  siLARP1-SM   \n",
       "17  120 m  210209D0005_siLARP1-SM_120m.fsa  T11  5TOPwt-TRICK  siLARP1-SM   \n",
       "\n",
       "    Baseline  Data_lane  Control_lane     Control_set  \n",
       "0        153          1             4  genescan500liz  \n",
       "1        153          1             4  genescan500liz  \n",
       "2        153          1             4  genescan500liz  \n",
       "3        153          1             4  genescan500liz  \n",
       "4        153          1             4  genescan500liz  \n",
       "5        153          1             4  genescan500liz  \n",
       "6        153          1             4  genescan500liz  \n",
       "7        153          1             4  genescan500liz  \n",
       "8        153          1             4  genescan500liz  \n",
       "9        153          1             4  genescan500liz  \n",
       "10       153          1             4  genescan500liz  \n",
       "11       153          1             4  genescan500liz  \n",
       "12       153          1             4  genescan500liz  \n",
       "13       153          1             4  genescan500liz  \n",
       "14       153          1             4  genescan500liz  \n",
       "15       153          1             4  genescan500liz  \n",
       "16       153          1             4  genescan500liz  \n",
       "17       153          1             4  genescan500liz  "
      ]
     },
     "execution_count": 76,
     "metadata": {},
     "output_type": "execute_result"
    }
   ],
   "source": [
    "datadir = Path(\"../data/hire-pat\")\n",
    "smptblpath = datadir/work/\"samples.txt\"\n",
    "smptbl = pd.read_csv(smptblpath, sep='\\t', comment='#')\n",
    "fsafpaths = [datadir/work/fname for fname in smptbl['Filename']]\n",
    "smptbl"
   ]
  },
  {
   "cell_type": "markdown",
   "metadata": {},
   "source": [
    "#### Visualise raw fluorescence signals"
   ]
  },
  {
   "cell_type": "markdown",
   "metadata": {},
   "source": [
    "GeneScanLIZ500 size markers (bp)  \n",
    "35, 50, 75, 100, 139, 150, 160, 200, 250, 300, 340, 350, 400, 450, 490, 500\n",
    "\n",
    "typically, data_lane = 1 and marker_lane = 4 or 105"
   ]
  },
  {
   "cell_type": "code",
   "execution_count": 77,
   "metadata": {},
   "outputs": [],
   "source": [
    "# Load data for every fsa file\n",
    "lanes = [1, 4]\n",
    "fsas = OrderedDict()\n",
    "for idx, fsafpath in zip(smptbl.index, fsafpaths):\n",
    "    fsa = FSAAnalyzer(fsafpath, marker_lane=4)\n",
    "    for lane in lanes:\n",
    "        fsa.load(lane)\n",
    "        fsa.get_marker_peaks(height_filter_tolerance_factor=0.5)\n",
    "        \n",
    "    fsas[idx] = fsa\n"
   ]
  },
  {
   "cell_type": "code",
   "execution_count": 78,
   "metadata": {},
   "outputs": [
    {
     "data": {
      "application/vnd.jupyter.widget-view+json": {
       "model_id": "b593b6bbaecc491d8b7ea20954f41f0a",
       "version_major": 2,
       "version_minor": 0
      },
      "text/plain": [
       "interactive(children=(Dropdown(description='lane', options=(4, 1), value=4), Text(value='gray', description='c…"
      ]
     },
     "metadata": {},
     "output_type": "display_data"
    },
    {
     "data": {
      "text/plain": [
       "<function __main__.show_intensity_by_lane(lane, c, force)>"
      ]
     },
     "execution_count": 78,
     "metadata": {},
     "output_type": "execute_result"
    }
   ],
   "source": [
    "# Visualize raw signal intensity by lane for sanity check\n",
    "# Also, find and show peak positions for the marker lane\n",
    "\n",
    "lanes = [1,4]\n",
    "xlim= 800,8000\n",
    "ylim= 0,2000\n",
    "\n",
    "def show_intensity_by_lane(lane, c, force):\n",
    "    global fsafpaths, xlim, ylim\n",
    "    fig, axes = plt.subplots(len(fsafpaths), 1, figsize=(8,len(fsafpaths)*1), sharex=True)\n",
    "    plt.subplots_adjust(hspace=0)\n",
    "    for i, fsa in fsas.items():\n",
    "        ax = axes.ravel()[i]\n",
    "        smp = smptbl.iloc[i,0]\n",
    "        \n",
    "        y = fsa.data[lane]\n",
    "        x = np.arange(len(y))\n",
    "        \n",
    "        ax.plot(x, y, c=c)\n",
    "        \n",
    "        if lane == fsa.marker_lane:\n",
    "            for x in fsa.get_marker_peaks(force=force, height_filter_tolerance_factor=0.5):\n",
    "                ax.axvline(x, color=\"r\", ls='--', alpha=0.5)\n",
    "        \n",
    "        ax.text(0.99, 0.05, s=f\"fidx:{i}, {smp}\", transform=ax.transAxes, ha='right')\n",
    "        \n",
    "        if xlim: ax.set_xlim(xlim)\n",
    "        if ylim: ax.set_ylim(ylim) \n",
    "        \n",
    "    plt.show()\n",
    "    return\n",
    "# show_intensity_by_lane(lane, xlim=(500,1500), c='gray')\n",
    "interact(show_intensity_by_lane, lane=lanes[::-1], c='gray', force=True)"
   ]
  },
  {
   "cell_type": "markdown",
   "metadata": {},
   "source": [
    "### Manually correct the marker peak positions (optional)"
   ]
  },
  {
   "cell_type": "code",
   "execution_count": 57,
   "metadata": {},
   "outputs": [],
   "source": [
    "def show_signals_with_marker_peaks(fsa, marker_peaks, lane=4, xlim=None, ylim=None):\n",
    "    fig, ax = plt.subplots(figsize=(5,1))\n",
    "    y = fsa.data[lane]\n",
    "    x = np.arange(len(y))\n",
    "    ax.plot(x, y)\n",
    "    \n",
    "    for x in marker_peaks:\n",
    "        ax.axvline(x, color=\"r\", ls='--', alpha=0.5)\n",
    "    \n",
    "    ax.set_xlim(xlim)\n",
    "    ax.set_ylim(ylim)\n",
    "    plt.show()\n",
    "    \n",
    "    print(marker_peaks)\n",
    "    return"
   ]
  },
  {
   "cell_type": "code",
   "execution_count": 58,
   "metadata": {},
   "outputs": [
    {
     "data": {
      "image/png": "[encoded data removed]",
      "text/plain": [
       "<Figure size 360x72 with 1 Axes>"
      ]
     },
     "metadata": {
      "needs_background": "light"
     },
     "output_type": "display_data"
    },
    {
     "name": "stdout",
     "output_type": "stream",
     "text": [
      "[1470 1747 2017 2458 2570 2683 3148 4350 4821 4943 5574 6163 6651 6753]\n"
     ]
    }
   ],
   "source": [
    "fidx = 17\n",
    "fsa = fsas[fidx]\n",
    "# marker_peaks = fsa.get_marker_peaks(force=True, height_filter_tolerance_factor=0.5)\n",
    "show_signals_with_marker_peaks(fsa, fsa.marker_peaks, xlim=xlim, ylim=ylim)"
   ]
  },
  {
   "cell_type": "code",
   "execution_count": 59,
   "metadata": {},
   "outputs": [],
   "source": [
    "fixes = {\n",
    "    \"210321\": {\n",
    "        17: [[3700],[]],\n",
    "    }\n",
    "}"
   ]
  },
  {
   "cell_type": "code",
   "execution_count": 60,
   "metadata": {},
   "outputs": [
    {
     "data": {
      "image/png": "[encoded data removed]",
      "text/plain": [
       "<Figure size 360x72 with 1 Axes>"
      ]
     },
     "metadata": {
      "needs_background": "light"
     },
     "output_type": "display_data"
    },
    {
     "name": "stdout",
     "output_type": "stream",
     "text": [
      "[1470 1747 2017 2458 2570 2683 3148 3700 4350 4821 4943 5574 6163 6651\n",
      " 6753]\n"
     ]
    }
   ],
   "source": [
    "fix = True\n",
    "\n",
    "fidx = 17\n",
    "fsa = fsas[fidx]\n",
    "\n",
    "to_add = fixes[work][fidx][0]\n",
    "to_remove = fixes[work][fidx][1]\n",
    "\n",
    "\n",
    "fsa.add_marker_peaks(to_add)\n",
    "fsa.remove_marker_peaks(to_remove)\n",
    "    \n",
    "show_signals_with_marker_peaks(fsa, fsa.marker_peaks, xlim=xlim, ylim=ylim)\n",
    "    \n",
    "if fix is False:\n",
    "    fsa.remove_marker_peaks(to_add)\n",
    "    fsa.add_marker_peaks(to_remove)\n",
    "\n"
   ]
  },
  {
   "cell_type": "markdown",
   "metadata": {},
   "source": [
    "### Plotting the results"
   ]
  },
  {
   "cell_type": "code",
   "execution_count": 80,
   "metadata": {},
   "outputs": [
    {
     "name": "stdout",
     "output_type": "stream",
     "text": [
      "5TOPwt-TRICK siLARP1-3\n"
     ]
    },
    {
     "data": {
      "image/png": "[encoded data removed]",
      "text/plain": [
       "<Figure size 360x72 with 1 Axes>"
      ]
     },
     "metadata": {
      "needs_background": "light"
     },
     "output_type": "display_data"
    },
    {
     "name": "stdout",
     "output_type": "stream",
     "text": [
      "5TOPwt-TRICK siLARP1-SM\n"
     ]
    },
    {
     "data": {
      "image/png": "[encoded data removed]",
      "text/plain": [
       "<Figure size 360x72 with 1 Axes>"
      ]
     },
     "metadata": {
      "needs_background": "light"
     },
     "output_type": "display_data"
    },
    {
     "name": "stdout",
     "output_type": "stream",
     "text": [
      "5TOPwt-TRICK siNC\n"
     ]
    },
    {
     "data": {
      "image/png": "[encoded data removed]",
      "text/plain": [
       "<Figure size 360x72 with 1 Axes>"
      ]
     },
     "metadata": {
      "needs_background": "light"
     },
     "output_type": "display_data"
    }
   ],
   "source": [
    "## Color settings\n",
    "\n",
    "color_graduation = True\n",
    "color_grad_pads = (2,0)\n",
    "include_mock = False\n",
    "\n",
    "if include_mock is False:\n",
    "    smptbl = smptbl[smptbl['Sample'] != 'Mock']\n",
    "\n",
    "# colors by group\n",
    "colors = { \n",
    "    'mock': '#000000',\n",
    "    'Mock': '#000000',\n",
    "    'siNC': '#222222',\n",
    "    \n",
    "    'LARP1': '#8C000F',\n",
    "    'siLARP1': '#8C000F',\n",
    "    'siLARP1-3': '#8C000F',\n",
    "    'siLARP1-SM': '#8C000F',\n",
    "    \n",
    "    'LARP4': '#93C01F',\n",
    "    'siLARP4_4B': '#0A481E',\n",
    "    \n",
    "    'siDecay': '#6A008B',    \n",
    "}\n",
    "\n",
    "palettes = dict()\n",
    "for (gene, group), gr in smptbl.groupby(['Gene','Group']):\n",
    "    if color_graduation is True:\n",
    "        n_colors = len(gr)\n",
    "        palette = sequential_palette(colors.get(group, 'black'), n_colors + np.sum(color_grad_pads))[color_grad_pads[0]: color_grad_pads[0] + n_colors]\n",
    "        \n",
    "    else:\n",
    "        palette = [colors[smp] for smp in gr.loc[:,'Sample']]\n",
    "        \n",
    "    if include_mock is True:\n",
    "        palette = [[0,0,0]] + palette[1:]\n",
    "        \n",
    "    palettes[(gene,group)] = palette\n",
    "    \n",
    "    sns.palplot(palette)\n",
    "    print( gene, group )\n",
    "    plt.show()"
   ]
  },
  {
   "cell_type": "markdown",
   "metadata": {},
   "source": [
    "Plot individually"
   ]
  },
  {
   "cell_type": "code",
   "execution_count": 82,
   "metadata": {},
   "outputs": [
    {
     "name": "stdout",
     "output_type": "stream",
     "text": [
      "../plots/hire-pat_210209-T11-5TOPwt-TRICK-siLARP1-3_normed_mini.pdf\n"
     ]
    },
    {
     "data": {
      "image/png": "[encoded data removed]",
      "text/plain": [
       "<Figure size 259.2x100.8 with 1 Axes>"
      ]
     },
     "metadata": {},
     "output_type": "display_data"
    },
    {
     "name": "stdout",
     "output_type": "stream",
     "text": [
      "../plots/hire-pat_210209-T11-5TOPwt-TRICK-siLARP1-SM_normed_mini.pdf\n"
     ]
    },
    {
     "data": {
      "image/png": "[encoded data removed]",
      "text/plain": [
       "<Figure size 259.2x100.8 with 1 Axes>"
      ]
     },
     "metadata": {},
     "output_type": "display_data"
    },
    {
     "name": "stdout",
     "output_type": "stream",
     "text": [
      "../plots/hire-pat_210209-T11-5TOPwt-TRICK-siNC_normed_mini.pdf\n"
     ]
    },
    {
     "data": {
      "image/png": "[encoded data removed]",
      "text/plain": [
       "<Figure size 259.2x100.8 with 1 Axes>"
      ]
     },
     "metadata": {},
     "output_type": "display_data"
    }
   ],
   "source": [
    "# Configurations\n",
    "savefig = True\n",
    "savepkl = False\n",
    "normed = True\n",
    "rescale_intensity = None\n",
    "display_pAmode = False\n",
    "# figsize = 9, 3.4\n",
    "figsize = 7.2, 2.8\n",
    "xmin, xmax = 0, 250 # a range of poly(A) tail length\n",
    "smoothing_window_len = 60\n",
    "\n",
    "minifig = True\n",
    "\n",
    "styles = ['barricade']\n",
    "if minifig is True: \n",
    "    styles.append('mini')\n",
    "    figsize = list(map(lambda x:x/2, figsize))\n",
    "\n",
    "with plt.style.context(styles):\n",
    "    groups = smptbl.groupby(['Gene', 'Cell', 'Group'])\n",
    "    for (gene, cell, group), gr in groups:\n",
    "        fig, ax = plt.subplots(figsize=figsize)\n",
    "        pAmodes = list()\n",
    "        global_ymax = None\n",
    "        \n",
    "        for ci, (idx, entry) in enumerate(gr.iterrows()):\n",
    "            fsa = fsas[idx]\n",
    "            size, intensity = fsa.get(entry['Data_lane'])\n",
    "            size -= entry['Baseline'] # exclude the mRNA body size\n",
    "            target_range = (xmin < size) * (size < xmax)\n",
    "            \n",
    "            x = size[target_range]\n",
    "            \n",
    "            y = smooth(intensity[target_range], window_len=smoothing_window_len)\n",
    "            y += np.abs(y.min()) # correct the intensity baseline\n",
    "            \n",
    "            if rescale_intensity is not None: y = np.interp( y, (y.min(), y.max()), rescale_intensity ) \n",
    "            if normed is True: y = y / y.sum() * 100\n",
    "                \n",
    "            if global_ymax is None: global_ymax = y.max()\n",
    "            elif global_ymax < y.max(): global_ymax = y.max()\n",
    "                \n",
    "            # additional touch for DMSO vs. Torin 1 comparison\n",
    "            smp = entry['Sample']\n",
    "            ls = 'dotted' if smp.lower() == 'mock' else '-'\n",
    "                \n",
    "            ax.plot(x, y, color=palettes[(gene,group)][ci], label=smp, ls=ls, alpha=1)\n",
    "            \n",
    "            if display_pAmode is True:\n",
    "                pAmode = x[np.argmax(y)]\n",
    "                ax.text(x=pAmode, y=y.max(), s=\"*\", ha=\"center\", color=palettes[(gene,group)][ci], \n",
    "                        fontsize=\"xx-large\", fontweight=\"bold\", alpha=1)\n",
    "            \n",
    "            if savepkl is True:\n",
    "                outpklpath = datadir/work/entry[\"Filename\"].replace('.fsa','.pkl')\n",
    "                pickle.dump(tuple([x,y]), open(outpklpath, 'wb'))\n",
    "            \n",
    "        ## Grid and axes\n",
    "        ax.xaxis.set_minor_locator(AutoMinorLocator(5))\n",
    "        ax.yaxis.set_minor_locator(AutoMinorLocator(1)) \n",
    "        ax.xaxis.grid(True, which='major', color='#878787', linestyle='-', lw=0.5)\n",
    "        ax.xaxis.grid(True, which='minor', color='#878787', linestyle='--', lw=0.3)\n",
    "        ax.yaxis.grid(True, which='major', color='#878787', linestyle='-', lw=0.5)\n",
    "        ax.yaxis.grid(True, which='minor', color='#878787', linestyle='--', lw=0.3)\n",
    "        ax.set_xlim(xmin-5,xmax+5)\n",
    "        ax.set_ylim([0,global_ymax*1.2])\n",
    "#         ax.set_ylim([0, 0.3])\n",
    "        \n",
    "        ## Texts and labels\n",
    "        ax.set_title(\"{} - {} - {} - {}\".format(work, cell, gene, group), fontsize='medium')\n",
    "        xlabel = \"Poly(A) length (nt)\"\n",
    "        ylabel = \"Normalized signal (%)\" if normed is True else \"Signal intensity (a.u.)\"\n",
    "        ax.set_xlabel(xlabel); ax.set_ylabel(ylabel)\n",
    "        ax.legend(loc=\"upper right\", handlelength=1.0, ncol=1, columnspacing=0.8, fontsize='small')\n",
    "        \n",
    "        fname_adduct = \"\"\n",
    "        if savefig is True:\n",
    "            if normed: fname_adduct += \"_normed\"\n",
    "            if minifig is True: fname_adduct += \"_mini\"\n",
    "            outfigpath = \"../plots/hire-pat_{}-{}-{}-{}{}.pdf\".format(work, cell, gene, group, fname_adduct)\n",
    "            plt.savefig(outfigpath, dpi=300, bbox_inches=\"tight\")\n",
    "            print(outfigpath)\n",
    "        plt.show()\n"
   ]
  },
  {
   "cell_type": "code",
   "execution_count": null,
   "metadata": {},
   "outputs": [],
   "source": []
  }
 ],
 "metadata": {
  "kernelspec": {
   "display_name": "polya",
   "language": "python",
   "name": "polya"
  },
  "language_info": {
   "codemirror_mode": {
    "name": "ipython",
    "version": 3
   },
   "file_extension": ".py",
   "mimetype": "text/x-python",
   "name": "python",
   "nbconvert_exporter": "python",
   "pygments_lexer": "ipython3",
   "version": "3.7.7"
  }
 },
 "nbformat": 4,
 "nbformat_minor": 4
}
