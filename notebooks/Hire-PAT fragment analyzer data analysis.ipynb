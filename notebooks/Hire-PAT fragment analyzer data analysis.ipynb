{
 "cells": [
  {
   "cell_type": "markdown",
   "metadata": {},
   "source": [
    "# Hire-PAT fragment analyzer data analysis\n",
    "It reads `fsa` files generated from ABI fragment analyzer for High-resolution Poly(A)-tail Assay (Hire-PAT)"
   ]
  },
  {
   "cell_type": "code",
   "execution_count": 1,
   "metadata": {},
   "outputs": [],
   "source": [
    "# Built-in\n",
    "from collections import OrderedDict\n",
    "from pathlib import Path\n",
    "import pickle\n",
    "\n",
    "# Third-party\n",
    "from matplotlib import pyplot as plt\n",
    "from matplotlib.ticker import AutoMinorLocator\n",
    "from scipy.stats import binned_statistic\n",
    "from ipywidgets import interact\n",
    "\n",
    "import seaborn as sns\n",
    "import numpy as np\n",
    "\n",
    "# Local\n",
    "from polya.utils import FSAAnalyzer, smooth\n",
    "from polya.plot import sequential_palette, custom_cmap\n",
    "\n",
    "styles = ['../polya.mplstyle']"
   ]
  },
  {
   "cell_type": "code",
   "execution_count": 2,
   "metadata": {},
   "outputs": [],
   "source": [
    "work = \"190729-1\""
   ]
  },
  {
   "cell_type": "code",
   "execution_count": 3,
   "metadata": {},
   "outputs": [
    {
     "data": {
      "text/html": [
       "<style>\n",
       "table {float:left}\n",
       "</style>\n"
      ],
      "text/plain": [
       "<IPython.core.display.HTML object>"
      ]
     },
     "metadata": {},
     "output_type": "display_data"
    }
   ],
   "source": [
    "%%html\n",
    "<style>\n",
    "table {float:left}\n",
    "</style>"
   ]
  },
  {
   "cell_type": "markdown",
   "metadata": {},
   "source": [
    "### Sample descriptions\n",
    "| Work (date) | Note | Figure |\n",
    "| ---- | ----- | ---- |\n",
    "| 190729-1 | TOP reporter 20 m tracing | Fig. 1e |\n",
    "| 191217-2 | TOP reporter Decay factor KD 40 m tracing | Fig. S1b |\n",
    "| 210209 | TOP reporter LARP1 KD and 30m tracing | Figs. 3a, S3d |\n",
    "| 210321 | Non-TOP reporter LARP1 KD and 30m tracing | Figs. 3b, S3d |\n",
    "| 210322 | Endogenous mRNAs steady-state poly(A) length after LARP1 KD (siLARP1 #2) | Fig. S3e |"
   ]
  },
  {
   "cell_type": "code",
   "execution_count": 4,
   "metadata": {},
   "outputs": [
    {
     "data": {
      "text/html": [
       "<div>\n",
       "<style scoped>\n",
       "    .dataframe tbody tr th:only-of-type {\n",
       "        vertical-align: middle;\n",
       "    }\n",
       "\n",
       "    .dataframe tbody tr th {\n",
       "        vertical-align: top;\n",
       "    }\n",
       "\n",
       "    .dataframe thead th {\n",
       "        text-align: right;\n",
       "    }\n",
       "</style>\n",
       "<table border=\"1\" class=\"dataframe\">\n",
       "  <thead>\n",
       "    <tr style=\"text-align: right;\">\n",
       "      <th></th>\n",
       "      <th>Sample</th>\n",
       "      <th>Filename</th>\n",
       "      <th>Cell</th>\n",
       "      <th>Gene</th>\n",
       "      <th>Group</th>\n",
       "      <th>Baseline</th>\n",
       "      <th>Data_lane</th>\n",
       "      <th>Control_lane</th>\n",
       "      <th>Control_set</th>\n",
       "    </tr>\n",
       "  </thead>\n",
       "  <tbody>\n",
       "    <tr>\n",
       "      <th>0</th>\n",
       "      <td>0 m</td>\n",
       "      <td>T11-0m.fsa</td>\n",
       "      <td>T11</td>\n",
       "      <td>5TOPwt-TRICK</td>\n",
       "      <td>TOP</td>\n",
       "      <td>153</td>\n",
       "      <td>1</td>\n",
       "      <td>105</td>\n",
       "      <td>genescan500liz</td>\n",
       "    </tr>\n",
       "    <tr>\n",
       "      <th>1</th>\n",
       "      <td>20 m</td>\n",
       "      <td>T11-20m.fsa</td>\n",
       "      <td>T11</td>\n",
       "      <td>5TOPwt-TRICK</td>\n",
       "      <td>TOP</td>\n",
       "      <td>153</td>\n",
       "      <td>1</td>\n",
       "      <td>105</td>\n",
       "      <td>genescan500liz</td>\n",
       "    </tr>\n",
       "    <tr>\n",
       "      <th>2</th>\n",
       "      <td>40 m</td>\n",
       "      <td>T11-40m.fsa</td>\n",
       "      <td>T11</td>\n",
       "      <td>5TOPwt-TRICK</td>\n",
       "      <td>TOP</td>\n",
       "      <td>153</td>\n",
       "      <td>1</td>\n",
       "      <td>105</td>\n",
       "      <td>genescan500liz</td>\n",
       "    </tr>\n",
       "    <tr>\n",
       "      <th>3</th>\n",
       "      <td>60 m</td>\n",
       "      <td>T11-60m.fsa</td>\n",
       "      <td>T11</td>\n",
       "      <td>5TOPwt-TRICK</td>\n",
       "      <td>TOP</td>\n",
       "      <td>153</td>\n",
       "      <td>1</td>\n",
       "      <td>105</td>\n",
       "      <td>genescan500liz</td>\n",
       "    </tr>\n",
       "    <tr>\n",
       "      <th>4</th>\n",
       "      <td>80 m</td>\n",
       "      <td>T11-80m.fsa</td>\n",
       "      <td>T11</td>\n",
       "      <td>5TOPwt-TRICK</td>\n",
       "      <td>TOP</td>\n",
       "      <td>153</td>\n",
       "      <td>1</td>\n",
       "      <td>105</td>\n",
       "      <td>genescan500liz</td>\n",
       "    </tr>\n",
       "    <tr>\n",
       "      <th>5</th>\n",
       "      <td>100 m</td>\n",
       "      <td>T11-100m.fsa</td>\n",
       "      <td>T11</td>\n",
       "      <td>5TOPwt-TRICK</td>\n",
       "      <td>TOP</td>\n",
       "      <td>153</td>\n",
       "      <td>1</td>\n",
       "      <td>105</td>\n",
       "      <td>genescan500liz</td>\n",
       "    </tr>\n",
       "    <tr>\n",
       "      <th>6</th>\n",
       "      <td>120 m</td>\n",
       "      <td>T11-120m.fsa</td>\n",
       "      <td>T11</td>\n",
       "      <td>5TOPwt-TRICK</td>\n",
       "      <td>TOP</td>\n",
       "      <td>153</td>\n",
       "      <td>1</td>\n",
       "      <td>105</td>\n",
       "      <td>genescan500liz</td>\n",
       "    </tr>\n",
       "    <tr>\n",
       "      <th>7</th>\n",
       "      <td>140 m</td>\n",
       "      <td>T11-140m.fsa</td>\n",
       "      <td>T11</td>\n",
       "      <td>5TOPwt-TRICK</td>\n",
       "      <td>TOP</td>\n",
       "      <td>153</td>\n",
       "      <td>1</td>\n",
       "      <td>105</td>\n",
       "      <td>genescan500liz</td>\n",
       "    </tr>\n",
       "    <tr>\n",
       "      <th>8</th>\n",
       "      <td>160 m</td>\n",
       "      <td>T11-160m.fsa</td>\n",
       "      <td>T11</td>\n",
       "      <td>5TOPwt-TRICK</td>\n",
       "      <td>TOP</td>\n",
       "      <td>153</td>\n",
       "      <td>1</td>\n",
       "      <td>105</td>\n",
       "      <td>genescan500liz</td>\n",
       "    </tr>\n",
       "    <tr>\n",
       "      <th>9</th>\n",
       "      <td>180 m</td>\n",
       "      <td>T11-180m.fsa</td>\n",
       "      <td>T11</td>\n",
       "      <td>5TOPwt-TRICK</td>\n",
       "      <td>TOP</td>\n",
       "      <td>153</td>\n",
       "      <td>1</td>\n",
       "      <td>105</td>\n",
       "      <td>genescan500liz</td>\n",
       "    </tr>\n",
       "  </tbody>\n",
       "</table>\n",
       "</div>"
      ],
      "text/plain": [
       "  Sample      Filename Cell          Gene Group  Baseline  Data_lane  \\\n",
       "0    0 m    T11-0m.fsa  T11  5TOPwt-TRICK   TOP       153          1   \n",
       "1   20 m   T11-20m.fsa  T11  5TOPwt-TRICK   TOP       153          1   \n",
       "2   40 m   T11-40m.fsa  T11  5TOPwt-TRICK   TOP       153          1   \n",
       "3   60 m   T11-60m.fsa  T11  5TOPwt-TRICK   TOP       153          1   \n",
       "4   80 m   T11-80m.fsa  T11  5TOPwt-TRICK   TOP       153          1   \n",
       "5  100 m  T11-100m.fsa  T11  5TOPwt-TRICK   TOP       153          1   \n",
       "6  120 m  T11-120m.fsa  T11  5TOPwt-TRICK   TOP       153          1   \n",
       "7  140 m  T11-140m.fsa  T11  5TOPwt-TRICK   TOP       153          1   \n",
       "8  160 m  T11-160m.fsa  T11  5TOPwt-TRICK   TOP       153          1   \n",
       "9  180 m  T11-180m.fsa  T11  5TOPwt-TRICK   TOP       153          1   \n",
       "\n",
       "   Control_lane     Control_set  \n",
       "0           105  genescan500liz  \n",
       "1           105  genescan500liz  \n",
       "2           105  genescan500liz  \n",
       "3           105  genescan500liz  \n",
       "4           105  genescan500liz  \n",
       "5           105  genescan500liz  \n",
       "6           105  genescan500liz  \n",
       "7           105  genescan500liz  \n",
       "8           105  genescan500liz  \n",
       "9           105  genescan500liz  "
      ]
     },
     "execution_count": 4,
     "metadata": {},
     "output_type": "execute_result"
    }
   ],
   "source": [
    "datadir = Path(\"../data/hire-pat\")\n",
    "smptblpath = datadir/work/\"samples.txt\"\n",
    "smptbl = pd.read_csv(smptblpath, sep='\\t', comment='#')\n",
    "fsafpaths = [datadir/work/fname for fname in smptbl['Filename']]\n",
    "smptbl"
   ]
  },
  {
   "cell_type": "markdown",
   "metadata": {},
   "source": [
    "#### Visualise raw fluorescence signals"
   ]
  },
  {
   "cell_type": "markdown",
   "metadata": {},
   "source": [
    "GeneScanLIZ500 size markers (bp)  \n",
    "35, 50, 75, 100, 139, 150, 160, 200, 250, 300, 340, 350, 400, 450, 490, 500\n",
    "\n",
    "typically, data_lane = 1 and marker_lane = 4 or 105"
   ]
  },
  {
   "cell_type": "code",
   "execution_count": 5,
   "metadata": {},
   "outputs": [],
   "source": [
    "# Load data for every fsa file\n",
    "fsas = OrderedDict()\n",
    "for idx, fsafpath in zip(smptbl.index, fsafpaths):\n",
    "    lanes = smptbl.iloc[idx][['Data_lane', 'Control_lane']]\n",
    "    fsa = FSAAnalyzer(fsafpath, marker_lane=lanes[1])\n",
    "    \n",
    "    for lane in lanes:\n",
    "        fsa.load(lane)\n",
    "        fsa.get_marker_peaks(height_filter_tolerance_factor=0.5)\n",
    "        \n",
    "    fsas[idx] = fsa\n"
   ]
  },
  {
   "cell_type": "code",
   "execution_count": 6,
   "metadata": {},
   "outputs": [
    {
     "data": {
      "application/vnd.jupyter.widget-view+json": {
       "model_id": "5bf0625f3188452a98b8791214cbad51",
       "version_major": 2,
       "version_minor": 0
      },
      "text/plain": [
       "interactive(children=(Dropdown(description='lane', options=(105, 1), value=105), Text(value='gray', descriptio…"
      ]
     },
     "metadata": {},
     "output_type": "display_data"
    },
    {
     "data": {
      "text/plain": [
       "<function __main__.show_intensity_by_lane(lane, c, force)>"
      ]
     },
     "execution_count": 6,
     "metadata": {},
     "output_type": "execute_result"
    }
   ],
   "source": [
    "# Visualize raw signal intensity by lane for sanity check\n",
    "# Also, find and show peak positions for the marker lane\n",
    "\n",
    "lanes = [1,105]\n",
    "xlim= 800,8000\n",
    "ylim= 0,2000\n",
    "\n",
    "def show_intensity_by_lane(lane, c, force):\n",
    "    global fsafpaths, xlim, ylim\n",
    "    fig, axes = plt.subplots(len(fsafpaths), 1, figsize=(8,len(fsafpaths)*1), sharex=True)\n",
    "    plt.subplots_adjust(hspace=0)\n",
    "    for i, fsa in fsas.items():\n",
    "        ax = axes.ravel()[i]\n",
    "        smp = smptbl.iloc[i,0]\n",
    "        \n",
    "        y = fsa.data[lane]\n",
    "        x = np.arange(len(y))\n",
    "        \n",
    "        ax.plot(x, y, c=c)\n",
    "        \n",
    "        if lane == fsa.marker_lane:\n",
    "            for x in fsa.get_marker_peaks(force=force, height_filter_tolerance_factor=0.5):\n",
    "                ax.axvline(x, color=\"r\", ls='--', alpha=0.5)\n",
    "        \n",
    "        ax.text(0.99, 0.05, s=f\"fidx:{i}, {smp}\", transform=ax.transAxes, ha='right')\n",
    "        \n",
    "        if xlim: ax.set_xlim(xlim)\n",
    "        if ylim: ax.set_ylim(ylim) \n",
    "        \n",
    "    plt.show()\n",
    "    return\n",
    "# show_intensity_by_lane(lane, xlim=(500,1500), c='gray')\n",
    "interact(show_intensity_by_lane, lane=lanes[::-1], c='gray', force=True)"
   ]
  },
  {
   "cell_type": "markdown",
   "metadata": {},
   "source": [
    "### Manually correct the marker peak positions (optional)"
   ]
  },
  {
   "cell_type": "code",
   "execution_count": 7,
   "metadata": {},
   "outputs": [],
   "source": [
    "def show_signals_with_marker_peaks(fsa, marker_peaks, lane=4, xlim=None, ylim=None):\n",
    "    fig, ax = plt.subplots(figsize=(5,1))\n",
    "    y = fsa.data[lane]\n",
    "    x = np.arange(len(y))\n",
    "    ax.plot(x, y)\n",
    "    \n",
    "    for x in marker_peaks:\n",
    "        ax.axvline(x, color=\"r\", ls='--', alpha=0.5)\n",
    "    \n",
    "    ax.set_xlim(xlim)\n",
    "    ax.set_ylim(ylim)\n",
    "    plt.show()\n",
    "    \n",
    "    print(marker_peaks)\n",
    "    return"
   ]
  },
  {
   "cell_type": "code",
   "execution_count": 8,
   "metadata": {},
   "outputs": [
    {
     "ename": "KeyError",
     "evalue": "17",
     "output_type": "error",
     "traceback": [
      "\u001b[0;31m---------------------------------------------------------------------------\u001b[0m",
      "\u001b[0;31mKeyError\u001b[0m                                  Traceback (most recent call last)",
      "\u001b[0;32m<ipython-input-8-265ada6ce160>\u001b[0m in \u001b[0;36m<module>\u001b[0;34m\u001b[0m\n\u001b[1;32m      1\u001b[0m \u001b[0mfidx\u001b[0m \u001b[0;34m=\u001b[0m \u001b[0;36m17\u001b[0m\u001b[0;34m\u001b[0m\u001b[0;34m\u001b[0m\u001b[0m\n\u001b[0;32m----> 2\u001b[0;31m \u001b[0mfsa\u001b[0m \u001b[0;34m=\u001b[0m \u001b[0mfsas\u001b[0m\u001b[0;34m[\u001b[0m\u001b[0mfidx\u001b[0m\u001b[0;34m]\u001b[0m\u001b[0;34m\u001b[0m\u001b[0;34m\u001b[0m\u001b[0m\n\u001b[0m\u001b[1;32m      3\u001b[0m \u001b[0;31m# marker_peaks = fsa.get_marker_peaks(force=True, height_filter_tolerance_factor=0.5)\u001b[0m\u001b[0;34m\u001b[0m\u001b[0;34m\u001b[0m\u001b[0;34m\u001b[0m\u001b[0m\n\u001b[1;32m      4\u001b[0m \u001b[0mshow_signals_with_marker_peaks\u001b[0m\u001b[0;34m(\u001b[0m\u001b[0mfsa\u001b[0m\u001b[0;34m,\u001b[0m \u001b[0mfsa\u001b[0m\u001b[0;34m.\u001b[0m\u001b[0mmarker_peaks\u001b[0m\u001b[0;34m,\u001b[0m \u001b[0mxlim\u001b[0m\u001b[0;34m=\u001b[0m\u001b[0mxlim\u001b[0m\u001b[0;34m,\u001b[0m \u001b[0mylim\u001b[0m\u001b[0;34m=\u001b[0m\u001b[0mylim\u001b[0m\u001b[0;34m)\u001b[0m\u001b[0;34m\u001b[0m\u001b[0;34m\u001b[0m\u001b[0m\n",
      "\u001b[0;31mKeyError\u001b[0m: 17"
     ]
    }
   ],
   "source": [
    "fidx = 17\n",
    "fsa = fsas[fidx]\n",
    "# marker_peaks = fsa.get_marker_peaks(force=True, height_filter_tolerance_factor=0.5)\n",
    "show_signals_with_marker_peaks(fsa, fsa.marker_peaks, xlim=xlim, ylim=ylim)"
   ]
  },
  {
   "cell_type": "code",
   "execution_count": null,
   "metadata": {},
   "outputs": [],
   "source": [
    "fixes = {\n",
    "    \"210321\": {\n",
    "        17: [[3700],[]],\n",
    "    }\n",
    "}"
   ]
  },
  {
   "cell_type": "code",
   "execution_count": null,
   "metadata": {},
   "outputs": [],
   "source": [
    "fix = True\n",
    "\n",
    "fidx = 17\n",
    "fsa = fsas[fidx]\n",
    "\n",
    "to_add = fixes[work][fidx][0]\n",
    "to_remove = fixes[work][fidx][1]\n",
    "\n",
    "\n",
    "fsa.add_marker_peaks(to_add)\n",
    "fsa.remove_marker_peaks(to_remove)\n",
    "    \n",
    "show_signals_with_marker_peaks(fsa, fsa.marker_peaks, xlim=xlim, ylim=ylim)\n",
    "    \n",
    "if fix is False:\n",
    "    fsa.remove_marker_peaks(to_add)\n",
    "    fsa.add_marker_peaks(to_remove)\n",
    "\n"
   ]
  },
  {
   "cell_type": "markdown",
   "metadata": {},
   "source": [
    "### Plotting the results"
   ]
  },
  {
   "cell_type": "code",
   "execution_count": 51,
   "metadata": {},
   "outputs": [
    {
     "data": {
      "image/png": "[encoded data removed]",
      "text/plain": [
       "<Figure size 720x72 with 1 Axes>"
      ]
     },
     "metadata": {
      "needs_background": "light"
     },
     "output_type": "display_data"
    }
   ],
   "source": [
    "## Color settings\n",
    "\n",
    "color_setting = \"20m_time_course\"\n",
    "\n",
    "if color_setting == \"20m_time_course\":\n",
    "    palette = sns.husl_palette(len(smptbl), l=0.5)\n",
    "#     palette = sns.color_palette(\"inferno_r\", len(smptbl))\n",
    "#     palette = sns.color_palette(\"hls\", 10)\n",
    "    sns.palplot(palette)\n",
    "    plt.show()\n",
    "    \n",
    "elif color_setting == \"kd_time_course\":\n",
    "\n",
    "    color_graduation = True\n",
    "    color_grad_pads = (2,0)\n",
    "    include_mock = False\n",
    "\n",
    "    if include_mock is False:\n",
    "        smptbl = smptbl[smptbl['Sample'] != 'Mock']\n",
    "\n",
    "    # colors by group\n",
    "    colors = { \n",
    "        'mock': '#000000',\n",
    "        'Mock': '#000000',\n",
    "        'siNC': '#222222',\n",
    "\n",
    "        'LARP1': '#8C000F',\n",
    "        'siLARP1': '#8C000F',\n",
    "        'siLARP1-3': '#8C000F',\n",
    "        'siLARP1-SM': '#8C000F',\n",
    "\n",
    "        'LARP4': '#93C01F',\n",
    "        'siLARP4_4B': '#0A481E',\n",
    "\n",
    "        'siDecay': '#6A008B',    \n",
    "    }\n",
    "\n",
    "    palettes = dict()\n",
    "    for (gene, group), gr in smptbl.groupby(['Gene','Group']):\n",
    "        if color_graduation is True:\n",
    "            n_colors = len(gr)\n",
    "            palette = sequential_palette(colors.get(group, 'black'), n_colors + np.sum(color_grad_pads))[color_grad_pads[0]: color_grad_pads[0] + n_colors]\n",
    "\n",
    "        else:\n",
    "            palette = [colors[smp] for smp in gr.loc[:,'Sample']]\n",
    "\n",
    "        if include_mock is True:\n",
    "            palette = [[0,0,0]] + palette[1:]\n",
    "\n",
    "        palettes[(gene,group)] = palette\n",
    "\n",
    "        sns.palplot(palette)\n",
    "        print( gene, group )\n",
    "        plt.show()"
   ]
  },
  {
   "cell_type": "markdown",
   "metadata": {},
   "source": [
    "Plot individually"
   ]
  },
  {
   "cell_type": "code",
   "execution_count": 52,
   "metadata": {},
   "outputs": [
    {
     "name": "stdout",
     "output_type": "stream",
     "text": [
      "../plots/hire-pat_190729-1-T11-5TOPwt-TRICK-TOP_mini.pdf\n"
     ]
    },
    {
     "data": {
      "image/png": "[encoded data removed]",
      "text/plain": [
       "<Figure size 378x144 with 1 Axes>"
      ]
     },
     "metadata": {},
     "output_type": "display_data"
    }
   ],
   "source": [
    "# Configurations\n",
    "savefig = True\n",
    "savepkl = False\n",
    "normed = False\n",
    "rescale_intensity = None\n",
    "display_pAmode = False\n",
    "figsize = 10.5, 4\n",
    "# figsize = 9, 3.4\n",
    "# figsize = 7.2, 2.8\n",
    "\n",
    "xmin, xmax = 0, 250 # a range of poly(A) tail length\n",
    "smoothing_window_len = 60\n",
    "\n",
    "minifig = True\n",
    "\n",
    "if minifig is True: \n",
    "    styles.append(\"../mini.mplstyle\")\n",
    "    figsize = list(map(lambda x:x/2, figsize))\n",
    "\n",
    "with plt.style.context(styles):\n",
    "    groups = smptbl.groupby(['Gene', 'Cell', 'Group'])\n",
    "    for (gene, cell, group), gr in groups:\n",
    "        fig, ax = plt.subplots(figsize=figsize)\n",
    "        pAmodes = list()\n",
    "        global_ymax = None\n",
    "        \n",
    "        for ci, (idx, entry) in enumerate(gr.iterrows()):\n",
    "            fsa = fsas[idx]\n",
    "            size, intensity = fsa.get(entry['Data_lane'])\n",
    "            size -= entry['Baseline'] # exclude the mRNA body size\n",
    "            target_range = (xmin < size) * (size < xmax)\n",
    "            \n",
    "            x = size[target_range]\n",
    "            \n",
    "            y = smooth(intensity[target_range], window_len=smoothing_window_len)\n",
    "            y += np.abs(y.min()) # correct the intensity baseline\n",
    "            \n",
    "            if rescale_intensity is not None: y = np.interp( y, (y.min(), y.max()), rescale_intensity ) \n",
    "            if normed is True: y = y / y.sum() * 100\n",
    "                \n",
    "            if global_ymax is None: global_ymax = y.max()\n",
    "            elif global_ymax < y.max(): global_ymax = y.max()\n",
    "                \n",
    "            # additional touch for DMSO vs. Torin 1 comparison\n",
    "            smp = entry['Sample']\n",
    "            ls = 'dotted' if smp.lower() == 'mock' else '-'\n",
    "                \n",
    "            if color_setting == \"20m_time_course\":\n",
    "                color = palette[ci]\n",
    "            else:\n",
    "                color = palettes[(gene,group)][ci]\n",
    "                \n",
    "            ax.plot(x, y, color=color, label=smp, ls=ls, alpha=1)\n",
    "            \n",
    "            if display_pAmode is True:\n",
    "                pAmode = x[np.argmax(y)]\n",
    "                ax.text(x=pAmode, y=y.max(), s=\"*\", ha=\"center\", color=palettes[(gene,group)][ci], \n",
    "                        fontsize=\"xx-large\", fontweight=\"bold\", alpha=1)\n",
    "            \n",
    "            if savepkl is True:\n",
    "                outpklpath = datadir/work/entry[\"Filename\"].replace('.fsa','.pkl')\n",
    "                pickle.dump(tuple([x,y]), open(outpklpath, 'wb'))\n",
    "            \n",
    "        # Grid and axes\n",
    "        ax.xaxis.set_minor_locator(AutoMinorLocator(5))\n",
    "        ax.yaxis.set_minor_locator(AutoMinorLocator(1)) \n",
    "        ax.xaxis.grid(True, which='major', color='#878787', linestyle='-', lw=0.5)\n",
    "        ax.xaxis.grid(True, which='minor', color='#878787', linestyle='--', lw=0.3)\n",
    "        ax.yaxis.grid(True, which='major', color='#878787', linestyle='-', lw=0.5)\n",
    "        ax.yaxis.grid(True, which='minor', color='#878787', linestyle='--', lw=0.3)\n",
    "        ax.set_xlim(xmin-5,xmax+5)\n",
    "        ax.set_ylim([0,global_ymax*1.1])\n",
    "#         ax.set_ylim([0, 0.29])\n",
    "        \n",
    "        # Texts and labels\n",
    "        ax.set_title(\"{} - {} - {} - {}\".format(work, cell, gene, group), fontsize='medium')\n",
    "        xlabel = \"Poly(A) length (nt)\"\n",
    "        ylabel = \"Normalized signal (%)\" if normed is True else \"Signal intensity (a.u.)\"\n",
    "        ax.set_xlabel(xlabel); ax.set_ylabel(ylabel)\n",
    "        ax.legend(loc=\"upper right\", handlelength=1.0, ncol=2, columnspacing=0.8, fontsize='medium')\n",
    "        \n",
    "        fname_adduct = \"\"\n",
    "        if savefig is True:\n",
    "            if normed: fname_adduct += \"_normed\"\n",
    "            if minifig is True: fname_adduct += \"_mini\"\n",
    "            outfigpath = \"../plots/hire-pat_{}-{}-{}-{}{}.pdf\".format(work, cell, gene, group, fname_adduct)\n",
    "            plt.savefig(outfigpath, dpi=300, bbox_inches=\"tight\")\n",
    "            print(outfigpath)\n",
    "        plt.show()\n"
   ]
  },
  {
   "cell_type": "code",
   "execution_count": 53,
   "metadata": {},
   "outputs": [
    {
     "name": "stderr",
     "output_type": "stream",
     "text": [
      "/utp/joha/miniconda3/envs/polya/lib/python3.7/site-packages/ipykernel_launcher.py:40: UserWarning: Tight layout not applied. tight_layout cannot make axes height small enough to accommodate all axes decorations\n"
     ]
    },
    {
     "data": {
      "image/png": "[encoded data removed]",
      "text/plain": [
       "<Figure size 219.6x24.4 with 10 Axes>"
      ]
     },
     "metadata": {},
     "output_type": "display_data"
    }
   ],
   "source": [
    "savefig = True\n",
    "\n",
    "nbins = 90\n",
    "fig_width=6.1\n",
    "\n",
    "minifig = True\n",
    "if minifig is True: \n",
    "    styles.append(\"../mini.mplstyle\")\n",
    "    fig_width /= 2\n",
    "\n",
    "with plt.style.context(styles):\n",
    "    groups = smptbl.groupby(['Gene', 'Cell', 'Group'])\n",
    "    for (gene, cell, group), gr in groups:\n",
    "        num_samples = len(gr)\n",
    "        fig, axes = plt.subplots(num_samples, 1, \n",
    "                                 gridspec_kw=dict(wspace=0, hspace=0),\n",
    "                                 figsize=(fig_width, fig_width/nbins * num_samples))\n",
    "        \n",
    "        for ci, (idx, entry) in enumerate(gr.iterrows()):\n",
    "            fsa = fsas[idx]\n",
    "            size, intensity = fsa.get(entry['Data_lane'])\n",
    "            size -= entry['Baseline'] # exclude the mRNA body size\n",
    "            target_range = (xmin < size) * (size < xmax)\n",
    "            \n",
    "            x = size[target_range]\n",
    "            y = smooth(intensity[target_range], window_len=smoothing_window_len)\n",
    "            y += np.abs(y.min()) # correct the intensity baseline\n",
    "            \n",
    "            if color_setting == \"20m_time_course\":\n",
    "                color = palette[ci]\n",
    "                \n",
    "            ax = axes[ci]\n",
    "            cmap = custom_cmap(['#FFFFFF', color])\n",
    "            binstat = binned_statistic(np.arange(len(y)), y, statistic='median', bins=nbins)\n",
    "            ax.imshow(binstat.statistic.reshape(-1,1).T, cmap=cmap)\n",
    "            ax.axis('off')\n",
    "#             ax.set_xticks([])\n",
    "#             ax.set_yticks([])\n",
    "        \n",
    "        plt.tight_layout()\n",
    "        \n",
    "        fname_adduct = \"\"\n",
    "        if savefig is True:\n",
    "            if minifig is True: fname_adduct += \"_mini\"\n",
    "            fname_adduct += \"_heatmap\"\n",
    "            outfigpath = \"../plots/hire-pat_{}-{}-{}-{}{}.pdf\".format(work, cell, gene, group, fname_adduct)\n",
    "            \n",
    "            plt.savefig(outfigpath, dpi=300, bbox_inches='tight', pad_inches=0)"
   ]
  },
  {
   "cell_type": "code",
   "execution_count": null,
   "metadata": {},
   "outputs": [],
   "source": []
  }
 ],
 "metadata": {
  "kernelspec": {
   "display_name": "polya",
   "language": "python",
   "name": "polya"
  },
  "language_info": {
   "codemirror_mode": {
    "name": "ipython",
    "version": 3
   },
   "file_extension": ".py",
   "mimetype": "text/x-python",
   "name": "python",
   "nbconvert_exporter": "python",
   "pygments_lexer": "ipython3",
   "version": "3.7.7"
  }
 },
 "nbformat": 4,
 "nbformat_minor": 4
}
