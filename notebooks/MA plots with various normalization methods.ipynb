{
 "cells": [
  {
   "cell_type": "code",
   "execution_count": 1,
   "metadata": {},
   "outputs": [],
   "source": [
    "# Built-in\n",
    "from pathlib import Path\n",
    "import json\n",
    "\n",
    "# Third-party\n",
    "from matplotlib import pyplot as plt\n",
    "from matplotlib import style, cm\n",
    "from scipy.stats import gmean, fisher_exact, ttest_1samp\n",
    "import seaborn as sns\n",
    "import pandas as pd\n",
    "import numpy as np\n",
    "import feather\n",
    "\n",
    "workdir = Path(\"/casa/joha/projects/polya/works\")\n",
    "\n",
    "work = \"jp3\""
   ]
  },
  {
   "cell_type": "code",
   "execution_count": 2,
   "metadata": {},
   "outputs": [],
   "source": [
    "samples = {\n",
    "    'mh1': [\"Input\", \"LARP1\"],\n",
    "    # 'jp3': ['siNC', 'siLARP1-3'],\n",
    "    'jp3': ['siNC', 'siLARP44B'],\n",
    "}[work]\n",
    "\n",
    "ctrl = {\n",
    "}.get(work, samples[0])"
   ]
  },
  {
   "cell_type": "markdown",
   "metadata": {},
   "source": [
    "#### Load gene-level statistics"
   ]
  },
  {
   "cell_type": "code",
   "execution_count": 3,
   "metadata": {},
   "outputs": [
    {
     "name": "stdout",
     "output_type": "stream",
     "text": [
      "17272\n"
     ]
    }
   ],
   "source": [
    "glstats_path = workdir/work/\"stats/genelevelstats-GRCh38-single.csv\".format(work)\n",
    "df_glstats = pd.read_csv(glstats_path, index_col=0)\n",
    "print( len(df_glstats) )"
   ]
  },
  {
   "cell_type": "code",
   "execution_count": 4,
   "metadata": {},
   "outputs": [
    {
     "name": "stdout",
     "output_type": "stream",
     "text": [
      "39 MT-encoded genes\n",
      "89 TOP genes\n",
      "1177 RP genes\n"
     ]
    }
   ],
   "source": [
    "genepath = \"/casa/joha/scripts/tailseeker3.1.7/refdb/level3/GRCh38/annotations-gene.feather\"\n",
    "df_gene = feather.read_dataframe(genepath)\n",
    "\n",
    "# Mitochondrially-encoded genes\n",
    "df_mtgenes = df_gene[df_gene[\"seqname\"].map(lambda x: x == \"chrM\" if x else False)]\n",
    "mtgenes = df_mtgenes[\"gene_id\"]\n",
    "mtgenes = mtgenes.append(pd.Series(['ENSG00000247627.2', 'ENSG00000248527.1']) ) # adding MTND4P12, MTATP6P1 pseudogenes\n",
    "print( len(mtgenes), \"MT-encoded genes\")\n",
    "\n",
    "# TOP genes: The list is from Yamashita et al., NAR, 2008\n",
    "topglist = [g.strip().upper() for g in open(\"../data/external/human_top_genes_nar_2008.csv\", \"rt\").readlines()]\n",
    "df_topgenes = df_gene[df_gene[\"gene_name\"].isin(topglist)]\n",
    "topgenes = df_topgenes[\"gene_id\"]\n",
    "print( len(topgenes), \"TOP genes\" )\n",
    "\n",
    "# RP genes\n",
    "df_rpgenes = df_gene[df_gene[\"gene_description\"].map(lambda x: x.startswith(\"ribosomal protein\") if x else False)]\n",
    "df_rpgenes = df_rpgenes[df_rpgenes[\"gene_description\"].map(lambda x: \"kinase\" not in x)]\n",
    "df_rpgenes = df_rpgenes[df_rpgenes[\"gene_description\"].map(lambda x: \"like\" not in x)]\n",
    "df_rpgenes = df_rpgenes[df_rpgenes[\"gene_description\"].map(lambda x: \"binding\" not in x)]\n",
    "print(len(df_rpgenes), \"RP genes\")\n",
    "rpgenes = df_rpgenes[\"gene_id\"]\n",
    "\n",
    "gene_lists = {\n",
    "    'mtgenes': mtgenes,\n",
    "    'topgenes': topgenes,\n",
    "    'rpgenes': rpgenes,\n",
    "}\n",
    "\n",
    "subset_labels = {\n",
    "    'mtgenes': 'mt-mRNA',\n",
    "    'topgenes': 'TOP mRNA',\n",
    "    'rpgenes': 'RP mRNA',\n",
    "}"
   ]
  },
  {
   "cell_type": "markdown",
   "metadata": {},
   "source": [
    "### Normalized by the geometric mean of mtRNA readcounts"
   ]
  },
  {
   "cell_type": "code",
   "execution_count": 62,
   "metadata": {},
   "outputs": [
    {
     "name": "stdout",
     "output_type": "stream",
     "text": [
      "/casa/joha/projects/polya/works/jp3/plots/ma_plot_jp3_mt-normed_siLARP44B_mini.pdf saved\n"
     ]
    },
    {
     "data": {
      "image/png": "[encoded data removed]",
      "text/plain": [
       "<Figure size 187.2x126 with 1 Axes>"
      ]
     },
     "metadata": {},
     "output_type": "display_data"
    }
   ],
   "source": [
    "# Configurations\n",
    "savefig = True\n",
    "minifig = True\n",
    "ttest=True\n",
    "\n",
    "figsize = 5.2, 3.5\n",
    "subsets = [\"mtgenes\", \"topgenes\"]\n",
    "mtgenes_cutoff = 1000\n",
    "scaler = 1000\n",
    "normed_tagcnt_cutoff = 8.5\n",
    "\n",
    "styles = [\"../polya.mplstyle\"]\n",
    "if minifig is True:\n",
    "    styles.append(\"../mini.mplstyle\")\n",
    "    figsize = list(map(lambda x:x/2, figsize))\n",
    "\n",
    "def get_mtnormed_tagcnts(smp, df):\n",
    "    global mtgenes, mtgenes_cutoff, scaler, normed_tagcnt_cutoff\n",
    "    tagcnts = df[[f\"{smp}:polyA_tag_count\", f\"{smp}:nonpolyA_tag_count\"]].sum(axis=1).dropna()\n",
    "    mtgenes_tagcnts = tagcnts[mtgenes]\n",
    "    mtgenes_tagcnts = mtgenes_tagcnts[mtgenes_tagcnts >= mtgenes_cutoff]\n",
    "    normed = tagcnts / gmean(mtgenes_tagcnts) * scaler\n",
    "    \n",
    "    return normed[normed >= normed_tagcnt_cutoff]\n",
    "    \n",
    "tagcnts_ctrl = get_mtnormed_tagcnts(ctrl, df_glstats)\n",
    "\n",
    "with plt.style.context(styles):\n",
    "    default_colors = sns.color_palette()\n",
    "    colors_by_smp = json.load(open(\"../colors_by_smp.json\",\"r\"))\n",
    "    colors = [colors_by_smp.get(smp, default_colors[si]) for si, smp in enumerate(samples)]\n",
    "    for smp in samples:\n",
    "        if smp == ctrl: continue\n",
    "        fig, ax = plt.subplots(figsize=figsize)\n",
    "        \n",
    "        tagcnts = get_mtnormed_tagcnts(smp, df_glstats)\n",
    "        \n",
    "        x, y = tagcnts_ctrl.align(tagcnts, join=\"inner\")\n",
    "        \n",
    "        M = np.log2(y) - np.log2(x)\n",
    "        A = np.log2(x*y) / 2       \n",
    "        \n",
    "        ax.scatter(A, M, s=8, color='gray', edgecolor=\"none\", alpha=0.35, rasterized=True, label=\"Others\")\n",
    "        \n",
    "        for subset in subsets:\n",
    "            subset_genes = gene_lists[subset]\n",
    "            ax.scatter(A[subset_genes], M[subset_genes], s=8, color=colors_by_smp[subset], edgecolor='none', rasterized=True, label=subset_labels[subset])\n",
    "        \n",
    "        if ttest:\n",
    "            pval = ttest_1samp(M[gene_lists['topgenes']].dropna(), 0).pvalue / 2\n",
    "            if pval < 0.01:\n",
    "                ax.text(0.01, 0.01, \"$\\mathit{P}$=%.1e\"%(pval), transform=ax.transAxes, color=colors_by_smp['topgenes'], ha=\"left\")\n",
    "            else:\n",
    "                ax.text(0.01, 0.01, \"$\\mathit{P}$=%.2f\"%(pval), transform=ax.transAxes, color=colors_by_smp['topgenes'], ha=\"left\")\n",
    "\n",
    "            \n",
    "        \n",
    "        ax.axhline(y=0, ls=\"--\", lw=1)\n",
    "        ax.grid(axis=\"y\")\n",
    "#         ax.set_xlim([3, 15])\n",
    "#         ax.set_ylim([-2.8, 1.2])\n",
    "        ax.set_xlabel(\"Mean expression\")\n",
    "        ax.set_ylabel(f\"Fold change\\n({smp.split('-')[0]} / {ctrl}, log2)\")\n",
    "        ax.set_title(f\"mt-mRNA normalized, n={len(M)}\", fontsize=\"medium\")\n",
    "        ax.legend(loc=\"best\", handlelength=0.5)\n",
    "        \n",
    "#         ax.text(0.05, 0.83, \"n={}\".format(len(M)), transform=ax.transAxes, ha=\"left\")\n",
    "        \n",
    "        fname_adduct = \"\"\n",
    "        if minifig: fname_adduct += \"_mini\"\n",
    "\n",
    "        if savefig is True:\n",
    "            outfigpath = workdir/work/\"plots/ma_plot_{}_mt-normed_{}{}.pdf\".format(work, smp, fname_adduct)\n",
    "            plt.savefig(outfigpath, bbox_inches='tight', dpi=300)\n",
    "            print(outfigpath, 'saved')\n",
    "            \n",
    "        plt.show()\n",
    "\n"
   ]
  },
  {
   "cell_type": "markdown",
   "metadata": {},
   "source": [
    "### RPM normalization and a statistical test for the TOP gene preference"
   ]
  },
  {
   "cell_type": "code",
   "execution_count": 14,
   "metadata": {},
   "outputs": [
    {
     "name": "stderr",
     "output_type": "stream",
     "text": [
      "findfont: Font family ['sans-serif'] not found. Falling back to DejaVu Sans.\n",
      "findfont: Generic family 'sans-serif' not found because none of the following families were found: Helvetica, Helvetica Neue, Arial, sans-serif\n"
     ]
    },
    {
     "name": "stdout",
     "output_type": "stream",
     "text": [
      "((11, 4), (679, 698))\n",
      "2.8269513991163477 0.07298992473895541\n",
      "((32, 25), (679, 698))\n",
      "1.315817378497791 0.34530574193719016\n"
     ]
    },
    {
     "data": {
      "image/png": "[encoded data removed]",
      "text/plain": [
       "<Figure size 198x180 with 1 Axes>"
      ]
     },
     "metadata": {},
     "output_type": "display_data"
    }
   ],
   "source": [
    "savefig = False\n",
    "\n",
    "figsize = 5.5, 5\n",
    "minifig = True\n",
    "fishertest = True\n",
    "subsets = [\"mtgenes\", \"topgenes\"]\n",
    "mtgenes_cutoff = 0\n",
    "scaler = 1000\n",
    "normed_tagcnt_cutoff = 100\n",
    "\n",
    "styles = [\"../polya.mplstyle\"]\n",
    "if minifig is True:\n",
    "    styles.append('mini')\n",
    "    figsize = list(map(lambda x:x/2, figsize))\n",
    "\n",
    "ctrl_tagcnts = df_glstats[[\"{}:polyA_tag_count\".format(ctrl), \"{}:nonpolyA_tag_count\".format(ctrl)]].sum(axis=1).dropna()\n",
    "ctrl_normed = ctrl_tagcnts / (ctrl_tagcnts.sum() / 1000000)\n",
    "ctrl_normed = ctrl_normed[ctrl_normed >= normed_tagcnt_cutoff]\n",
    "with plt.style.context(styles):\n",
    "    default_colors = sns.color_palette()\n",
    "    colors_by_smp = json.load(open(\"../colors_by_smp.json\",\"r\"))\n",
    "    colors = [colors_by_smp.get(smp, default_colors[si]) for si, smp in enumerate(samples)]\n",
    "    for smp in samples:\n",
    "        if smp == ctrl: continue\n",
    "        fig, ax = plt.subplots(figsize=figsize)\n",
    "        \n",
    "        tagcnts = df_glstats[[\"{}:polyA_tag_count\".format(smp), \"{}:nonpolyA_tag_count\".format(smp)]].sum(axis=1).dropna()\n",
    "        normed = tagcnts / (tagcnts.sum() / 1000000)\n",
    "\n",
    "        # Normed minimum tag count filter\n",
    "        \n",
    "        normed = normed[normed >= normed_tagcnt_cutoff]\n",
    "        \n",
    "        x, y = ctrl_normed.align(normed, join=\"inner\")\n",
    "\n",
    "        M = np.log2(y) - np.log2(x)\n",
    "        A = np.log2(x*y) / 2\n",
    "\n",
    "        ax.scatter(A, M, s=7, color=\"grey\", edgecolor=\"none\", alpha=0.75, rasterized=True)\n",
    "        \n",
    "        # Fischer's exact test for enrichment or depletion of the subset\n",
    "        if fishertest is True:\n",
    "            fisher_res = dict()\n",
    "            for subset in subsets:\n",
    "                subset_genes = gene_lists[subset]\n",
    "                tbl = ( (M.reindex(subset_genes) > 0).sum(),(M.reindex(subset_genes) <= 0).sum() ), \\\n",
    "                      ( (M > 0).sum(), (M <= 0).sum() )\n",
    "                odds, pval = fisher_exact(tbl)\n",
    "                print( tbl )\n",
    "                print(odds, pval)\n",
    "                fisher_res[subset] = (odds, pval)\n",
    "                \n",
    "        # Marking subsets\n",
    "        for subset in subsets:\n",
    "            subset_genes = gene_lists[subset]\n",
    "            ax.scatter(A.reindex(subset_genes), M.reindex(subset_genes), s=7, color=colors_by_smp[subset], edgecolor=\"none\", label=subset_labels[subset], zorder=7)\n",
    "            \n",
    "        ax.axhline(y=0, ls=\"--\", lw=1)\n",
    "        ax.grid(axis='y')\n",
    "        ax.set_xlabel(\"Mean expression\")\n",
    "        ax.set_ylabel(f\"Fold over {ctrl}, log2\\nRPM-normalized\")\n",
    "        ax.set_title(smp.split('-')[0], fontsize='medium')\n",
    "        ax.legend(loc=\"upper right\")\n",
    "        \n",
    "        ax.text(0.05, 0.83, \"n={}\".format(len(M)), transform=ax.transAxes, ha=\"left\")\n",
    "        \n",
    "        if fishertest is True:\n",
    "            for mi, subset in enumerate(subsets):\n",
    "                if subset == \"mtgenes\": continue\n",
    "                odds, pval = fisher_res[subset]\n",
    "                if pval < 0.01:\n",
    "                    ax.text(0.95, 0.1, \"$\\mathit{P}$=%.1e\"%(pval), transform=ax.transAxes, color=colors_by_smp[subset], ha=\"right\")\n",
    "                else:\n",
    "                    ax.text(0.95, 0.1, \"$\\mathit{P}$=%.2f\"%(pval), transform=ax.transAxes, color=colors_by_smp[subset], ha=\"right\")\n",
    "                    \n",
    "        fname_adduct = \"\"\n",
    "        if minifig: fname_adduct += \"_mini\"\n",
    "        \n",
    "        if savefig is True:\n",
    "            outfigpath = \"../plots/ma_plot_{}_rpm-normed_{}{}.pdf\".format(work, smp, fname_adduct)\n",
    "            plt.savefig(outfigpath, bbox_inches=\"tight\", dpi=300)\n",
    "            print(outfigpath, 'saved')\n",
    "            \n",
    "        plt.show()\n"
   ]
  }
 ],
 "metadata": {
  "kernelspec": {
   "display_name": "polya",
   "language": "python",
   "name": "polya"
  },
  "language_info": {
   "codemirror_mode": {
    "name": "ipython",
    "version": 3
   },
   "file_extension": ".py",
   "mimetype": "text/x-python",
   "name": "python",
   "nbconvert_exporter": "python",
   "pygments_lexer": "ipython3",
   "version": "3.7.11"
  }
 },
 "nbformat": 4,
 "nbformat_minor": 4
}
