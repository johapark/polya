{
 "cells": [
  {
   "cell_type": "code",
   "execution_count": 81,
   "metadata": {},
   "outputs": [],
   "source": [
    "# Built-in\n",
    "from pathlib import Path\n",
    "\n",
    "# Third-party\n",
    "from matplotlib.ticker import AutoMinorLocator\n",
    "from matplotlib.colors import to_rgb, to_rgba\n",
    "from matplotlib import pyplot as plt\n",
    "from scipy.stats import gmean\n",
    "import seaborn as sns\n",
    "import pandas as pd\n",
    "import numpy as np\n",
    "import feather\n",
    "import lzma\n",
    "\n",
    "# Local\n",
    "from polya.utils import smooth\n",
    "from polya.plot import custom_cmap\n",
    "styles = ['../polya.mplstyle']\n",
    "\n",
    "work = \"jp3\""
   ]
  },
  {
   "cell_type": "code",
   "execution_count": 82,
   "metadata": {},
   "outputs": [],
   "source": [
    "samples = {\n",
    "    \"ms121\": [\"NC2\", \"232\", \"782\"],\n",
    "    \"ms159\": [\"siNC\", \"siLARP1\", \"siLARP4\", \"siLARP5\", \"sieIF4G\"],\n",
    "    \"ms164\": [\"siNC\", \"siLARP1\", \"siMKRN\", \"siLARP4_5\", \"sieIF4G\"],\n",
    "    'jp2': ['siNC', 'siLARP1-3', 'siLARP1-S', 'siLARP44B', 'siMKRN1', 'siMKRN1siLARP1-3'],\n",
    "    'jp3': ['siNC', 'siLARP1-3', 'siLARP44B', 'siMKRN1', 'siMKRN1siLARP1-3'],\n",
    "}[work]\n",
    "\n",
    "subsamples = samples[:2]\n",
    "subsamples = ['siNC', 'siLARP1-3']\n",
    "\n",
    "ctrl = {\n",
    "}.get(work, samples[0])"
   ]
  },
  {
   "cell_type": "code",
   "execution_count": 83,
   "metadata": {},
   "outputs": [
    {
     "name": "stderr",
     "output_type": "stream",
     "text": [
      "/utp/joha/miniconda3/envs/polya/lib/python3.7/site-packages/pandas/io/packers.py:187: FutureWarning: \n",
      "Panel is deprecated and will be removed in a future version.\n",
      "The recommended way to represent these types of 3-dimensional data are with a MultiIndex on a DataFrame, via the Panel.to_frame() method\n",
      "Alternatively, you can use the xarray package http://xarray.pydata.org/en/stable/.\n",
      "Pandas provides a `.to_xarray()` method to help automate this conversion.\n",
      "\n",
      "  unpacked_obj = list(unpack(fh, encoding=encoding, **kwargs))\n"
     ]
    }
   ],
   "source": [
    "workdir = Path(\"/casa/joha/projects/jp/works/\")\n",
    "\n",
    "panels = {\n",
    "    s: pd.read_msgpack(lzma.open(workdir/work/\"tagcounts/{}-single-U-canonical.msgpack.xz\".format(s), \"rb\"))\n",
    "    for s in samples\n",
    "} # pd.read_msgpack is deprecated in the >0.25.0 version of pandas"
   ]
  },
  {
   "cell_type": "markdown",
   "metadata": {},
   "source": [
    "Get gene lists for marking specific subsets"
   ]
  },
  {
   "cell_type": "code",
   "execution_count": 69,
   "metadata": {},
   "outputs": [
    {
     "name": "stdout",
     "output_type": "stream",
     "text": [
      "39 MT-encoded genes\n",
      "89 TOP genes\n",
      "1177 RP genes\n"
     ]
    },
    {
     "name": "stderr",
     "output_type": "stream",
     "text": [
      "/utp/joha/miniconda3/envs/polya/lib/python3.7/site-packages/pyarrow/pandas_compat.py:752: FutureWarning: .labels was deprecated in version 0.24.0. Use .codes instead.\n",
      "  labels, = index.labels\n"
     ]
    }
   ],
   "source": [
    "genepath = \"/casa/joha/scripts/tailseeker3.1.7/refdb/level3/GRCh38/annotations-gene.feather\"\n",
    "df_gene = feather.read_dataframe(genepath)\n",
    "\n",
    "# Mitochondrially-encoded genes\n",
    "df_mtgenes = df_gene[df_gene[\"seqname\"].map(lambda x: x == \"chrM\" if x else False)]\n",
    "mtgenes = df_mtgenes[\"gene_id\"]\n",
    "mtgenes = mtgenes.append(pd.Series(['ENSG00000247627.2', 'ENSG00000248527.1']) ) # adding MTND4P12, MTATP6P1 pseudogenes\n",
    "print( len(mtgenes), \"MT-encoded genes\")\n",
    "\n",
    "# TOP genes: The list is from Yamashita et al., NAR, 2008\n",
    "topglist = [g.strip().upper() for g in open(\"../data/external/human_top_genes_nar_2008.csv\", \"rt\").readlines()]\n",
    "df_topgenes = df_gene[df_gene[\"gene_name\"].isin(topglist)]\n",
    "topgenes = df_topgenes[\"gene_id\"]\n",
    "print( len(topgenes), \"TOP genes\" )\n",
    "\n",
    "# RP genes\n",
    "df_rpgenes = df_gene[df_gene[\"gene_description\"].map(lambda x: x.startswith(\"ribosomal protein\") if x else False)]\n",
    "df_rpgenes = df_rpgenes[df_rpgenes[\"gene_description\"].map(lambda x: \"kinase\" not in x)]\n",
    "df_rpgenes = df_rpgenes[df_rpgenes[\"gene_description\"].map(lambda x: \"like\" not in x)]\n",
    "df_rpgenes = df_rpgenes[df_rpgenes[\"gene_description\"].map(lambda x: \"binding\" not in x)]\n",
    "print(len(df_rpgenes), \"RP genes\")\n",
    "rpgenes = df_rpgenes[\"gene_id\"]\n",
    "\n",
    "gene_subsets = {\n",
    "    'mtgenes': mtgenes,\n",
    "    'topgenes': topgenes,\n",
    "    'rpgenes': rpgenes,\n",
    "}"
   ]
  },
  {
   "cell_type": "markdown",
   "metadata": {},
   "source": [
    "Color settings"
   ]
  },
  {
   "cell_type": "code",
   "execution_count": 70,
   "metadata": {},
   "outputs": [],
   "source": [
    "# colors by sample\n",
    "colors_by_smp = { \n",
    "    'mock': '#000000',\n",
    "    'siNC': '#222222',\n",
    "    'Input': '#222222',\n",
    "    \n",
    "    'LARP1': '#DD3224',\n",
    "    'siLARP1': '#DD3224',\n",
    "    'siLARP1-3': '#DD3224',\n",
    "    'siLARP1-S': '#FF0524',\n",
    "    \n",
    "    'LARP4': '#F4D348',\n",
    "    'LARP5': '#93C01F',\n",
    "    'siLARP4_5': '#93C01F',\n",
    "    'siLARP44B': '#93C01F',\n",
    "    \n",
    "    'sieIF4G': '#071AF5',\n",
    "    'eIF4G1': '#071AF5',\n",
    "    \n",
    "    'siMKRN': '#F4D348',\n",
    "    'siMKRN1': '#F4D348',\n",
    "    'siMKRN1siLARP1-3': '#0750A5',\n",
    "    'PABP': '#0750A5',\n",
    "    \n",
    "    'mtgenes': '#FF8B00',\n",
    "#     'topgenes': '#246004',\n",
    "    'topgenes': '#273AE2',\n",
    "}\n"
   ]
  },
  {
   "cell_type": "markdown",
   "metadata": {},
   "source": [
    "### Global poly(A)-tail length distribution"
   ]
  },
  {
   "cell_type": "code",
   "execution_count": 82,
   "metadata": {},
   "outputs": [
    {
     "name": "stdout",
     "output_type": "stream",
     "text": [
      "../plots/global_pAlen_dists_jp3_10-220_wo_mtgenes_mini.pdf\n"
     ]
    },
    {
     "data": {
      "image/png": "[encoded data removed]",
      "text/plain": [
       "<Figure size 194.4x100.8 with 1 Axes>"
      ]
     },
     "metadata": {},
     "output_type": "display_data"
    }
   ],
   "source": [
    "## Configurations\n",
    "savefig = True\n",
    "minifig = True\n",
    "smoothing = True\n",
    "pAlen_range = [10, 220]; pr = pAlen_range\n",
    "smoothing_window = 15\n",
    "# figsize = 5, 3.5\n",
    "figsize = 5.4, 2.8 # for Fig. 4a\n",
    "drop_subsets=['mtgenes']\n",
    "\n",
    "fmax = None # Maximum value of the fraction\n",
    "\n",
    "if minifig is True:\n",
    "    styles.append(\"../mini.mplstyle\")\n",
    "    figsize = list(map(lambda x:x/2, figsize))\n",
    "    \n",
    "with plt.style.context(styles):\n",
    "    default_colors = sns.color_palette()\n",
    "    colors = [colors_by_smp.get(smp, default_colors[si]) for si, smp in enumerate(subsamples)]\n",
    "    fig = plt.figure(figsize=figsize)\n",
    "    ax = fig.add_subplot(111)\n",
    "    for si, smp in enumerate(subsamples):\n",
    "        pn = panels[smp]\n",
    "    \n",
    "        # Exlucde specific subsets of genes\n",
    "        if drop_subsets:\n",
    "            for subset in drop_subsets:\n",
    "                pn = pn.drop(gene_subsets[subset], errors='ignore')\n",
    "\n",
    "        if not pAlen_range: pAlen_range = [0, pn.shape[1]-1]\n",
    "        \n",
    "        # Normalization\n",
    "        pAtags = pn.sum(axis=0).sum(axis=1).iloc[pr[0]:pr[1]+1]\n",
    "        pAlen_dist = pAtags / pAtags.sum() * 100 # fraction in percent\n",
    "\n",
    "        # Smoothing\n",
    "        if smoothing is True:\n",
    "            pAlen_dist = smooth(np.array(pAlen_dist), window_len=smoothing_window)\n",
    "\n",
    "        if fmax is None: fmax = pAlen_dist.max()\n",
    "        elif fmax < pAlen_dist.max(): fmax = pAlen_dist.max()\n",
    "            \n",
    "        if smp == 'siLARP4_5': label = 'siLARP4/4B'\n",
    "        elif smp == 'siLARP1-3': label = 'siLARP1'\n",
    "        else: label = smp\n",
    "\n",
    "        ## Plotting\n",
    "        if colors: ax.plot(np.arange(pr[0], pr[1]+1), pAlen_dist, color=colors[si], label=label, zorder=7)\n",
    "        else: ax.plot(np.arange(pr[0], pr[1]+1), pAlen_dist, label=label, zorder=7)\n",
    "\n",
    "    ax.xaxis.set_minor_locator(AutoMinorLocator(5))\n",
    "    ax.yaxis.set_minor_locator(AutoMinorLocator(2)) \n",
    "    ax.xaxis.grid(True, which='major', color='#878787', linestyle='-', lw=0.5)\n",
    "    ax.xaxis.grid(True, which='minor', color='#878787', linestyle='--', lw=0.3)\n",
    "    ax.yaxis.grid(True, which='major', color='#878787', linestyle='-', lw=0.5)\n",
    "    ax.yaxis.grid(True, which='minor', color='#878787', linestyle='--', lw=0.3)\n",
    "    ax.set_xlim([0,230])\n",
    "    ax.set_xticks(np.arange(0,230,50))\n",
    "#     ax.set_ylim([0, np.round(fmax * 1.1, 1)])\n",
    "    ax.set_ylim([0,0.9])\n",
    "#     ax.legend(loc=\"upper right\", fontsize=\"medium\")#, ncol=2, columnspacing=0.1)\n",
    "    ax.legend(loc=\"lower center\", fontsize=\"medium\", ncol=2, handlelength=1.0, columnspacing=0.5)\n",
    "    ax.set_xlabel(\"Poly(A) length (nt)\")\n",
    "    ax.set_ylabel(\"Fraction (%)\")\n",
    "    title = \"{}\".format(work) if 'mtgenes' not in drop_subsets else \"{}, w/o mt-mRNAs\".format(work)\n",
    "    ax.set_title(title, fontsize=\"medium\")\n",
    "    \n",
    "    fname_adduct = \"\"\n",
    "    if 'mtgenes' in drop_subsets: fname_adduct += \"_wo_mtgenes\"\n",
    "    if minifig is True: fname_adduct += \"_mini\"\n",
    "\n",
    "    if savefig is True:\n",
    "        outfigpath = \"../plots/global_pAlen_dists_{}_{}-{}{}.pdf\".format(work, pr[0], pr[1], fname_adduct)\n",
    "        print(outfigpath)\n",
    "        fig.savefig(outfigpath, dpi=300, bbox_inches=\"tight\")\n",
    "\n",
    "    plt.show()\n",
    "\n",
    "\n",
    "\n"
   ]
  },
  {
   "cell_type": "markdown",
   "metadata": {},
   "source": [
    "### Global poly(A)-tail length distribution - show subsets separately"
   ]
  },
  {
   "cell_type": "code",
   "execution_count": 7,
   "metadata": {},
   "outputs": [
    {
     "name": "stdout",
     "output_type": "stream",
     "text": [
      "14700\n"
     ]
    }
   ],
   "source": [
    "glstatsPath = \"/casa/joha/projects/jp/works/{}/stats/genelevelstats-GRCh38-single.csv\".format(work)\n",
    "df_glstats = pd.read_csv(glstatsPath, index_col=0)\n",
    "print( len(df_glstats) )\n",
    "\n",
    "perc = 1"
   ]
  },
  {
   "cell_type": "markdown",
   "metadata": {},
   "source": [
    "abundant genes (top 5%)"
   ]
  },
  {
   "cell_type": "code",
   "execution_count": 102,
   "metadata": {},
   "outputs": [
    {
     "name": "stderr",
     "output_type": "stream",
     "text": [
      "/utp/joha/miniconda3/envs/polya/lib/python3.7/site-packages/ipykernel_launcher.py:36: FutureWarning: \n",
      "Passing list-likes to .loc or [] with any missing label will raise\n",
      "KeyError in the future, you can use .reindex() as an alternative.\n",
      "\n",
      "See the documentation here:\n",
      "https://pandas.pydata.org/pandas-docs/stable/indexing.html#deprecate-loc-reindex-listlike\n",
      "/utp/joha/miniconda3/envs/polya/lib/python3.7/site-packages/pandas/core/indexing.py:1207: FutureWarning: \n",
      "Panel is deprecated and will be removed in a future version.\n",
      "The recommended way to represent these types of 3-dimensional data are with a MultiIndex on a DataFrame, via the Panel.to_frame() method\n",
      "Alternatively, you can use the xarray package http://xarray.pydata.org/en/stable/.\n",
      "Pandas provides a `.to_xarray()` method to help automate this conversion.\n",
      "\n",
      "  copy=True, allow_dups=True)\n"
     ]
    },
    {
     "name": "stdout",
     "output_type": "stream",
     "text": [
      "../plots/global_pAlen_dists_ms121_10-220_top1p_wo_mtgenes_mini.pdf\n"
     ]
    },
    {
     "data": {
      "image/png": "[encoded data removed]",
      "text/plain": [
       "<Figure size 180x126 with 1 Axes>"
      ]
     },
     "metadata": {},
     "output_type": "display_data"
    }
   ],
   "source": [
    "## Configurations\n",
    "savefig = True\n",
    "minifig = True\n",
    "smoothing = True\n",
    "pAlen_range = [10, 220]; pr = pAlen_range\n",
    "smoothing_window = 15\n",
    "figsize = 5, 3.5\n",
    "\n",
    "# figsize = 5.2, 2.5 # for Fig. 4a\n",
    "drop_subsets=['mtgenes']\n",
    "\n",
    "fmax = None # Maximum value of the fraction\n",
    "\n",
    "if minifig is True:\n",
    "    styles.append(\"../mini.mplstyle\")\n",
    "    figsize = list(map(lambda x:x/2, figsize))\n",
    "    \n",
    "with plt.style.context(styles):\n",
    "    default_colors = sns.color_palette()\n",
    "    colors = [colors_by_smp.get(smp, default_colors[si]) for si, smp in enumerate(subsamples)]\n",
    "    fig = plt.figure(figsize=figsize)\n",
    "    ax = fig.add_subplot(111)\n",
    "    for si, smp in enumerate(subsamples):\n",
    "        pn = panels[smp]\n",
    "            \n",
    "        # Exlucde specific subsets of genes\n",
    "        if drop_subsets:\n",
    "            for subset in drop_subsets:\n",
    "                pn = pn.drop(gene_subsets[subset], errors='ignore')\n",
    "\n",
    "        if not pAlen_range: pAlen_range = [0, pn.shape[1]-1]\n",
    "            \n",
    "        # Get the top 5% highly expressed gene list\n",
    "        tagcnt = (df_glstats[f\"{smp}:polyA_tag_count\"] + df_glstats[f\"{smp}:nonpolyA_tag_count\"]).dropna().sort_values(ascending=False)\n",
    "        top5pgenes = tagcnt.iloc[:int(len(tagcnt) * (perc/100))].index\n",
    "        pn_top5p = pn.loc[top5pgenes]\n",
    "        \n",
    "        # Normalization\n",
    "        pAtags = pn.sum(axis=0).sum(axis=1).iloc[pr[0]:pr[1]+1]\n",
    "        pAlen_dist = pAtags / pAtags.sum() * 100 # fraction in percent\n",
    "        \n",
    "        pAtags_top5p = pn_top5p.sum(axis=0).sum(axis=1).iloc[pr[0]:pr[1]+1]\n",
    "        pAlen_dist_top5p = pAtags_top5p / pAtags_top5p.sum() * 100 \n",
    "\n",
    "        # Smoothing\n",
    "        if smoothing is True:\n",
    "            pAlen_dist = smooth(np.array(pAlen_dist), window_len=smoothing_window)\n",
    "            pAlen_dist_top5p = smooth(np.array(pAlen_dist_top5p), window_len=smoothing_window)\n",
    "\n",
    "        if fmax is None: fmax = pAlen_dist.max()\n",
    "        elif fmax < pAlen_dist.max(): fmax = pAlen_dist.max()\n",
    "            \n",
    "        if smp == 'siLARP4_5': label = 'siLARP4/4B'\n",
    "        elif smp == 'siLARP1-3': label = 'siLARP1'\n",
    "        else: label = smp\n",
    "\n",
    "        ## Plotting\n",
    "        if colors: \n",
    "            ax.plot(np.arange(pr[0], pr[1]+1), pAlen_dist, color=colors[si], label=\"All\", zorder=7)\n",
    "            ax.plot(np.arange(pr[0], pr[1]+1), pAlen_dist_top5p, color=colors[si], label='Abundant', ls='-.')\n",
    "        else: \n",
    "            ax.plot(np.arange(pr[0], pr[1]+1), pAlen_dist, label=label, zorder=7)\n",
    "            ax.plot(np.arange(pr[0], pr[1]+1), pAlen_dist_top5p, label='Abundant', ls='-.')\n",
    "            \n",
    "        \n",
    "\n",
    "    ax.xaxis.set_minor_locator(AutoMinorLocator(5))\n",
    "    ax.yaxis.set_minor_locator(AutoMinorLocator(2)) \n",
    "    ax.xaxis.grid(True, which='major', color='#878787', linestyle='-', lw=0.5)\n",
    "    ax.xaxis.grid(True, which='minor', color='#878787', linestyle='--', lw=0.3)\n",
    "    ax.yaxis.grid(True, which='major', color='#878787', linestyle='-', lw=0.5)\n",
    "    ax.yaxis.grid(True, which='minor', color='#878787', linestyle='--', lw=0.3)\n",
    "    ax.set_xlim([0,230])\n",
    "    ax.set_xticks(np.arange(0,230,50))\n",
    "#     ax.set_ylim([0, np.round(fmax * 1.1, 1)])\n",
    "    ax.set_ylim([0,1.2])\n",
    "#     ax.legend(loc=\"upper right\", fontsize=\"medium\")#, ncol=2, columnspacing=0.1)\n",
    "    ax.legend(loc=\"lower center\", fontsize=\"medium\", ncol=2, handlelength=1.0, columnspacing=0.5)\n",
    "    ax.set_xlabel(\"Poly(A) length (nt)\")\n",
    "    ax.set_ylabel(\"Fraction (%)\")\n",
    "    title = \"{}\".format(work) if 'mtgenes' not in drop_subsets else \"{}, w/o mt-mRNAs\".format(work)\n",
    "    ax.set_title(title, fontsize=\"medium\")\n",
    "    \n",
    "    fname_adduct = f\"_top{perc}p\"\n",
    "    if 'mtgenes' in drop_subsets: fname_adduct += \"_wo_mtgenes\"\n",
    "    if minifig is True: fname_adduct += \"_mini\"\n",
    "\n",
    "    if savefig is True:\n",
    "        outfigpath = \"../plots/global_pAlen_dists_{}_{}-{}{}.pdf\".format(work, pr[0], pr[1], fname_adduct)\n",
    "        print(outfigpath)\n",
    "        fig.savefig(outfigpath, dpi=300, bbox_inches=\"tight\")\n",
    "\n",
    "    plt.show()\n",
    "\n",
    "\n",
    "\n"
   ]
  },
  {
   "cell_type": "markdown",
   "metadata": {},
   "source": [
    "### Global poly(A)-tail length distribution scaled by relative abuandance"
   ]
  },
  {
   "cell_type": "code",
   "execution_count": 83,
   "metadata": {},
   "outputs": [
    {
     "name": "stdout",
     "output_type": "stream",
     "text": [
      "17272\n",
      "17272\n"
     ]
    }
   ],
   "source": [
    "glstatsPath = \"/utp/joha/projects/jp/works/{}/stats/genelevelstats-GRCh38-single.csv\".format(work)\n",
    "df_glstats = pd.read_csv(glstatsPath, index_col=0)\n",
    "print( len(df_glstats) )\n",
    "\n",
    "# Handle AttuributeError if any\n",
    "df_glstats = df_glstats.dropna(subset=[\"gene_description\"])\n",
    "print( len(df_glstats) )"
   ]
  },
  {
   "cell_type": "code",
   "execution_count": 84,
   "metadata": {},
   "outputs": [],
   "source": [
    "mtgenes_cutoff = 1000\n",
    "scaler = 1000\n",
    "normed_tagcnt_cutoff = 12.5\n",
    "\n",
    "def get_mtnormed_tagcnts(smp, df):\n",
    "    global mtgenes, mtgenes_cutoff, scaler, normed_tagcnt_cutoff\n",
    "    tagcnts = df[[f\"{smp}:polyA_tag_count\", f\"{smp}:nonpolyA_tag_count\"]].sum(axis=1).dropna()\n",
    "    mtgenes_tagcnts = tagcnts[mtgenes]\n",
    "    mtgenes_tagcnts = mtgenes_tagcnts[mtgenes_tagcnts >= mtgenes_cutoff]\n",
    "    normed = tagcnts / gmean(mtgenes_tagcnts) * scaler\n",
    "    \n",
    "    return normed[normed >= normed_tagcnt_cutoff]\n",
    "\n",
    "mtnormed_tagcnts_sum = dict()\n",
    "for smp in samples:\n",
    "    mtnormed_tagcnts_sum[smp] = get_mtnormed_tagcnts(smp, df_glstats).sum()"
   ]
  },
  {
   "cell_type": "code",
   "execution_count": 85,
   "metadata": {},
   "outputs": [
    {
     "data": {
      "text/plain": [
       "{'siNC': 108526.85515418681,\n",
       " 'siLARP1-3': 83445.2198734922,\n",
       " 'siLARP44B': 99512.79588901541,\n",
       " 'siMKRN1': 106058.7966770621,\n",
       " 'siMKRN1siLARP1-3': 82171.28690680352}"
      ]
     },
     "execution_count": 85,
     "metadata": {},
     "output_type": "execute_result"
    }
   ],
   "source": [
    "mtnormed_tagcnts_sum"
   ]
  },
  {
   "cell_type": "code",
   "execution_count": 86,
   "metadata": {},
   "outputs": [
    {
     "name": "stdout",
     "output_type": "stream",
     "text": [
      "../plots/global_pAlen_dists_jp3_mt-scaled_10-220_wo_mtgenes_mini.pdf\n"
     ]
    },
    {
     "data": {
      "image/png": "[encoded data removed]",
      "text/plain": [
       "<Figure size 194.4x100.8 with 1 Axes>"
      ]
     },
     "metadata": {},
     "output_type": "display_data"
    }
   ],
   "source": [
    "savefig = True\n",
    "minifig = True\n",
    "\n",
    "# figsize = 8.4,5\n",
    "figsize = 5.4, 2.8\n",
    "ctrl = 'siNC'\n",
    "pAlen_range = [10, 220]; pr = pAlen_range\n",
    "smoothing_window = 15\n",
    "smoothing = True\n",
    "\n",
    "fmax = None # Maximum value of the fraction\n",
    "\n",
    "styles = ['../polya.mplstyle']\n",
    "if minifig is True:\n",
    "    styles.append('../mini.mplstyle')\n",
    "    figsize = list(map(lambda x:x/2, figsize)) \n",
    "    \n",
    "drop_subsets = ['mtgenes']\n",
    "\n",
    "\n",
    "with plt.style.context(styles):\n",
    "    default_colors = sns.color_palette()\n",
    "    colors = [colors_by_smp.get(smp, default_colors[si]) for si, smp in enumerate(subsamples)]\n",
    "    fig = plt.figure(figsize=figsize)\n",
    "    ax = fig.add_subplot(111)\n",
    "    for si, smp in enumerate(subsamples):\n",
    "        pn = panels[smp]\n",
    "    \n",
    "        # Exlucde specific subsets of genes\n",
    "        if drop_subsets:\n",
    "            for subset in drop_subsets:\n",
    "                pn = pn.drop(gene_subsets[subset], errors='ignore')\n",
    "\n",
    "        if not pAlen_range: pAlen_range = [0, pn.shape[1]-1]\n",
    "        \n",
    "        # Normalization\n",
    "        pAtags = pn.sum(axis=0).sum(axis=1).iloc[pr[0]:pr[1]+1]\n",
    "        pAlen_dist = pAtags / pAtags.sum() * 100 # fraction in percent\n",
    "        pAlen_dist = pAlen_dist * (mtnormed_tagcnts_sum[smp] / mtnormed_tagcnts_sum[ctrl])\n",
    "\n",
    "        # Smoothing\n",
    "        if smoothing is True:\n",
    "            pAlen_dist = smooth(np.array(pAlen_dist), window_len=smoothing_window)\n",
    "\n",
    "        if fmax is None: fmax = pAlen_dist.max()\n",
    "        elif fmax < pAlen_dist.max(): fmax = pAlen_dist.max()\n",
    "            \n",
    "        if smp == 'siLARP4_5': label = 'siLARP4/4B'\n",
    "        elif smp == 'siLARP1-3': label = 'siLARP1'\n",
    "        else: label = smp\n",
    "\n",
    "        ## Plotting\n",
    "        if colors: ax.plot(np.arange(pr[0], pr[1]+1), pAlen_dist, color=colors[si], label=label, zorder=7)\n",
    "        else: ax.plot(np.arange(pr[0], pr[1]+1), pAlen_dist, label=label, zorder=7)\n",
    "\n",
    "    ax.xaxis.set_minor_locator(AutoMinorLocator(5))\n",
    "    ax.yaxis.set_minor_locator(AutoMinorLocator(2)) \n",
    "    ax.xaxis.grid(True, which='major', color='#878787', linestyle='-', lw=0.5)\n",
    "    ax.xaxis.grid(True, which='minor', color='#878787', linestyle='--', lw=0.3)\n",
    "    ax.yaxis.grid(True, which='major', color='#878787', linestyle='-', lw=0.5)\n",
    "    ax.yaxis.grid(True, which='minor', color='#878787', linestyle='--', lw=0.3)\n",
    "    ax.set_xlim([0,230])\n",
    "    ax.set_xticks(np.arange(0,230,50))\n",
    "#     ax.set_ylim([0, np.round(fmax * 1.1, 1)])\n",
    "    ax.set_ylim([0,0.9])\n",
    "#     ax.legend(loc=\"lower right\", fontsize=\"medium\")#, ncol=2, columnspacing=0.1)\n",
    "    ax.legend(loc=\"lower center\", fontsize=\"medium\", ncol=2, handlelength=1.0, columnspacing=0.5)\n",
    "#     ax.legend(loc=\"center left\", bbox_to_anchor=[1.01,0.5])\n",
    "    ax.set_xlabel(\"Poly(A) length (nt)\")\n",
    "    ax.set_ylabel(\"Fraction (%, scaled)\")\n",
    "    title = \"{}\".format(work) if 'mtgenes' not in drop_subsets else \"{}, w/o mt-mRNAs\".format(work)\n",
    "    ax.set_title(title, fontsize=\"medium\")\n",
    "    \n",
    "    fname_adduct = \"\"\n",
    "    if 'mtgenes' in drop_subsets: fname_adduct += \"_wo_mtgenes\"\n",
    "    if minifig is True: fname_adduct += \"_mini\"\n",
    "\n",
    "    if savefig is True:\n",
    "        outfigpath = \"../plots/global_pAlen_dists_{}_mt-scaled_{}-{}{}.pdf\".format(work, pr[0], pr[1], fname_adduct)\n",
    "        print(outfigpath)\n",
    "        fig.savefig(outfigpath, dpi=300, bbox_inches=\"tight\")\n",
    "\n",
    "    plt.show()"
   ]
  },
  {
   "cell_type": "markdown",
   "metadata": {},
   "source": [
    "### Local poly(A) density of individual genes compared to control"
   ]
  },
  {
   "cell_type": "code",
   "execution_count": 85,
   "metadata": {},
   "outputs": [],
   "source": [
    "subsamples = ['siNC', 'siLARP1-3']"
   ]
  },
  {
   "cell_type": "code",
   "execution_count": 88,
   "metadata": {},
   "outputs": [],
   "source": [
    "local_range = [30, 60]; lr = local_range # Local poly(A) range to compare\n",
    "pAlen_range = [10, 220]; pr = pAlen_range # Entire poly(A) range that will be considered\n",
    "minimum_pAtags = 350\n",
    "# minimum_pAtags = 200\n",
    "\n",
    "def get_local_density_mean(panel, local_range=local_range, pAlen_range=pAlen_range, minimum_pAtags=minimum_pAtags):\n",
    "    lr = local_range; pr = pAlen_range\n",
    "    \n",
    "    pAtags = panel.sum(axis=2).iloc[pr[0]:pr[1]+1, :].T\n",
    "    pAtags = pAtags[pAtags.sum(axis=1) >= minimum_pAtags]\n",
    "    pAlen_dist = pAtags.div(pAtags.sum(axis=1), axis='index') * 100\n",
    "    \n",
    "    return pAlen_dist[range(lr[0],lr[1]+1)].mean(axis=1)\n",
    "\n",
    "pn_ctrl = panels[ctrl]\n",
    "local_density_ctrl = get_local_density_mean(pn_ctrl, local_range, pAlen_range, minimum_pAtags)\n",
    "\n",
    "df_ld = pd.DataFrame()\n",
    "for smp in subsamples:\n",
    "    if smp == ctrl: continue\n",
    "        \n",
    "    pn = panels[smp]\n",
    "    local_density_mean = get_local_density_mean(pn)\n",
    "    local_density_log2fold = local_density_mean.div(local_density_ctrl).dropna().map(np.log2)\n",
    "    df_ld[smp] = local_density_log2fold\n",
    "    \n",
    "df_ld.columns = ['siLARP1']\n"
   ]
  },
  {
   "cell_type": "code",
   "execution_count": 89,
   "metadata": {},
   "outputs": [
    {
     "data": {
      "text/plain": [
       "siLARP1    481\n",
       "Name: count, dtype: int64"
      ]
     },
     "execution_count": 89,
     "metadata": {},
     "output_type": "execute_result"
    }
   ],
   "source": [
    "nb_genes = df_ld.describe().loc['count'].astype(int)\n",
    "nb_genes"
   ]
  },
  {
   "cell_type": "markdown",
   "metadata": {},
   "source": [
    "combined boxplot"
   ]
  },
  {
   "cell_type": "code",
   "execution_count": 90,
   "metadata": {},
   "outputs": [],
   "source": [
    "subsets = ['mtgenes']\n",
    "# subsets = ['topgenes', 'mtgenes']\n",
    "subset_labels = {\n",
    "    'mtgenes': \"Mito\",\n",
    "    'topgenes': \"TOP\",\n",
    "}\n",
    "\n",
    "df_rest = df_ld.copy()\n",
    "for subset in subsets:\n",
    "    df_rest = df_rest.drop(gene_subsets[subset], errors='ignore')\n",
    "\n",
    "df_sep = pd.melt(df_rest)\n",
    "df_sep.loc[:, 'category'] = 'Cytosol'\n",
    "\n",
    "for subset in subsets:\n",
    "    subset_genes = gene_subsets[subset]\n",
    "    subset_label = subset_labels[subset]\n",
    "    df_subset = pd.melt(df_ld.reindex(subset_genes).dropna())\n",
    "    df_subset.loc[:, 'category'] = subset_label\n",
    "    df_sep.drop \n",
    "    \n",
    "    df_sep = pd.concat([df_sep, df_subset])"
   ]
  },
  {
   "cell_type": "code",
   "execution_count": 91,
   "metadata": {},
   "outputs": [
    {
     "data": {
      "image/png": "[encoded data removed]",
      "text/plain": [
       "<Figure size 72x180 with 1 Axes>"
      ]
     },
     "metadata": {},
     "output_type": "display_data"
    }
   ],
   "source": [
    "savefig = False\n",
    "minifig = True\n",
    "figsize = 2, 5\n",
    "if minifig is True:\n",
    "    if not minifig in styles: styles.append(\"../mini.mplstyle\")\n",
    "    figsize = list(map(lambda x:x/2, figsize))\n",
    "\n",
    "colors = ['gray'] + [colors_by_smp[subset] for subset in subsets]\n",
    "box_alpha=0.3\n",
    "\n",
    "with plt.style.context(styles):\n",
    "    fig, ax = plt.subplots(figsize=figsize)\n",
    "    ax.axhline(y=0, ls=\"--\", color='k')\n",
    "        \n",
    "    # Stripplot\n",
    "    ax = sns.stripplot(x='category', y='value', data=df_sep, \n",
    "                       s=2, alpha=0.5, palette=[to_rgba(c) for c in colors], \n",
    "                       edgecolor='none', rasterized=True, zorder=6)\n",
    "    \n",
    "    # Boxplot\n",
    "    ax = sns.boxplot(x='category', y='value', palette=[to_rgba(c, alpha=box_alpha) for c in colors], data=df_sep,\n",
    "                     showfliers=False, zorder=7)\n",
    "    for patch in ax.artists:\n",
    "        r, g, b, a = patch.get_facecolor()\n",
    "        patch.set_facecolor((r, g, b, .5))\n",
    "        \n",
    "    ax.set_xlabel(\"\")\n",
    "    ax.set_ylabel(f\"Fold change of fraction\\n(siLARP1 / siNC, log2)\")\n",
    "    ax.text(x=0.5, y=0.9, s=f\"n={nb_genes[0]}\", ha='center', transform=ax.transAxes)\n",
    "    ax.set_title(\"Local poly(A)\\ndensity ({}-{} nt)\".format(*local_range), fontsize='medium')\n",
    "    ax.grid(axis='y')\n",
    "    \n",
    "    if len(subsets) > 1:\n",
    "        plt.xticks(rotation=45)\n",
    "        \n",
    "    fname_adduct = \"\"\n",
    "    if minifig is True:\n",
    "        fname_adduct += \"_mini\"\n",
    "\n",
    "    if savefig is True:\n",
    "        outfigpath = \"../plots/local_pAd_folds_{}_{}-{}{}.pdf\".format(work, lr[0], lr[1], fname_adduct)\n",
    "        plt.savefig(outfigpath, bbox_inches='tight', dpi=300)\n",
    "        print( outfigpath, 'saved')"
   ]
  },
  {
   "cell_type": "markdown",
   "metadata": {},
   "source": [
    "combined swarm plot"
   ]
  },
  {
   "cell_type": "code",
   "execution_count": 92,
   "metadata": {},
   "outputs": [
    {
     "name": "stderr",
     "output_type": "stream",
     "text": [
      "/utp/joha/miniconda3/envs/polya/lib/python3.7/site-packages/pandas/core/indexing.py:1494: FutureWarning: \n",
      "Passing list-likes to .loc or [] with any missing label will raise\n",
      "KeyError in the future, you can use .reindex() as an alternative.\n",
      "\n",
      "See the documentation here:\n",
      "https://pandas.pydata.org/pandas-docs/stable/indexing.html#deprecate-loc-reindex-listlike\n",
      "  return self._getitem_tuple(key)\n"
     ]
    },
    {
     "data": {
      "image/png": "[encoded data removed]",
      "text/plain": [
       "<Figure size 72x180 with 1 Axes>"
      ]
     },
     "metadata": {},
     "output_type": "display_data"
    }
   ],
   "source": [
    "savefig = False\n",
    "minifig = True\n",
    "subsets = ['topgenes','mtgenes']\n",
    "styles = ['../polya.mplstyle']\n",
    "# non_ctrl = subsamples.copy()\n",
    "# non_ctrl.pop(subsamples.index(ctrl))\n",
    "non_ctrl = ['siLARP1']\n",
    "subset_colors = [colors_by_smp[subset] for subset in subsets]\n",
    "figsize = 1 + len(non_ctrl), 5\n",
    "if minifig is True:\n",
    "    if \"../mini.mplstyle\" not in styles: styles.append(\"../mini.mplstyle\")\n",
    "    figsize = list(map(lambda x:x/2, figsize))\n",
    "\n",
    "with plt.style.context(styles):\n",
    "    fig, ax = plt.subplots(1, figsize=figsize)\n",
    "    ax.axhline(y=0, ls='--', lw=2, alpha=1, color='black')\n",
    "    \n",
    "    # All genes but the subset\n",
    "    df_rest = df_ld.drop(subset, errors='ignore')\n",
    "    ax = sns.swarmplot(data=df_rest[non_ctrl], size=1.75, color='gray', ax=ax, rasterized=True)\n",
    "    \n",
    "    # The subset genes\n",
    "    for si, subset in enumerate(subsets):\n",
    "        subset_genes = gene_subsets[subset]\n",
    "        scolor = subset_colors[si]\n",
    "        slabel = subset_labels[subset]\n",
    "        ax = sns.swarmplot(data=df_ld.loc[subset_genes, non_ctrl], size=2.5, color=scolor, label=slabel, ax=ax)\n",
    "\n",
    "    ax.set_ylim([-1.5, 1.2])\n",
    "    ax.set_ylabel(f\"Fold change, log2\\n(siLARP1 / {ctrl})\")\n",
    "    ax.set_title(f\"Local poly(A)\\ndensity ({lr[0]}–{lr[1]} nt)\", fontsize='medium')\n",
    "    ax.legend(fontsize='medium')\n",
    "    ax.grid(axis='y')\n",
    "\n",
    "    for i, cnt in enumerate(nb_genes):\n",
    "        ax.text(x=i, y=-1.3, s=f'n={cnt}', ha='center')\n",
    "\n",
    "    fname_adduct = \"\"\n",
    "    if minifig is True:\n",
    "        fname_adduct += \"_mini\"\n",
    "\n",
    "    if savefig is True:\n",
    "        outfigpath = \"../plots/local_pAd_folds_{}_{}-{}{}.pdf\".format(work, lr[0], lr[1], fname_adduct)\n",
    "        plt.savefig(outfigpath, bbox_inches='tight', dpi=300)\n",
    "        print( outfigpath, 'saved')\n",
    "\n",
    "    plt.show()"
   ]
  },
  {
   "cell_type": "code",
   "execution_count": 93,
   "metadata": {},
   "outputs": [
    {
     "data": {
      "text/plain": [
       "Index(['ENSG00000112306.7', 'ENSG00000203950.6', 'ENSG00000073111.13',\n",
       "       'ENSG00000115306.15', 'ENSG00000118705.16', 'ENSG00000215301.9',\n",
       "       'ENSG00000134871.17', 'ENSG00000224631.4', 'ENSG00000116560.10',\n",
       "       'ENSG00000124783.12',\n",
       "       ...\n",
       "       'ENSG00000105220.14', 'ENSG00000131462.7', 'ENSG00000175203.15',\n",
       "       'ENSG00000172115.8', 'ENSG00000049656.13', 'ENSG00000186184.15',\n",
       "       'ENSG00000106211.8', 'ENSG00000100353.17', 'ENSG00000186522.14',\n",
       "       'ENSG00000119705.9'],\n",
       "      dtype='object', length=481)"
      ]
     },
     "execution_count": 93,
     "metadata": {},
     "output_type": "execute_result"
    }
   ],
   "source": [
    "df_ld.sort_values(by='siLARP1', ascending=False).index"
   ]
  },
  {
   "cell_type": "code",
   "execution_count": 94,
   "metadata": {},
   "outputs": [
    {
     "data": {
      "text/plain": [
       "siLARP1    0.677787\n",
       "Name: ENSG00000112306.7, dtype: float64"
      ]
     },
     "execution_count": 94,
     "metadata": {},
     "output_type": "execute_result"
    }
   ],
   "source": [
    "df_ld.loc['ENSG00000112306.7']"
   ]
  },
  {
   "cell_type": "markdown",
   "metadata": {},
   "source": [
    "### Heat map for the individual poly(A) length histograms"
   ]
  },
  {
   "cell_type": "code",
   "execution_count": 57,
   "metadata": {},
   "outputs": [],
   "source": [
    "# Additional imports\n",
    "from polya.utils import binning\n",
    "from sklearn.cluster import KMeans\n",
    "from scipy.cluster.hierarchy import dendrogram, linkage\n",
    "from mpl_toolkits.axes_grid1 import make_axes_locatable"
   ]
  },
  {
   "cell_type": "code",
   "execution_count": 58,
   "metadata": {},
   "outputs": [],
   "source": [
    "%load_ext autoreload\n",
    "%autoreload 2"
   ]
  },
  {
   "cell_type": "code",
   "execution_count": 59,
   "metadata": {},
   "outputs": [
    {
     "name": "stdout",
     "output_type": "stream",
     "text": [
      "siNC\n",
      "siLARP1-3\n"
     ]
    }
   ],
   "source": [
    "# Binning and counting poly(A) tas and get fractions for each bin\n",
    "\n",
    "pAlen_range = (10, 220)\n",
    "drop_mtgenes = True\n",
    "scale = \"linear\"\n",
    "binsize = 20\n",
    "pseudocount = 1\n",
    "edges = binning(pAlen_range[0], pAlen_range[1], binsize, cap=True)\n",
    "\n",
    "pAtag_cutoff = 100\n",
    "\n",
    "dfs = {}\n",
    "for smp in subsamples:\n",
    "    pn = panels[smp].drop(mtgenes, errors=\"ignore\") if drop_mtgenes else panels[smp]\n",
    "\n",
    "    df_polyA = pn.sum(axis=2).T.iloc[:, pAlen_range[0]:pAlen_range[1] + 1]\n",
    "    b = np.digitize(df_polyA.columns, edges) - 1\n",
    "    b[-1] -= 1 # To include the right bound\n",
    "    df_polyA.loc[\"bin\"] = b\n",
    "    df_binned = df_polyA.T.groupby(\"bin\").agg(np.sum).T\n",
    "    \n",
    "    if pAtag_cutoff is not None:\n",
    "        df_binned = df_binned[df_binned.sum(axis=1) >= pAtag_cutoff]\n",
    "        \n",
    "    df_binned += pseudocount\n",
    "    df_binned_frac = df_binned.div(df_binned.sum(axis=1), axis=\"index\")\n",
    "\n",
    "    dfs[smp] = df_binned_frac\n",
    "    print(smp)\n",
    "\n"
   ]
  },
  {
   "cell_type": "code",
   "execution_count": 61,
   "metadata": {},
   "outputs": [
    {
     "name": "stdout",
     "output_type": "stream",
     "text": [
      "../plots/heatmap_fraction_fold_jp3_siLARP1-3_over_siNC.pdf saved\n"
     ]
    },
    {
     "data": {
      "image/png": "[encoded data removed]",
      "text/plain": [
       "<Figure size 288x252 with 2 Axes>"
      ]
     },
     "metadata": {},
     "output_type": "display_data"
    }
   ],
   "source": [
    "savefig = True\n",
    "figsize = 4, 3.5\n",
    "hierarchical_clustering= False\n",
    "styles = ['../polya.mplstyle']\n",
    "\n",
    "df_frac_ctrl = dfs[ctrl]\n",
    "for smp in dfs:\n",
    "    if smp == ctrl: continue\n",
    "    df_frac = dfs[smp].copy()\n",
    "    df_fold = np.log2(df_frac.div(df_frac_ctrl, axis='index').dropna())\n",
    "    \n",
    "    if hierarchical_clustering is True:\n",
    "        X = np.array(df_fold)\n",
    "        Z = linkage(X, \"ward\")\n",
    "        D = dendrogram(Z)\n",
    "        reordering_indices = df_fold.iloc[D['ivl']].index\n",
    "        df_fold = df_fold.loc[reordering_indices]\n",
    "    \n",
    "    with plt.style.context(styles):\n",
    "        fig, ax = plt.subplots(figsize=figsize)\n",
    "        cmap = 'seismic'\n",
    "        image = ax.pcolor(df_fold.iloc[:,:], vmin=-2, vmax=2, cmap=cmap, rasterized=True)\n",
    "\n",
    "\n",
    "        # Adjust x-axis\n",
    "        # xticklabels = edges + [pAlen_range[1]]\n",
    "        xticklabels = edges\n",
    "        ax.set_xticks(np.arange(len(xticklabels)))\n",
    "        ax.set_xticklabels(xticklabels)\n",
    "        ax.set_xlabel('Poly(A) length (nt)')\n",
    "\n",
    "        # Adjust y-axis\n",
    "        ax.set_yticks([])\n",
    "        ax.set_ylabel(f'Fold fraction over {ctrl}, log2')\n",
    "\n",
    "        # Adjust a colorbar\n",
    "        # create an axes on the right side of ax. The width of cax will be (size)%\n",
    "        # of ax and the padding between cax and ax will be fixed at 0.05 inch.\n",
    "        divider = make_axes_locatable(ax)\n",
    "        cax = divider.append_axes(\"bottom\", size=\"1.5%\", pad=0.5)\n",
    "        cbar = plt.colorbar(image, cax=cax, orientation=\"horizontal\")\n",
    "        cbar.solids.set_rasterized(True)\n",
    "\n",
    "        ax.set_title(f\"{smp.split('-')[0]}, n={len(df_fold)}\", fontsize='medium')\n",
    "\n",
    "        fname_adduct = ''\n",
    "\n",
    "        if hierarchical_clustering is True:\n",
    "            fname_adduct += '_hc_reordered'\n",
    "\n",
    "        if savefig is True:\n",
    "            outfigpath = \"../plots/heatmap_fraction_fold_{}_{}_over_{}{}.pdf\".format(work, smp, ctrl, fname_adduct)\n",
    "            plt.savefig(outfigpath, dpi=300, bbox_inches='tight')\n",
    "            print(outfigpath, 'saved')\n",
    "\n",
    "        plt.show()\n"
   ]
  },
  {
   "cell_type": "markdown",
   "metadata": {},
   "source": [
    "#### Modal poly(A) length scatter"
   ]
  },
  {
   "cell_type": "code",
   "execution_count": 59,
   "metadata": {},
   "outputs": [],
   "source": [
    "smp = \"NC2\"\n",
    "\n",
    "pAlen_range = [10, 220]; pr=pAlen_range\n",
    "minimum_pAtags = 200\n",
    "drop_mtgenes = True\n",
    "np.random.seed(42)\n",
    "\n",
    "pn = panels[smp].drop(mtgenes, errors=\"ignore\") if drop_mtgenes else panels[smp]\n",
    "pAtags = pn.sum(axis=2).iloc[pr[0]:pr[1]+1, :].T\n",
    "pAtags = pAtags[pAtags.sum(axis=1) >= minimum_pAtags]\n",
    "pAshuffled = pAtags.columns.tolist(); np.random.shuffle(pAshuffled)\n",
    "pAmodes = pAtags[pAshuffled].apply(pd.Series.idxmax, axis=1)\n",
    "pAmeans = pAtags.multiply(pAtags.columns).sum(axis=1) / pAtags.sum(axis=1) # Arithmatic mean"
   ]
  },
  {
   "cell_type": "code",
   "execution_count": 60,
   "metadata": {},
   "outputs": [
    {
     "name": "stdout",
     "output_type": "stream",
     "text": [
      "../plots/modal_vs_mean_pAlen_ms121_10-220_wo_mtgenes_mini.pdf\n"
     ]
    },
    {
     "data": {
      "image/png": "[encoded data removed]",
      "text/plain": [
       "<Figure size 180x126 with 1 Axes>"
      ]
     },
     "metadata": {},
     "output_type": "display_data"
    }
   ],
   "source": [
    "savefig = True\n",
    "minifig = True\n",
    "\n",
    "x = pAmodes\n",
    "y = pAmeans\n",
    "\n",
    "figsize = 5, 3.5\n",
    "\n",
    "if minifig is True:\n",
    "    styles.append(\"../mini.mplstyle\")\n",
    "    figsize = list(map(lambda x:x/2, figsize))\n",
    "    \n",
    "with plt.style.context(styles):\n",
    "\n",
    "    fig = plt.figure(figsize=figsize)\n",
    "    ax = fig.add_subplot(111)\n",
    "    \n",
    "    ax.scatter(x, y, s=2, color=\"grey\", edgecolor=\"none\", rasterized=True)\n",
    "    sns.kdeplot(x, y, n_levels=5, cmap=\"cubehelix\", ax=ax)\n",
    "    \n",
    "    ax.text(x=0.95, y=0.1, s=\"n=%d\"%(len(x)), ha=\"right\", transform=ax.transAxes)\n",
    "    ax.set_xlim([0,230])\n",
    "    ax.set_xticks(range(0,250,50))\n",
    "    ax.set_xlabel(\"Mode (nt)\")\n",
    "    ax.set_ylabel(\"Mean (nt)\")\n",
    "    ax.set_title(work, fontsize=\"medium\")\n",
    "    ax.grid(True)\n",
    "\n",
    "    fname_adduct = \"\"\n",
    "    if drop_mtgenes is True: fname_adduct += \"_wo_mtgenes\"\n",
    "    if minifig is True: fname_adduct += \"_mini\"\n",
    "\n",
    "    if savefig is True:\n",
    "        outfigpath = \"../plots/modal_vs_mean_pAlen_{}_{}-{}{}.pdf\".format(work, pr[0], pr[1], fname_adduct)\n",
    "        print(outfigpath)\n",
    "        fig.savefig(outfigpath, dpi=300, bbox_inches=\"tight\")\n",
    "        \n",
    "    plt.show()"
   ]
  },
  {
   "cell_type": "code",
   "execution_count": 35,
   "metadata": {},
   "outputs": [
    {
     "name": "stderr",
     "output_type": "stream",
     "text": [
      "/utp/joha/miniconda3/envs/polya/lib/python3.7/site-packages/pandas/core/indexing.py:1494: FutureWarning: \n",
      "Passing list-likes to .loc or [] with any missing label will raise\n",
      "KeyError in the future, you can use .reindex() as an alternative.\n",
      "\n",
      "See the documentation here:\n",
      "https://pandas.pydata.org/pandas-docs/stable/indexing.html#deprecate-loc-reindex-listlike\n",
      "  return self._getitem_tuple(key)\n"
     ]
    },
    {
     "data": {
      "image/png": "[encoded data removed]",
      "text/plain": [
       "<Figure size 108x180 with 1 Axes>"
      ]
     },
     "metadata": {},
     "output_type": "display_data"
    }
   ],
   "source": [
    "savefig = False\n",
    "minifig = True\n",
    "subsets = ['mtgenes', 'topgenes']\n",
    "styles = ['../polya.mplstyle']\n",
    "# non_ctrl = subsamples.copy()\n",
    "# non_ctrl.pop(subsamples.index(ctrl))\n",
    "non_ctrl=['siLARP1']\n",
    "colors = ['gray'] + [colors_by_smp[subset] for subset in subsets]\n",
    "figsize = 1.5 + 1.5*len(non_ctrl), 5\n",
    "if minifig is True:\n",
    "    if not minifig in styles: styles.append(\"../mini.mplstyle\")\n",
    "    figsize = list(map(lambda x:x/2, figsize))\n",
    "\n",
    "with plt.style.context(styles):\n",
    "    fig, ax = plt.subplots(1, figsize=figsize)\n",
    "    ax.axhline(y=0, ls='--', lw=2, alpha=1, color='black')\n",
    "    \n",
    "    # All genes but the subset\n",
    "    df_rest = df_ld.drop(subset, errors='ignore')\n",
    "    ax = sns.swarmplot(data=df_rest[non_ctrl], size=1.75, color='gray', ax=ax, rasterized=True)\n",
    "    \n",
    "    # The subset genes\n",
    "    for si, subset in enumerate(subsets):\n",
    "        subset_genes = gene_subsets[subset]\n",
    "        ax = sns.swarmplot(data=df_ld.loc[subset_genes, non_ctrl], size=2.5, color=colors[si], ax=ax)\n",
    "\n",
    "    ax.set_ylim([-1.5, 1.2])\n",
    "    ax.set_ylabel(f\"Fold over {ctrl}, log2\")\n",
    "    ax.set_title(f\"Local poly(A) density, {lr[0]}–{lr[1]} nt\", fontsize='medium')\n",
    "    ax.grid(axis='y')\n",
    "\n",
    "    for i, cnt in enumerate(nb_genes):\n",
    "        ax.text(x=i, y=-1.3, s=f'n={cnt}', ha='center')\n",
    "\n",
    "    fname_adduct = \"\"\n",
    "    if minifig is True:\n",
    "        fname_adduct += \"_mini\"\n",
    "\n",
    "    if savefig is True:\n",
    "        outfigpath = \"/casa/joha/projects/polya/plots/local_pAd_folds_{}_{}-{}{}.pdf\".format(work, lr[0], lr[1], fname_adduct)\n",
    "        plt.savefig(outfigpath, bbox_inches='tight', dpi=300)\n",
    "        print( outfigpath, 'saved')\n",
    "\n",
    "    plt.show()"
   ]
  }
 ],
 "metadata": {
  "kernelspec": {
   "display_name": "polya",
   "language": "python",
   "name": "polya"
  },
  "language_info": {
   "codemirror_mode": {
    "name": "ipython",
    "version": 3
   },
   "file_extension": ".py",
   "mimetype": "text/x-python",
   "name": "python",
   "nbconvert_exporter": "python",
   "pygments_lexer": "ipython3",
   "version": "3.7.7"
  }
 },
 "nbformat": 4,
 "nbformat_minor": 4
}
