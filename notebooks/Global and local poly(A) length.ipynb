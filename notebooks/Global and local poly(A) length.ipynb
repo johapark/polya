{
 "cells": [
  {
   "cell_type": "code",
   "execution_count": 1,
   "metadata": {},
   "outputs": [],
   "source": [
    "# Built-in\n",
    "from pathlib import Path\n",
    "\n",
    "# Third-party\n",
    "from matplotlib.ticker import AutoMinorLocator\n",
    "from matplotlib import pyplot as plt\n",
    "import seaborn as sns\n",
    "import pandas as pd\n",
    "import numpy as np\n",
    "import feather\n",
    "import lzma\n",
    "\n",
    "# Local\n",
    "from polya.utils import smooth\n",
    "from polya.plot import custom_cmap\n",
    "styles = ['../polya.mplstyle']\n",
    "\n",
    "work = \"jp2\""
   ]
  },
  {
   "cell_type": "code",
   "execution_count": 2,
   "metadata": {},
   "outputs": [],
   "source": [
    "samples = {\n",
    "    'jp2': ['siNC', 'siLARP1-3', 'siLARP1-S', 'siLARP44B', 'siMKRN1', 'siMKRN1siLARP1-3'],\n",
    "}[work]\n",
    "\n",
    "subsamples = samples[:2]\n",
    "\n",
    "ctrl = {\n",
    "}.get(work, samples[0])"
   ]
  },
  {
   "cell_type": "code",
   "execution_count": 3,
   "metadata": {},
   "outputs": [
    {
     "name": "stderr",
     "output_type": "stream",
     "text": [
      "/utp/joha/miniconda3/envs/polya/lib/python3.7/site-packages/pandas/io/packers.py:187: FutureWarning: \n",
      "Panel is deprecated and will be removed in a future version.\n",
      "The recommended way to represent these types of 3-dimensional data are with a MultiIndex on a DataFrame, via the Panel.to_frame() method\n",
      "Alternatively, you can use the xarray package http://xarray.pydata.org/en/stable/.\n",
      "Pandas provides a `.to_xarray()` method to help automate this conversion.\n",
      "\n",
      "  unpacked_obj = list(unpack(fh, encoding=encoding, **kwargs))\n"
     ]
    }
   ],
   "source": [
    "workdir = Path(\"/casa/joha/projects/jp/works/\")\n",
    "\n",
    "panels = {\n",
    "    s: pd.read_msgpack(lzma.open(workdir/work/\"tagcounts/{}-single-U-canonical.msgpack.xz\".format(s), \"rb\"))\n",
    "    for s in samples\n",
    "} # pd.read_msgpack is deprecated in the >0.25.0 version of pandas"
   ]
  },
  {
   "cell_type": "markdown",
   "metadata": {},
   "source": [
    "Get gene lists for marking specific subsets"
   ]
  },
  {
   "cell_type": "code",
   "execution_count": 7,
   "metadata": {},
   "outputs": [
    {
     "name": "stdout",
     "output_type": "stream",
     "text": [
      "39 MT-encoded genes\n",
      "89 TOP genes\n",
      "1177 RP genes\n"
     ]
    },
    {
     "name": "stderr",
     "output_type": "stream",
     "text": [
      "/utp/joha/miniconda3/envs/polya/lib/python3.7/site-packages/pyarrow/pandas_compat.py:752: FutureWarning: .labels was deprecated in version 0.24.0. Use .codes instead.\n",
      "  labels, = index.labels\n"
     ]
    }
   ],
   "source": [
    "genepath = \"/casa/joha/scripts/tailseeker3.1.7/refdb/level3/GRCh38/annotations-gene.feather\"\n",
    "df_gene = feather.read_dataframe(genepath)\n",
    "\n",
    "# Mitochondrially-encoded genes\n",
    "df_mtgenes = df_gene[df_gene[\"seqname\"].map(lambda x: x == \"chrM\" if x else False)]\n",
    "mtgenes = df_mtgenes[\"gene_id\"]\n",
    "mtgenes = mtgenes.append(pd.Series(['ENSG00000247627.2', 'ENSG00000248527.1']) ) # adding MTND4P12, MTATP6P1 pseudogenes\n",
    "print( len(mtgenes), \"MT-encoded genes\")\n",
    "\n",
    "# TOP genes: The list is from Yamashita et al., NAR, 2008\n",
    "topglist = [g.strip().upper() for g in open(\"../data/external/human_top_genes_nar_2008.csv\", \"rt\").readlines()]\n",
    "df_topgenes = df_gene[df_gene[\"gene_name\"].isin(topglist)]\n",
    "topgenes = df_topgenes[\"gene_id\"]\n",
    "print( len(topgenes), \"TOP genes\" )\n",
    "\n",
    "# RP genes\n",
    "df_rpgenes = df_gene[df_gene[\"gene_description\"].map(lambda x: x.startswith(\"ribosomal protein\") if x else False)]\n",
    "df_rpgenes = df_rpgenes[df_rpgenes[\"gene_description\"].map(lambda x: \"kinase\" not in x)]\n",
    "df_rpgenes = df_rpgenes[df_rpgenes[\"gene_description\"].map(lambda x: \"like\" not in x)]\n",
    "df_rpgenes = df_rpgenes[df_rpgenes[\"gene_description\"].map(lambda x: \"binding\" not in x)]\n",
    "print(len(df_rpgenes), \"RP genes\")\n",
    "rpgenes = df_rpgenes[\"gene_id\"]\n",
    "\n",
    "gene_subsets = {\n",
    "    'mtgenes': mtgenes,\n",
    "    'topgenes': topgenes,\n",
    "    'rpgenes': rpgenes,\n",
    "}"
   ]
  },
  {
   "cell_type": "markdown",
   "metadata": {},
   "source": [
    "Color settings"
   ]
  },
  {
   "cell_type": "code",
   "execution_count": 21,
   "metadata": {},
   "outputs": [
    {
     "data": {
      "text/plain": [
       "['siNC', 'siLARP1-3']"
      ]
     },
     "execution_count": 21,
     "metadata": {},
     "output_type": "execute_result"
    },
    {
     "data": {
      "image/png": "[encoded data removed]",
      "text/plain": [
       "<Figure size 144x72 with 1 Axes>"
      ]
     },
     "metadata": {
      "needs_background": "light"
     },
     "output_type": "display_data"
    }
   ],
   "source": [
    "# colors by sample\n",
    "colors = { \n",
    "    'mock': '#000000',\n",
    "    'siNC': '#222222',\n",
    "    'Input': '#222222',\n",
    "    \n",
    "    'LARP1': '#DD3224',\n",
    "    'siLARP1': '#DD3224',\n",
    "    'siLARP1-3': '#DD3224',\n",
    "    'siLARP1-S': '#FF0524',\n",
    "    \n",
    "    'LARP4': '#F4D348',\n",
    "    'LARP5': '#93C01F',\n",
    "    'siLARP4_5': '#93C01F',\n",
    "    'siLARP44B': '#93C01F',\n",
    "    \n",
    "    'sieIF4G': '#071AF5',\n",
    "    'eIF4G1': '#071AF5',\n",
    "    \n",
    "    'siMKRN': '#F4D348',\n",
    "    'siMKRN1': '#F4D348',\n",
    "    'siMKRN1siLARP1-3': '#0750A5',\n",
    "    'PABP': '#0750A5',\n",
    "    \n",
    "    'mtgenes': '#FF8B00',\n",
    "    'topgenes': '#246004',\n",
    "}\n",
    "\n",
    "sns.palplot([colors[smp] for smp in subsamples])\n",
    "subsamples"
   ]
  },
  {
   "cell_type": "markdown",
   "metadata": {},
   "source": [
    "### Global poly(A)-tail length distribution"
   ]
  },
  {
   "cell_type": "code",
   "execution_count": 12,
   "metadata": {},
   "outputs": [
    {
     "data": {
      "image/png": "[encoded data removed]",
      "text/plain": [
       "<Figure size 302.4x180 with 1 Axes>"
      ]
     },
     "metadata": {},
     "output_type": "display_data"
    }
   ],
   "source": [
    "## Configurations\n",
    "savefig = False\n",
    "minifig = True\n",
    "smoothing = True\n",
    "pAlen_range = [10, 220]; pr = pAlen_range\n",
    "smoothing_window = 15\n",
    "figsize = 8.4,5\n",
    "\n",
    "fmax = None # Maximum value of the fraction\n",
    "\n",
    "if minifig is True:\n",
    "m\n",
    "    figsize = list(map(lambda x:x/2, figsize))\n",
    "    \n",
    "with plt.style.context(styles):\n",
    "    fig = plt.figure(figsize=figsize)\n",
    "    ax = fig.add_subplot(111)\n",
    "    for si, smp in enumerate(subsamples):\n",
    "        pn = panels[smp]\n",
    "    \n",
    "        # Exlucde specific subsets of genes\n",
    "        if drop_subsets:\n",
    "            for subset in drop_subsets:\n",
    "                pn = pn.drop(gene_subsets[subset], errors='ignore')\n",
    "\n",
    "        if not pAlen_range: pAlen_range = [0, pn.shape[1]-1]\n",
    "        \n",
    "        # Normalization\n",
    "        pAtags = pn.sum(axis=0).sum(axis=1).iloc[pr[0]:pr[1]+1]\n",
    "        pAlen_dist = pAtags / pAtags.sum() * 100 # fraction in percent\n",
    "\n",
    "        # Smoothing\n",
    "        if smoothing is True:\n",
    "            pAlen_dist = smooth(np.array(pAlen_dist), window_len=smoothing_window)\n",
    "\n",
    "        if fmax is None: fmax = pAlen_dist.max()\n",
    "        elif fmax < pAlen_dist.max(): fmax = pAlen_dist.max()\n",
    "            \n",
    "        if smp == 'siLARP4_5': label = 'siLARP4/4B'\n",
    "        else: label = smp\n",
    "\n",
    "        ## Plotting\n",
    "        if colors: ax.plot(np.arange(pr[0], pr[1]+1), pAlen_dist, color=colors[smp], label=label, zorder=7)\n",
    "        else: ax.plot(np.arange(pr[0], pr[1]+1), pAlen_dist, label=label, zorder=7)\n",
    "\n",
    "    ax.xaxis.set_minor_locator(AutoMinorLocator(5))\n",
    "    ax.yaxis.set_minor_locator(AutoMinorLocator(2)) \n",
    "    ax.xaxis.grid(True, which='major', color='#878787', linestyle='-', lw=0.5)\n",
    "    ax.xaxis.grid(True, which='minor', color='#878787', linestyle='--', lw=0.3)\n",
    "    ax.yaxis.grid(True, which='major', color='#878787', linestyle='-', lw=0.5)\n",
    "    ax.yaxis.grid(True, which='minor', color='#878787', linestyle='--', lw=0.3)\n",
    "    ax.set_xlim([0,230])\n",
    "    ax.set_xticks(np.arange(0,230,50))\n",
    "    ax.set_ylim([0, np.round(fmax * 1.1, 1)])\n",
    "#     ax.set_ylim([0,1.4])\n",
    "    ax.legend(loc=\"upper right\", fontsize=\"medium\")#, ncol=2, columnspacing=0.1)\n",
    "#     ax.legend(loc=\"center left\", bbox_to_anchor=[1.01,0.5])\n",
    "    ax.set_xlabel(\"Poly(A) length (nt)\")\n",
    "    ax.set_ylabel(\"Fraction (%)\")\n",
    "    title = \"{}\".format(work) if 'mtgenes' not in drop_subsets else \"{}, w/o mt-mRNAs\".format(work)\n",
    "    ax.set_title(title, fontsize=\"medium\")\n",
    "    \n",
    "    fname_adduct = \"\"\n",
    "    if 'mtgenes' in drop_subsets: fname_adduct += \"_wo_mtgenes\"\n",
    "    if minifig is True: fname_adduct += \"_mini\"\n",
    "\n",
    "    if savefig is True:\n",
    "        outfigpath = \"/casa/joha/projects/polya/plots/global_pAlen_dists_{}_{}-{}{}.pdf\".format(work, pr[0], pr[1], fname_adduct)\n",
    "        print(outfigpath)\n",
    "        fig.savefig(outfigpath, dpi=300, bbox_inches=\"tight\")\n",
    "\n",
    "    plt.show()\n",
    "\n",
    "\n",
    "\n"
   ]
  },
  {
   "cell_type": "markdown",
   "metadata": {},
   "source": [
    "### Local poly(A) density of individual genes compared to control"
   ]
  },
  {
   "cell_type": "code",
   "execution_count": 13,
   "metadata": {},
   "outputs": [],
   "source": [
    "local_range = [30, 60]; lr = local_range # Local poly(A) range to compare\n",
    "pAlen_range = [10, 220]; pr = pAlen_range # Entire poly(A) range that will be considered\n",
    "minimum_pAtags = 250\n",
    "\n",
    "def get_local_density_mean(panel, local_range=local_range, pAlen_range=pAlen_range, minimum_pAtags=minimum_pAtags):\n",
    "    lr = local_range; pr = pAlen_range\n",
    "    \n",
    "    pAtags = panel.sum(axis=2).iloc[pr[0]:pr[1]+1, :].T\n",
    "    pAtags = pAtags[pAtags.sum(axis=1) >= minimum_pAtags]\n",
    "    pAlen_dist = pAtags.div(pAtags.sum(axis=1), axis='index') * 100\n",
    "    \n",
    "    return pAlen_dist[range(lr[0],lr[1]+1)].mean(axis=1)\n",
    "\n",
    "pn_ctrl = panels[ctrl]\n",
    "local_density_ctrl = get_local_density_mean(pn_ctrl, local_range, pAlen_range, minimum_pAtags)\n",
    "\n",
    "df_ld = pd.DataFrame()\n",
    "for smp in subsamples:\n",
    "    if smp == ctrl: continue\n",
    "        \n",
    "    pn = panels[smp]\n",
    "    local_density_mean = get_local_density_mean(pn)\n",
    "    local_density_log2fold = local_density_mean.div(local_density_ctrl).dropna().map(np.log2)\n",
    "    df_ld[smp] = local_density_log2fold\n"
   ]
  },
  {
   "cell_type": "code",
   "execution_count": 15,
   "metadata": {},
   "outputs": [
    {
     "data": {
      "text/plain": [
       "siLARP1-3    451\n",
       "Name: count, dtype: int64"
      ]
     },
     "execution_count": 15,
     "metadata": {},
     "output_type": "execute_result"
    }
   ],
   "source": [
    "nb_genes = df_ld.describe().loc['count'].astype(int)\n",
    "nb_genes"
   ]
  },
  {
   "cell_type": "code",
   "execution_count": 26,
   "metadata": {},
   "outputs": [
    {
     "data": {
      "text/plain": [
       "\u001b[0;31mSignature:\u001b[0m \u001b[0msubsamples\u001b[0m\u001b[0;34m.\u001b[0m\u001b[0mindex\u001b[0m\u001b[0;34m(\u001b[0m\u001b[0mvalue\u001b[0m\u001b[0;34m,\u001b[0m \u001b[0mstart\u001b[0m\u001b[0;34m=\u001b[0m\u001b[0;36m0\u001b[0m\u001b[0;34m,\u001b[0m \u001b[0mstop\u001b[0m\u001b[0;34m=\u001b[0m\u001b[0;36m9223372036854775807\u001b[0m\u001b[0;34m,\u001b[0m \u001b[0;34m/\u001b[0m\u001b[0;34m)\u001b[0m\u001b[0;34m\u001b[0m\u001b[0;34m\u001b[0m\u001b[0m\n",
       "\u001b[0;31mDocstring:\u001b[0m\n",
       "Return first index of value.\n",
       "\n",
       "Raises ValueError if the value is not present.\n",
       "\u001b[0;31mType:\u001b[0m      builtin_function_or_method\n"
      ]
     },
     "metadata": {},
     "output_type": "display_data"
    }
   ],
   "source": [
    "subsamples.index?"
   ]
  },
  {
   "cell_type": "code",
   "execution_count": 62,
   "metadata": {},
   "outputs": [
    {
     "name": "stderr",
     "output_type": "stream",
     "text": [
      "/utp/joha/miniconda3/envs/polya/lib/python3.7/site-packages/pandas/core/indexing.py:1494: FutureWarning: \n",
      "Passing list-likes to .loc or [] with any missing label will raise\n",
      "KeyError in the future, you can use .reindex() as an alternative.\n",
      "\n",
      "See the documentation here:\n",
      "https://pandas.pydata.org/pandas-docs/stable/indexing.html#deprecate-loc-reindex-listlike\n",
      "  return self._getitem_tuple(key)\n"
     ]
    },
    {
     "data": {
      "image/png": "[encoded data removed]",
      "text/plain": [
       "<Figure size 72x180 with 1 Axes>"
      ]
     },
     "metadata": {},
     "output_type": "display_data"
    }
   ],
   "source": [
    "savefig = False\n",
    "minifig = True\n",
    "subsets = ['mtgenes', 'topgenes']\n",
    "styles = ['barricade']\n",
    "non_ctrl = subsamples.copy()\n",
    "non_ctrl.pop(subsamples.index(ctrl))\n",
    "figsize = 1 + len(non_ctrl), 5\n",
    "if minifig is True:\n",
    "    styles.append(\"../mini.mplstyle\")\n",
    "    figsize = list(map(lambda x:x/2, figsize))\n",
    "\n",
    "with plt.style.context(styles):\n",
    "    fig, ax = plt.subplots(1, figsize=figsize)\n",
    "    ax.axhline(y=0, ls='--', lw=2, alpha=1, color='black')\n",
    "    \n",
    "    # All genes but the subset\n",
    "    df_rest = df_ld.drop(subset, errors='ignore')\n",
    "    ax = sns.swarmplot(data=df_rest[non_ctrl], size=1.75, color='gray', ax=ax, rasterized=True)\n",
    "    \n",
    "    # The subset genes\n",
    "    for subset in subsets:\n",
    "        subset_genes = gene_subsets[subset]\n",
    "        ax = sns.swarmplot(data=df_ld.loc[subset_genes, non_ctrl], size=2.5, color=colors[subset], ax=ax)\n",
    "\n",
    "    ax.set_ylim([-1.5, 1.2])\n",
    "    ax.set_ylabel(f\"Fold over {ctrl}, log2\")\n",
    "    ax.set_title(f\"Local poly(A) density, {lr[0]}–{lr[1]} nt\", fontsize='medium')\n",
    "    ax.grid(axis='y')\n",
    "\n",
    "    for i, cnt in enumerate(nb_genes):\n",
    "        ax.text(x=i, y=-1.3, s=f'n={cnt}', ha='center')\n",
    "\n",
    "    fname_adduct = \"\"\n",
    "    if minifig is True:\n",
    "        fname_adduct += \"_mini\"\n",
    "\n",
    "    if savefig is True:\n",
    "        outfigpath = \"/casa/joha/projects/polya/plots/local_pAd_folds_{}_{}-{}{}.pdf\".format(work, lr[0], lr[1], fname_adduct)\n",
    "        plt.savefig(outfigpath, bbox_inches='tight', dpi=300)\n",
    "        print( outfigpath, 'saved')\n",
    "\n",
    "    plt.show()"
   ]
  },
  {
   "cell_type": "markdown",
   "metadata": {},
   "source": [
    "### Heat map for the poly(A) length histograms"
   ]
  },
  {
   "cell_type": "code",
   "execution_count": 49,
   "metadata": {},
   "outputs": [],
   "source": [
    "# Additional imports\n",
    "from polya.utils import binning\n",
    "from sklearn.cluster import KMeans\n",
    "from scipy.cluster.hierarchy import dendrogram, linkage\n",
    "from mpl_toolkits.axes_grid1 import make_axes_locatable"
   ]
  },
  {
   "cell_type": "code",
   "execution_count": 8,
   "metadata": {},
   "outputs": [],
   "source": [
    "%load_ext autoreload\n",
    "%autoreload 2"
   ]
  },
  {
   "cell_type": "code",
   "execution_count": 50,
   "metadata": {},
   "outputs": [
    {
     "name": "stdout",
     "output_type": "stream",
     "text": [
      "siNC\n",
      "siLARP1-3\n"
     ]
    }
   ],
   "source": [
    "# Binning and counting poly(A) tas and get fractions for each bin\n",
    "\n",
    "pAlen_range = (10, 220)\n",
    "drop_mtgenes = True\n",
    "scale = \"linear\"\n",
    "binsize = 20\n",
    "pseudocount = 1\n",
    "edges = binning(pAlen_range[0], pAlen_range[1], binsize, cap=True)\n",
    "\n",
    "pAtag_cutoff = 100\n",
    "\n",
    "dfs = {}\n",
    "for smp in subsamples:\n",
    "    pn = panels[smp].drop(mtgenes, errors=\"ignore\") if drop_mtgenes else panels[smp]\n",
    "\n",
    "    df_polyA = pn.sum(axis=2).T.iloc[:, pAlen_range[0]:pAlen_range[1] + 1]\n",
    "    b = np.digitize(df_polyA.columns, edges) - 1\n",
    "    b[-1] -= 1 # To include the right bound\n",
    "    df_polyA.loc[\"bin\"] = b\n",
    "    df_binned = df_polyA.T.groupby(\"bin\").agg(np.sum).T\n",
    "    \n",
    "    if pAtag_cutoff is not None:\n",
    "        df_binned = df_binned[df_binned.sum(axis=1) >= pAtag_cutoff]\n",
    "        \n",
    "    df_binned += pseudocount\n",
    "    df_binned_frac = df_binned.div(df_binned.sum(axis=1), axis=\"index\")\n",
    "\n",
    "    dfs[smp] = df_binned_frac\n",
    "    print(smp)\n",
    "\n"
   ]
  },
  {
   "cell_type": "code",
   "execution_count": 65,
   "metadata": {},
   "outputs": [
    {
     "name": "stdout",
     "output_type": "stream",
     "text": [
      "/casa/joha/projects/polya/plots/heatmap_fraction_fold_jp2_siLARP1-3_over_siNC.pdf saved\n"
     ]
    },
    {
     "data": {
      "image/png": "[encoded data removed]",
      "text/plain": [
       "<Figure size 288x396 with 2 Axes>"
      ]
     },
     "metadata": {
      "needs_background": "light"
     },
     "output_type": "display_data"
    }
   ],
   "source": [
    "savefig = True\n",
    "figsize = 4, 5.5\n",
    "hierarchical_clustering= False\n",
    "\n",
    "df_frac_ctrl = dfs[ctrl]\n",
    "for smp in dfs:\n",
    "    if smp == ctrl: continue\n",
    "    df_frac = dfs[smp].copy()\n",
    "    df_fold = np.log2(df_frac.div(df_frac_ctrl, axis='index').dropna())\n",
    "    \n",
    "    if hierarchical_clustering is True:\n",
    "        X = np.array(df_fold)\n",
    "        Z = linkage(X, \"ward\")\n",
    "        D = dendrogram(Z)\n",
    "        reordering_indices = df_fold.iloc[D['ivl']].index\n",
    "        df_fold = df_fold.loc[reordering_indices]\n",
    "    \n",
    "    fig, ax = plt.subplots(figsize=figsize)\n",
    "    cmap = 'seismic'\n",
    "    image = ax.pcolor(df_fold.iloc[:,:], vmin=-2, vmax=2, cmap=cmap, rasterized=True)\n",
    "    \n",
    "        \n",
    "    # Adjust x-axis\n",
    "    # xticklabels = edges + [pAlen_range[1]]\n",
    "    xticklabels = edges\n",
    "    ax.set_xticks(np.arange(len(xticklabels)))\n",
    "    ax.set_xticklabels(xticklabels)\n",
    "    ax.set_xlabel('Poly(A) length (nt)')\n",
    "\n",
    "    # Adjust y-axis\n",
    "    ax.set_yticks([])\n",
    "    ax.set_ylabel(f'Fold fraction over {ctrl}, log2')\n",
    "    \n",
    "    # Adjust a colorbar\n",
    "    # create an axes on the right side of ax. The width of cax will be (size)%\n",
    "    # of ax and the padding between cax and ax will be fixed at 0.05 inch.\n",
    "    divider = make_axes_locatable(ax)\n",
    "    cax = divider.append_axes(\"bottom\", size=\"1.5%\", pad=0.5)\n",
    "    cbar = plt.colorbar(image, cax=cax, orientation=\"horizontal\")\n",
    "    cbar.solids.set_rasterized(True)\n",
    "    \n",
    "    ax.set_title(f\"{smp.split('-')[0]}, n={len(df_fold)}\", fontsize='medium')\n",
    "    \n",
    "    fname_adduct = ''\n",
    "    \n",
    "    if hierarchical_clustering is True:\n",
    "        fname_adduct += '_hc_reordered'\n",
    "    \n",
    "    if savefig is True:\n",
    "        outfigpath = \"/casa/joha/projects/polya/plots/heatmap_fraction_fold_{}_{}_over_{}{}.pdf\".format(work, smp, ctrl, fname_adduct)\n",
    "        plt.savefig(outfigpath, dpi=300, bbox_inches='tight')\n",
    "        print(outfigpath, 'saved')\n",
    "        \n",
    "    plt.show()\n"
   ]
  },
  {
   "cell_type": "code",
   "execution_count": null,
   "metadata": {},
   "outputs": [],
   "source": []
  }
 ],
 "metadata": {
  "kernelspec": {
   "display_name": "polya",
   "language": "python",
   "name": "polya"
  },
  "language_info": {
   "codemirror_mode": {
    "name": "ipython",
    "version": 3
   },
   "file_extension": ".py",
   "mimetype": "text/x-python",
   "name": "python",
   "nbconvert_exporter": "python",
   "pygments_lexer": "ipython3",
   "version": "3.7.7"
  }
 },
 "nbformat": 4,
 "nbformat_minor": 4
}
