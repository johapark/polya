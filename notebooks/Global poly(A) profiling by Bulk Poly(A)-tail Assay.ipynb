{
 "cells": [
  {
   "cell_type": "code",
   "execution_count": 98,
   "metadata": {},
   "outputs": [],
   "source": [
    "# Built-in\n",
    "from pathlib import Path\n",
    "\n",
    "# Third-party\n",
    "from mpl_toolkits.axes_grid1 import make_axes_locatable\n",
    "from scipy.signal import find_peaks_cwt\n",
    "from matplotlib import pyplot as plt\n",
    "from matplotlib import cm\n",
    "import seaborn as sns\n",
    "import pandas as pd\n",
    "import numpy as np\n",
    "\n",
    "# Local imports\n",
    "from polya.utils import smooth\n",
    "\n",
    "styles = ['../polya.mplstyle']\n"
   ]
  },
  {
   "cell_type": "code",
   "execution_count": 117,
   "metadata": {},
   "outputs": [
    {
     "data": {
      "text/plain": [
       "[PosixPath('/casa/joha/zenodo/bpa/rip-bpa/Exp1_T11_RIP_cyto_BPA.txt'),\n",
       " PosixPath('/casa/joha/zenodo/bpa/rip-bpa/Exp2_HeLaT_RIP_cyto_BPA.txt'),\n",
       " PosixPath('/casa/joha/zenodo/bpa/rip-bpa/Exp3_HeLaT_RIP_cyto_BPA.txt')]"
      ]
     },
     "execution_count": 117,
     "metadata": {},
     "output_type": "execute_result"
    }
   ],
   "source": [
    "experiment = 'rip-bpa'\n",
    "\n",
    "datadir = Path(\"/casa/joha/zenodo/bpa/\")/experiment\n",
    "\n",
    "fnames = sorted(list(datadir.glob(\"*.txt\")))\n",
    "fnames"
   ]
  },
  {
   "cell_type": "code",
   "execution_count": 118,
   "metadata": {},
   "outputs": [
    {
     "name": "stdout",
     "output_type": "stream",
     "text": [
      "Exp1_T11_RIP_cyto_BPA.txt\n",
      "['Decade1', 'Input', 'LARP1', 'LARP4', 'LARP4B', 'Decade2']\n"
     ]
    },
    {
     "data": {
      "text/html": [
       "<div>\n",
       "<style scoped>\n",
       "    .dataframe tbody tr th:only-of-type {\n",
       "        vertical-align: middle;\n",
       "    }\n",
       "\n",
       "    .dataframe tbody tr th {\n",
       "        vertical-align: top;\n",
       "    }\n",
       "\n",
       "    .dataframe thead th {\n",
       "        text-align: right;\n",
       "    }\n",
       "</style>\n",
       "<table border=\"1\" class=\"dataframe\">\n",
       "  <thead>\n",
       "    <tr style=\"text-align: right;\">\n",
       "      <th></th>\n",
       "      <th>Decade1</th>\n",
       "      <th>Input</th>\n",
       "      <th>LARP1</th>\n",
       "      <th>LARP4</th>\n",
       "      <th>Decade2</th>\n",
       "    </tr>\n",
       "    <tr>\n",
       "      <th>(pixel)</th>\n",
       "      <th></th>\n",
       "      <th></th>\n",
       "      <th></th>\n",
       "      <th></th>\n",
       "      <th></th>\n",
       "    </tr>\n",
       "  </thead>\n",
       "  <tbody>\n",
       "    <tr>\n",
       "      <th>0</th>\n",
       "      <td>145362.0735</td>\n",
       "      <td>146368.8661</td>\n",
       "      <td>165762.8858</td>\n",
       "      <td>154543.2293</td>\n",
       "      <td>150408.9270</td>\n",
       "    </tr>\n",
       "    <tr>\n",
       "      <th>1</th>\n",
       "      <td>148393.7948</td>\n",
       "      <td>148800.2324</td>\n",
       "      <td>162522.7034</td>\n",
       "      <td>161981.6148</td>\n",
       "      <td>149454.8735</td>\n",
       "    </tr>\n",
       "    <tr>\n",
       "      <th>2</th>\n",
       "      <td>141866.4092</td>\n",
       "      <td>146807.8849</td>\n",
       "      <td>160101.7130</td>\n",
       "      <td>163956.0270</td>\n",
       "      <td>152658.9649</td>\n",
       "    </tr>\n",
       "  </tbody>\n",
       "</table>\n",
       "</div>"
      ],
      "text/plain": [
       "             Decade1        Input        LARP1        LARP4      Decade2\n",
       "(pixel)                                                                 \n",
       "0        145362.0735  146368.8661  165762.8858  154543.2293  150408.9270\n",
       "1        148393.7948  148800.2324  162522.7034  161981.6148  149454.8735\n",
       "2        141866.4092  146807.8849  160101.7130  163956.0270  152658.9649"
      ]
     },
     "execution_count": 118,
     "metadata": {},
     "output_type": "execute_result"
    }
   ],
   "source": [
    "smpidx = 0\n",
    "inpfpath = fnames[smpidx]\n",
    "work = inpfpath.name\n",
    "print(work)\n",
    "\n",
    "samples = {\n",
    "    \"rip-bpa\": [\"Input\", \"LARP1\", \"LARP4\"],\n",
    "    \"kd-bpa\": [\"siNC\", \"siLARP1\", \"siLARP4_4B\"],\n",
    "}[experiment]\n",
    "\n",
    "# Read the data\n",
    "df = pd.read_csv(inpfpath, sep='\\t', header=5, index_col=0).dropna()\n",
    "print(list(df.columns))\n",
    "df = df[['Decade1'] + samples + ['Decade2']]\n",
    "df.head(3)"
   ]
  },
  {
   "cell_type": "markdown",
   "metadata": {},
   "source": [
    "### Find the marker peaks"
   ]
  },
  {
   "cell_type": "code",
   "execution_count": 119,
   "metadata": {},
   "outputs": [
    {
     "name": "stdout",
     "output_type": "stream",
     "text": [
      "[  18  301  754 1101 1363 1564 1725 1851 1958 2047 2381 2783]\n"
     ]
    },
    {
     "data": {
      "image/png": "[encoded data removed]",
      "text/plain": [
       "<Figure size 576x144 with 1 Axes>"
      ]
     },
     "metadata": {
      "needs_background": "light"
     },
     "output_type": "display_data"
    }
   ],
   "source": [
    "marker_colidx = 0\n",
    "\n",
    "# Normalize signal intensities by lane and reverse it\n",
    "df = df.div(df.sum(), axis=\"columns\")[::-1].reset_index(drop=True)\n",
    "\n",
    "marker_density = df.iloc[:,marker_colidx]\n",
    "peaks_found = find_peaks_cwt(marker_density.dropna(), np.arange(17, 100), min_snr=1, noise_perc=10) # peak calling\n",
    "print(peaks_found)\n",
    "\n",
    "# Visualization of the peak for manual curation\n",
    "fig = plt.figure(figsize=(8,2))\n",
    "ax = fig.add_subplot(111)\n",
    "marker_density.plot(ax=ax)\n",
    "for x in peaks_found: ax.axvline(x, color='black', linestyle='dashed', linewidth=1)\n",
    "# ax.set_xticks(peaks_found)\n",
    "# ax.set_xticklabels(np.arange(0,len(peaks_found)))\n",
    "\n",
    "plt.show()"
   ]
  },
  {
   "cell_type": "markdown",
   "metadata": {},
   "source": [
    "### Manually add or remove the marker peaks"
   ]
  },
  {
   "cell_type": "code",
   "execution_count": 120,
   "metadata": {},
   "outputs": [
    {
     "data": {
      "image/png": "[encoded data removed]",
      "text/plain": [
       "<Figure size 576x144 with 1 Axes>"
      ]
     },
     "metadata": {
      "needs_background": "light"
     },
     "output_type": "display_data"
    }
   ],
   "source": [
    "to_add = {\n",
    "    'Exp2_HeLa_KD_cyto_BPA.txt':[1690],\n",
    "    'Exp3_A549_KD_cyto_BPA.txt':[1690],\n",
    "}.get(work, [])\n",
    "to_remove ={\n",
    "    'Exp1_T11_RIP_cyto_BPA.txt':[18, 2783],\n",
    "    'Exp2_HeLaT_RIP_cyto_BPA.txt': [16, 2542],\n",
    "    'Exp3_HeLaT_RIP_cyto_BPA.txt': [17, 455, 2287],\n",
    "    \n",
    "    'Exp1_T11_KD_cyto_BPA.txt':[17, 2456],\n",
    "    'Exp2_HeLa_KD_cyto_BPA.txt':[15, 2099, 2252, 2384, 2484, 2611],\n",
    "    'Exp3_A549_KD_cyto_BPA.txt':[15, 2099, 2252, 2384, 2484, 2611],\n",
    "}[work]\n",
    "\n",
    "marker_peaks = list(peaks_found) + to_add\n",
    "marker_peaks = sorted(list(set(peaks_found) - set(to_remove)))\n",
    "\n",
    "# Visualization of the peak for manual curation\n",
    "fig = plt.figure(figsize=(8,2))\n",
    "ax = fig.add_subplot(111)\n",
    "marker_density.plot(ax=ax)\n",
    "for x in marker_peaks: ax.axvline(x, color='black', linestyle='dashed', linewidth=1)\n",
    "for x in to_add: ax.axvline(x, color=\"orange\", ls=\"--\", lw=1)\n",
    "ax.set_xticks(marker_peaks)\n",
    "ax.set_xticklabels(np.arange(0,len(marker_peaks)))\n",
    "\n",
    "plt.show()"
   ]
  },
  {
   "cell_type": "code",
   "execution_count": 121,
   "metadata": {},
   "outputs": [],
   "source": [
    "marker_labels = [20,30,40,50,60,70,80,90,100,150]\n",
    "\n",
    "assert len(marker_labels) == len(marker_peaks)"
   ]
  },
  {
   "cell_type": "markdown",
   "metadata": {},
   "source": [
    "### Draw plots"
   ]
  },
  {
   "cell_type": "code",
   "execution_count": 122,
   "metadata": {},
   "outputs": [
    {
     "data": {
      "image/png": "[encoded data removed]",
      "text/plain": [
       "<Figure size 576x72 with 1 Axes>"
      ]
     },
     "metadata": {},
     "output_type": "display_data"
    },
    {
     "name": "stdout",
     "output_type": "stream",
     "text": [
      "{'Input': '#303030', 'LARP1': '#DD3224', 'LARP4': '#F4D348'}\n"
     ]
    }
   ],
   "source": [
    "with plt.style.context(styles):\n",
    "    palette = plt.rcParams['axes.prop_cycle'].by_key()['color']\n",
    "    sns.palplot(palette)\n",
    "    plt.show()\n",
    "    \n",
    "    colors = dict(zip(samples, palette))\n",
    "    print( colors )"
   ]
  },
  {
   "cell_type": "markdown",
   "metadata": {},
   "source": [
    "Plot separately"
   ]
  },
  {
   "cell_type": "code",
   "execution_count": 124,
   "metadata": {},
   "outputs": [
    {
     "data": {
      "image/png": "[encoded data removed]",
      "text/plain": [
       "<Figure size 162x108 with 2 Axes>"
      ]
     },
     "metadata": {},
     "output_type": "display_data"
    },
    {
     "data": {
      "image/png": "[encoded data removed]",
      "text/plain": [
       "<Figure size 162x108 with 2 Axes>"
      ]
     },
     "metadata": {},
     "output_type": "display_data"
    }
   ],
   "source": [
    "# Draw a figure\n",
    "\n",
    "savefig = False\n",
    "minifig = True\n",
    "\n",
    "\n",
    "# samples for embedding in every figure\n",
    "embedsmp = [\"Input\"] \n",
    "# embedsmp = [\"siNC\"]\n",
    "subsamples = samples\n",
    "\n",
    "figsize = [4.5, 3]\n",
    "\n",
    "if minifig is True: \n",
    "    styles.append(\"../mini.mplstyle\")\n",
    "    figsize = list(np.array(figsize) / 2)\n",
    "with plt.style.context(styles):\n",
    "    for si, smp in enumerate(subsamples[1:]):\n",
    "        fig, ax = plt.subplots(figsize=figsize)\n",
    "\n",
    "        for esmp in embedsmp:\n",
    "            density = smooth(np.array(df.loc[:,esmp]), 50) * 1000\n",
    "            ax.plot(density, ls=\"-.\", color=\"black\", label=\"\")\n",
    "                \n",
    "        density = smooth(np.array(df.loc[:,smp]), 50) * 1000\n",
    "        ax.plot(density, color=colors[smp], label=smp)\n",
    "        \n",
    "        ax.grid(True)\n",
    "        ax.set_ylim([0,0.75])\n",
    "        ax.set_yticks([0,0.5])\n",
    "        ax.legend(loc=\"lower center\", ncol=2, columnspacing=0.5, handlelength=1.0)\n",
    "          \n",
    "        ax.set_xticks(marker_peaks)\n",
    "        marker_sizes = [20,30,50,80,150]\n",
    "        ax.set_xticklabels([m if m in marker_sizes else \"\" for m in marker_labels])\n",
    "\n",
    "        ## Shared labels\n",
    "        ax = fig.add_subplot(111, frameon=False)\n",
    "        ax.set_xticks([]); ax.set_yticks([])\n",
    "        ax.set_xlabel(\"Poly(A) length (nt)\", labelpad=18)\n",
    "        ax.set_ylabel(\"Normalized signal (a.u.)\", labelpad=23)\n",
    "        ax.set_title(f\"{work.split('_')[0]} {experiment}\", fontsize=\"medium\")\n",
    "\n",
    "\n",
    "        fname_adduct = \"\"\n",
    "        if minifig: fname_adduct += \"_mini\"\n",
    "        if savefig is True:\n",
    "            outfigdir = Path(\"../plots\")\n",
    "            outfigname = f\"{experiment}_{work.split('_')[0]}_{smp}\" + fname_adduct + \".pdf\"\n",
    "            outfigpath = outfigdir/outfigname\n",
    "            print( outfigpath )\n",
    "\n",
    "            fig.savefig(outfigpath, dpi=300, bbox_inches=\"tight\")\n",
    "\n",
    "        plt.show()\n"
   ]
  },
  {
   "cell_type": "markdown",
   "metadata": {},
   "source": [
    "log2fc 1d heatmap"
   ]
  },
  {
   "cell_type": "code",
   "execution_count": 126,
   "metadata": {},
   "outputs": [
    {
     "data": {
      "image/png": "[encoded data removed]",
      "text/plain": [
       "<Figure size 187.2x5.76 with 2 Axes>"
      ]
     },
     "metadata": {},
     "output_type": "display_data"
    }
   ],
   "source": [
    "savefig = False\n",
    "ctrl, tret = \"Input\", \"LARP1\"\n",
    "# ctrl, tret = \"siNC\", \"siLARP1\"\n",
    "vmin, vmax = -0.5, 0.5\n",
    "markers_to_include = [20, 30, 50, 80, 150]\n",
    "\n",
    "ctrl_intensity = smooth(np.array(df.loc[:,ctrl]), 50) * 1000\n",
    "tret_intensity = smooth(np.array(df.loc[:,tret]), 50) * 1000\n",
    "log2fc = np.log2(tret_intensity / ctrl_intensity)\n",
    "# log2fc = df[tret].div(df[ctrl]).map(np.log2)\n",
    "figsize = 2.6, 0.08\n",
    "\n",
    "with plt.style.context(['../polya.mplstyle', '../mini.mplstyle', '../tick.mplstyle']): \n",
    "    fig, ax = plt.subplots(figsize=figsize)\n",
    "    im = ax.pcolormesh(np.asarray(log2fc).reshape(-1,1).T, cmap=cm.RdBu_r, vmin=vmin, vmax=vmax)\n",
    "\n",
    "    marker_dict = dict(zip(marker_labels, marker_peaks))\n",
    "    xticks = [marker_dict[m] for m in markers_to_include]\n",
    "    ax.set_xticks(xticks)\n",
    "    ax.set_xticklabels(markers_to_include)\n",
    "    ax.set_yticks([])\n",
    "\n",
    "    divider = make_axes_locatable(ax)\n",
    "    cax = divider.append_axes(\"left\", size=\"20%\", pad=0.15)\n",
    "    cbar = plt.colorbar(im, cax=cax, orientation=\"horizontal\")\n",
    "    cbar.set_ticks([vmin, vmax])\n",
    "    cbar.solids.set_rasterized(True)\n",
    "\n",
    "    fname_adduct = \"\"\n",
    "    if minifig: fname_adduct += \"_mini\"\n",
    "    if savefig is True:\n",
    "        outfigdir = Path(\"../plots\")\n",
    "        outfigname = f\"{experiment}_{work.split()[0]}_{tret}_log2fc\" + fname_adduct + \".pdf\"\n",
    "        outfigpath = outfigdir/outfigname\n",
    "        print( outfigpath, 'saved' )\n",
    "\n",
    "        fig.savefig(outfigpath, dpi=300, bbox_inches=\"tight\")\n",
    "\n",
    "plt.show()"
   ]
  },
  {
   "cell_type": "markdown",
   "metadata": {},
   "source": [
    "x-linearized log2fc 1d heatmap"
   ]
  },
  {
   "cell_type": "code",
   "execution_count": 127,
   "metadata": {},
   "outputs": [],
   "source": [
    "# Add the size column to linearize the range within marker limits\n",
    "\n",
    "sizes = list()\n",
    "for pi, size in enumerate(marker_labels):\n",
    "    if pi + 1 == len(marker_peaks): break\n",
    "    pos = marker_peaks[pi]\n",
    "    nextpos = marker_peaks[pi+1]\n",
    "    nextsize = marker_labels[pi+1]\n",
    "    nsigs = nextpos - pos\n",
    "    sizes += list(np.linspace(size, nextsize, nsigs+1)[:-1])\n",
    "sizes += [marker_labels[-1]]\n",
    "df[\"size\"] = None\n",
    "df.iloc[marker_peaks[0]:marker_peaks[-1]+1, -1] = sizes"
   ]
  },
  {
   "cell_type": "code",
   "execution_count": 128,
   "metadata": {},
   "outputs": [
    {
     "data": {
      "text/html": [
       "<div>\n",
       "<style scoped>\n",
       "    .dataframe tbody tr th:only-of-type {\n",
       "        vertical-align: middle;\n",
       "    }\n",
       "\n",
       "    .dataframe tbody tr th {\n",
       "        vertical-align: top;\n",
       "    }\n",
       "\n",
       "    .dataframe thead th {\n",
       "        text-align: right;\n",
       "    }\n",
       "</style>\n",
       "<table border=\"1\" class=\"dataframe\">\n",
       "  <thead>\n",
       "    <tr style=\"text-align: right;\">\n",
       "      <th></th>\n",
       "      <th>Decade1</th>\n",
       "      <th>Input</th>\n",
       "      <th>LARP1</th>\n",
       "      <th>LARP4</th>\n",
       "      <th>Decade2</th>\n",
       "    </tr>\n",
       "    <tr>\n",
       "      <th>binid</th>\n",
       "      <th></th>\n",
       "      <th></th>\n",
       "      <th></th>\n",
       "      <th></th>\n",
       "      <th></th>\n",
       "    </tr>\n",
       "  </thead>\n",
       "  <tbody>\n",
       "    <tr>\n",
       "      <th>9.0</th>\n",
       "      <td>0.017801</td>\n",
       "      <td>0.012013</td>\n",
       "      <td>0.013324</td>\n",
       "      <td>0.012942</td>\n",
       "      <td>0.015613</td>\n",
       "    </tr>\n",
       "    <tr>\n",
       "      <th>10.0</th>\n",
       "      <td>0.026510</td>\n",
       "      <td>0.031259</td>\n",
       "      <td>0.037443</td>\n",
       "      <td>0.032935</td>\n",
       "      <td>0.024354</td>\n",
       "    </tr>\n",
       "    <tr>\n",
       "      <th>11.0</th>\n",
       "      <td>0.023509</td>\n",
       "      <td>0.032062</td>\n",
       "      <td>0.039541</td>\n",
       "      <td>0.031606</td>\n",
       "      <td>0.022528</td>\n",
       "    </tr>\n",
       "  </tbody>\n",
       "</table>\n",
       "</div>"
      ],
      "text/plain": [
       "        Decade1     Input     LARP1     LARP4   Decade2\n",
       "binid                                                  \n",
       "9.0    0.017801  0.012013  0.013324  0.012942  0.015613\n",
       "10.0   0.026510  0.031259  0.037443  0.032935  0.024354\n",
       "11.0   0.023509  0.032062  0.039541  0.031606  0.022528"
      ]
     },
     "execution_count": 128,
     "metadata": {},
     "output_type": "execute_result"
    }
   ],
   "source": [
    "# Draw a x-linearised log2 foldchange of the signals\n",
    "nbins = 1000\n",
    "binsize = (marker_peaks[-1] - marker_peaks[0]) / nbins\n",
    "df_temp = df.copy()\n",
    "df_temp.loc[:, \"binid\"] = df_temp.loc[:,\"size\"] // binsize\n",
    "df_binned = df_temp.groupby(\"binid\").agg(np.sum)\n",
    "\n",
    "def get_size_from_binid(bid):\n",
    "    return bid * binsize + (binsize / 2)\n",
    "\n",
    "df_binned.head(3)"
   ]
  },
  {
   "cell_type": "code",
   "execution_count": 129,
   "metadata": {},
   "outputs": [
    {
     "name": "stdout",
     "output_type": "stream",
     "text": [
      "../plots/rip-bpa_Exp1_LARP1_linearized_log2fc_mini.pdf saved\n"
     ]
    },
    {
     "data": {
      "image/png": "[encoded data removed]",
      "text/plain": [
       "<Figure size 194.4x86.4 with 2 Axes>"
      ]
     },
     "metadata": {},
     "output_type": "display_data"
    },
    {
     "name": "stdout",
     "output_type": "stream",
     "text": [
      "0.4285612528941957 32.24\n",
      "0.4142700743309381 30.16\n",
      "0.351720742892344 34.32\n",
      "0.34806267132398605 28.08\n",
      "0.30247330915345244 23.92\n",
      "0.28959863355638155 36.4\n",
      "0.266695087002962 26.0\n",
      "0.260397941051736 21.84\n",
      "0.2540792913013438 38.48\n",
      "0.2009484485898803 40.56\n",
      "0.15436879374397466 57.2\n",
      "0.15222228934993343 55.12\n",
      "0.14948265236388233 19.759999999999998\n",
      "0.14833543074581498 50.96\n",
      "0.14785678226285498 59.28\n",
      "0.1477526300185538 42.64\n",
      "0.14082265168737423 48.88\n",
      "0.13402641507489046 53.04\n",
      "0.13154692973266463 46.800000000000004\n",
      "0.1295104157903408 61.36\n",
      "0.11401560373448291 44.72\n",
      "0.0859849840799619 63.440000000000005\n",
      "0.040621723408672046 65.52000000000001\n",
      "-0.027388911139436808 67.60000000000001\n",
      "-0.08948866026110354 69.68\n",
      "-0.12539809934193472 71.76\n",
      "-0.1428144562310492 73.84\n",
      "-0.15552306278785138 75.92\n",
      "-0.16708515294479093 82.16000000000001\n",
      "-0.16739361877340755 78.00000000000001\n",
      "-0.17656267329964181 84.24000000000001\n",
      "-0.1774894985460243 86.32000000000001\n",
      "-0.177900622855827 80.08000000000001\n",
      "-0.19716303612042074 88.4\n",
      "-0.24489533917150047 90.48\n",
      "-0.26808658728070534 92.56000000000002\n",
      "-0.31392582692247023 94.64000000000001\n",
      "-0.33605184178269776 96.72000000000001\n",
      "-0.3760111710912687 98.80000000000001\n",
      "-0.39034661980755453 100.88000000000001\n",
      "-0.39976587423580806 102.96000000000001\n",
      "-0.39976783535869165 109.2\n",
      "-0.4073876789951536 105.04\n",
      "-0.4086172611676528 107.12\n",
      "-0.42215982586563694 111.28000000000002\n",
      "-0.4272968062008147 113.36000000000001\n",
      "-0.4456031044487691 115.44000000000001\n",
      "-0.4640202139547779 117.52000000000001\n",
      "-0.496709956308412 119.60000000000001\n",
      "-0.5132572128833824 121.68\n"
     ]
    }
   ],
   "source": [
    "savefig = True\n",
    "minifig = True\n",
    "\n",
    "figsize = 5.4, 2.4\n",
    "\n",
    "if minifig is True: \n",
    "    styles.append(\"../mini.mplstyle\")\n",
    "    figsize = list(np.array(figsize) / 2)\n",
    "    \n",
    "# ctrl, tret = \"siNC\", \"siLARP1\"\n",
    "# vmin, vmax = -0.4, 0.4\n",
    "ctrl, tret = \"Input\", \"LARP1\"\n",
    "vmin, vmax = -0.5, 0.5\n",
    "\n",
    "with plt.style.context(styles + [\"../tick.mplstyle\"]):\n",
    "    fig = plt.figure(figsize=figsize)\n",
    "    ax = fig.add_subplot(111)\n",
    "\n",
    "    log2fc = np.log2(df_binned.loc[:, tret] / df_binned.loc[:, ctrl])\n",
    "\n",
    "    d = np.vstack((log2fc, log2fc))\n",
    "\n",
    "    im = ax.imshow(d, cmap=cm.RdBu_r, vmin=vmin, vmax=vmax)\n",
    "\n",
    "    xticklabels = list(range(30, 151, 20))\n",
    "    xticks = (xticklabels // binsize) - (marker_labels[0] // binsize)\n",
    "    ax.set_xticks(xticks)\n",
    "    ax.set_xticklabels(xticklabels)\n",
    "    ax.set_yticks([])\n",
    "\n",
    "    divider = make_axes_locatable(ax)\n",
    "    cax = divider.append_axes(\"left\", size=\"15%\", pad=0.1)\n",
    "    cbar = plt.colorbar(im, cax=cax, orientation=\"horizontal\")\n",
    "    cbar.set_ticks([vmin, vmax])\n",
    "    cbar.solids.set_rasterized(True)\n",
    "\n",
    "    fname_adduct = \"\"\n",
    "    if minifig: fname_adduct += \"_mini\"\n",
    "    if savefig is True:\n",
    "        outfigdir = Path(\"../plots\")\n",
    "        outfigname = f\"{experiment}_{work.split('_')[0]}_{tret}_linearized_log2fc\" + fname_adduct + \".pdf\"\n",
    "        outfigpath = outfigdir/outfigname\n",
    "        print( outfigpath, 'saved' )\n",
    "\n",
    "        fig.savefig(outfigpath, dpi=300, bbox_inches=\"tight\")\n",
    "\n",
    "    plt.show()\n",
    "\n",
    "for i in log2fc.sort_values(ascending=False).head(50).index:\n",
    "    print( log2fc.loc[i], get_size_from_binid(i) )"
   ]
  },
  {
   "cell_type": "markdown",
   "metadata": {},
   "source": [
    "Plot combined"
   ]
  },
  {
   "cell_type": "code",
   "execution_count": 115,
   "metadata": {},
   "outputs": [
    {
     "ename": "KeyError",
     "evalue": "'Input'",
     "output_type": "error",
     "traceback": [
      "\u001b[0;31m---------------------------------------------------------------------------\u001b[0m",
      "\u001b[0;31mKeyError\u001b[0m                                  Traceback (most recent call last)",
      "\u001b[0;32m/utp/joha/miniconda3/envs/polya/lib/python3.7/site-packages/pandas/core/indexes/base.py\u001b[0m in \u001b[0;36mget_loc\u001b[0;34m(self, key, method, tolerance)\u001b[0m\n\u001b[1;32m   2656\u001b[0m             \u001b[0;32mtry\u001b[0m\u001b[0;34m:\u001b[0m\u001b[0;34m\u001b[0m\u001b[0;34m\u001b[0m\u001b[0m\n\u001b[0;32m-> 2657\u001b[0;31m                 \u001b[0;32mreturn\u001b[0m \u001b[0mself\u001b[0m\u001b[0;34m.\u001b[0m\u001b[0m_engine\u001b[0m\u001b[0;34m.\u001b[0m\u001b[0mget_loc\u001b[0m\u001b[0;34m(\u001b[0m\u001b[0mkey\u001b[0m\u001b[0;34m)\u001b[0m\u001b[0;34m\u001b[0m\u001b[0;34m\u001b[0m\u001b[0m\n\u001b[0m\u001b[1;32m   2658\u001b[0m             \u001b[0;32mexcept\u001b[0m \u001b[0mKeyError\u001b[0m\u001b[0;34m:\u001b[0m\u001b[0;34m\u001b[0m\u001b[0;34m\u001b[0m\u001b[0m\n",
      "\u001b[0;32mpandas/_libs/index.pyx\u001b[0m in \u001b[0;36mpandas._libs.index.IndexEngine.get_loc\u001b[0;34m()\u001b[0m\n",
      "\u001b[0;32mpandas/_libs/index.pyx\u001b[0m in \u001b[0;36mpandas._libs.index.IndexEngine.get_loc\u001b[0;34m()\u001b[0m\n",
      "\u001b[0;32mpandas/_libs/hashtable_class_helper.pxi\u001b[0m in \u001b[0;36mpandas._libs.hashtable.PyObjectHashTable.get_item\u001b[0;34m()\u001b[0m\n",
      "\u001b[0;32mpandas/_libs/hashtable_class_helper.pxi\u001b[0m in \u001b[0;36mpandas._libs.hashtable.PyObjectHashTable.get_item\u001b[0;34m()\u001b[0m\n",
      "\u001b[0;31mKeyError\u001b[0m: 'Input'",
      "\nDuring handling of the above exception, another exception occurred:\n",
      "\u001b[0;31mKeyError\u001b[0m                                  Traceback (most recent call last)",
      "\u001b[0;32m<ipython-input-115-16225969544a>\u001b[0m in \u001b[0;36m<module>\u001b[0;34m\u001b[0m\n\u001b[1;32m     27\u001b[0m \u001b[0;34m\u001b[0m\u001b[0m\n\u001b[1;32m     28\u001b[0m         \u001b[0;32mfor\u001b[0m \u001b[0mesmp\u001b[0m \u001b[0;32min\u001b[0m \u001b[0membedsmp\u001b[0m\u001b[0;34m:\u001b[0m\u001b[0;34m\u001b[0m\u001b[0;34m\u001b[0m\u001b[0m\n\u001b[0;32m---> 29\u001b[0;31m             \u001b[0mdensity\u001b[0m \u001b[0;34m=\u001b[0m \u001b[0msmooth\u001b[0m\u001b[0;34m(\u001b[0m\u001b[0mnp\u001b[0m\u001b[0;34m.\u001b[0m\u001b[0marray\u001b[0m\u001b[0;34m(\u001b[0m\u001b[0mdf\u001b[0m\u001b[0;34m.\u001b[0m\u001b[0mloc\u001b[0m\u001b[0;34m[\u001b[0m\u001b[0;34m:\u001b[0m\u001b[0;34m,\u001b[0m\u001b[0mesmp\u001b[0m\u001b[0;34m]\u001b[0m\u001b[0;34m)\u001b[0m\u001b[0;34m,\u001b[0m \u001b[0;36m50\u001b[0m\u001b[0;34m)\u001b[0m \u001b[0;34m*\u001b[0m \u001b[0;36m1000\u001b[0m\u001b[0;34m\u001b[0m\u001b[0;34m\u001b[0m\u001b[0m\n\u001b[0m\u001b[1;32m     30\u001b[0m             \u001b[0max\u001b[0m\u001b[0;34m.\u001b[0m\u001b[0mplot\u001b[0m\u001b[0;34m(\u001b[0m\u001b[0mdensity\u001b[0m\u001b[0;34m,\u001b[0m \u001b[0mls\u001b[0m\u001b[0;34m=\u001b[0m\u001b[0;34m\"-.\"\u001b[0m\u001b[0;34m,\u001b[0m \u001b[0mcolor\u001b[0m\u001b[0;34m=\u001b[0m\u001b[0;34m\"black\"\u001b[0m\u001b[0;34m,\u001b[0m \u001b[0mlabel\u001b[0m\u001b[0;34m=\u001b[0m\u001b[0;34m\"\"\u001b[0m\u001b[0;34m)\u001b[0m\u001b[0;34m\u001b[0m\u001b[0;34m\u001b[0m\u001b[0m\n\u001b[1;32m     31\u001b[0m \u001b[0;34m\u001b[0m\u001b[0m\n",
      "\u001b[0;32m/utp/joha/miniconda3/envs/polya/lib/python3.7/site-packages/pandas/core/indexing.py\u001b[0m in \u001b[0;36m__getitem__\u001b[0;34m(self, key)\u001b[0m\n\u001b[1;32m   1492\u001b[0m             \u001b[0;32mexcept\u001b[0m \u001b[0;34m(\u001b[0m\u001b[0mKeyError\u001b[0m\u001b[0;34m,\u001b[0m \u001b[0mIndexError\u001b[0m\u001b[0;34m,\u001b[0m \u001b[0mAttributeError\u001b[0m\u001b[0;34m)\u001b[0m\u001b[0;34m:\u001b[0m\u001b[0;34m\u001b[0m\u001b[0;34m\u001b[0m\u001b[0m\n\u001b[1;32m   1493\u001b[0m                 \u001b[0;32mpass\u001b[0m\u001b[0;34m\u001b[0m\u001b[0;34m\u001b[0m\u001b[0m\n\u001b[0;32m-> 1494\u001b[0;31m             \u001b[0;32mreturn\u001b[0m \u001b[0mself\u001b[0m\u001b[0;34m.\u001b[0m\u001b[0m_getitem_tuple\u001b[0m\u001b[0;34m(\u001b[0m\u001b[0mkey\u001b[0m\u001b[0;34m)\u001b[0m\u001b[0;34m\u001b[0m\u001b[0;34m\u001b[0m\u001b[0m\n\u001b[0m\u001b[1;32m   1495\u001b[0m         \u001b[0;32melse\u001b[0m\u001b[0;34m:\u001b[0m\u001b[0;34m\u001b[0m\u001b[0;34m\u001b[0m\u001b[0m\n\u001b[1;32m   1496\u001b[0m             \u001b[0;31m# we by definition only have the 0th axis\u001b[0m\u001b[0;34m\u001b[0m\u001b[0;34m\u001b[0m\u001b[0;34m\u001b[0m\u001b[0m\n",
      "\u001b[0;32m/utp/joha/miniconda3/envs/polya/lib/python3.7/site-packages/pandas/core/indexing.py\u001b[0m in \u001b[0;36m_getitem_tuple\u001b[0;34m(self, tup)\u001b[0m\n\u001b[1;32m    866\u001b[0m     \u001b[0;32mdef\u001b[0m \u001b[0m_getitem_tuple\u001b[0m\u001b[0;34m(\u001b[0m\u001b[0mself\u001b[0m\u001b[0;34m,\u001b[0m \u001b[0mtup\u001b[0m\u001b[0;34m)\u001b[0m\u001b[0;34m:\u001b[0m\u001b[0;34m\u001b[0m\u001b[0;34m\u001b[0m\u001b[0m\n\u001b[1;32m    867\u001b[0m         \u001b[0;32mtry\u001b[0m\u001b[0;34m:\u001b[0m\u001b[0;34m\u001b[0m\u001b[0;34m\u001b[0m\u001b[0m\n\u001b[0;32m--> 868\u001b[0;31m             \u001b[0;32mreturn\u001b[0m \u001b[0mself\u001b[0m\u001b[0;34m.\u001b[0m\u001b[0m_getitem_lowerdim\u001b[0m\u001b[0;34m(\u001b[0m\u001b[0mtup\u001b[0m\u001b[0;34m)\u001b[0m\u001b[0;34m\u001b[0m\u001b[0;34m\u001b[0m\u001b[0m\n\u001b[0m\u001b[1;32m    869\u001b[0m         \u001b[0;32mexcept\u001b[0m \u001b[0mIndexingError\u001b[0m\u001b[0;34m:\u001b[0m\u001b[0;34m\u001b[0m\u001b[0;34m\u001b[0m\u001b[0m\n\u001b[1;32m    870\u001b[0m             \u001b[0;32mpass\u001b[0m\u001b[0;34m\u001b[0m\u001b[0;34m\u001b[0m\u001b[0m\n",
      "\u001b[0;32m/utp/joha/miniconda3/envs/polya/lib/python3.7/site-packages/pandas/core/indexing.py\u001b[0m in \u001b[0;36m_getitem_lowerdim\u001b[0;34m(self, tup)\u001b[0m\n\u001b[1;32m    986\u001b[0m         \u001b[0;32mfor\u001b[0m \u001b[0mi\u001b[0m\u001b[0;34m,\u001b[0m \u001b[0mkey\u001b[0m \u001b[0;32min\u001b[0m \u001b[0menumerate\u001b[0m\u001b[0;34m(\u001b[0m\u001b[0mtup\u001b[0m\u001b[0;34m)\u001b[0m\u001b[0;34m:\u001b[0m\u001b[0;34m\u001b[0m\u001b[0;34m\u001b[0m\u001b[0m\n\u001b[1;32m    987\u001b[0m             \u001b[0;32mif\u001b[0m \u001b[0mis_label_like\u001b[0m\u001b[0;34m(\u001b[0m\u001b[0mkey\u001b[0m\u001b[0;34m)\u001b[0m \u001b[0;32mor\u001b[0m \u001b[0misinstance\u001b[0m\u001b[0;34m(\u001b[0m\u001b[0mkey\u001b[0m\u001b[0;34m,\u001b[0m \u001b[0mtuple\u001b[0m\u001b[0;34m)\u001b[0m\u001b[0;34m:\u001b[0m\u001b[0;34m\u001b[0m\u001b[0;34m\u001b[0m\u001b[0m\n\u001b[0;32m--> 988\u001b[0;31m                 \u001b[0msection\u001b[0m \u001b[0;34m=\u001b[0m \u001b[0mself\u001b[0m\u001b[0;34m.\u001b[0m\u001b[0m_getitem_axis\u001b[0m\u001b[0;34m(\u001b[0m\u001b[0mkey\u001b[0m\u001b[0;34m,\u001b[0m \u001b[0maxis\u001b[0m\u001b[0;34m=\u001b[0m\u001b[0mi\u001b[0m\u001b[0;34m)\u001b[0m\u001b[0;34m\u001b[0m\u001b[0;34m\u001b[0m\u001b[0m\n\u001b[0m\u001b[1;32m    989\u001b[0m \u001b[0;34m\u001b[0m\u001b[0m\n\u001b[1;32m    990\u001b[0m                 \u001b[0;31m# we have yielded a scalar ?\u001b[0m\u001b[0;34m\u001b[0m\u001b[0;34m\u001b[0m\u001b[0;34m\u001b[0m\u001b[0m\n",
      "\u001b[0;32m/utp/joha/miniconda3/envs/polya/lib/python3.7/site-packages/pandas/core/indexing.py\u001b[0m in \u001b[0;36m_getitem_axis\u001b[0;34m(self, key, axis)\u001b[0m\n\u001b[1;32m   1911\u001b[0m         \u001b[0;31m# fall thru to straight lookup\u001b[0m\u001b[0;34m\u001b[0m\u001b[0;34m\u001b[0m\u001b[0;34m\u001b[0m\u001b[0m\n\u001b[1;32m   1912\u001b[0m         \u001b[0mself\u001b[0m\u001b[0;34m.\u001b[0m\u001b[0m_validate_key\u001b[0m\u001b[0;34m(\u001b[0m\u001b[0mkey\u001b[0m\u001b[0;34m,\u001b[0m \u001b[0maxis\u001b[0m\u001b[0;34m)\u001b[0m\u001b[0;34m\u001b[0m\u001b[0;34m\u001b[0m\u001b[0m\n\u001b[0;32m-> 1913\u001b[0;31m         \u001b[0;32mreturn\u001b[0m \u001b[0mself\u001b[0m\u001b[0;34m.\u001b[0m\u001b[0m_get_label\u001b[0m\u001b[0;34m(\u001b[0m\u001b[0mkey\u001b[0m\u001b[0;34m,\u001b[0m \u001b[0maxis\u001b[0m\u001b[0;34m=\u001b[0m\u001b[0maxis\u001b[0m\u001b[0;34m)\u001b[0m\u001b[0;34m\u001b[0m\u001b[0;34m\u001b[0m\u001b[0m\n\u001b[0m\u001b[1;32m   1914\u001b[0m \u001b[0;34m\u001b[0m\u001b[0m\n\u001b[1;32m   1915\u001b[0m \u001b[0;34m\u001b[0m\u001b[0m\n",
      "\u001b[0;32m/utp/joha/miniconda3/envs/polya/lib/python3.7/site-packages/pandas/core/indexing.py\u001b[0m in \u001b[0;36m_get_label\u001b[0;34m(self, label, axis)\u001b[0m\n\u001b[1;32m    139\u001b[0m             \u001b[0;32mraise\u001b[0m \u001b[0mIndexingError\u001b[0m\u001b[0;34m(\u001b[0m\u001b[0;34m'no slices here, handle elsewhere'\u001b[0m\u001b[0;34m)\u001b[0m\u001b[0;34m\u001b[0m\u001b[0;34m\u001b[0m\u001b[0m\n\u001b[1;32m    140\u001b[0m \u001b[0;34m\u001b[0m\u001b[0m\n\u001b[0;32m--> 141\u001b[0;31m         \u001b[0;32mreturn\u001b[0m \u001b[0mself\u001b[0m\u001b[0;34m.\u001b[0m\u001b[0mobj\u001b[0m\u001b[0;34m.\u001b[0m\u001b[0m_xs\u001b[0m\u001b[0;34m(\u001b[0m\u001b[0mlabel\u001b[0m\u001b[0;34m,\u001b[0m \u001b[0maxis\u001b[0m\u001b[0;34m=\u001b[0m\u001b[0maxis\u001b[0m\u001b[0;34m)\u001b[0m\u001b[0;34m\u001b[0m\u001b[0;34m\u001b[0m\u001b[0m\n\u001b[0m\u001b[1;32m    142\u001b[0m \u001b[0;34m\u001b[0m\u001b[0m\n\u001b[1;32m    143\u001b[0m     \u001b[0;32mdef\u001b[0m \u001b[0m_get_loc\u001b[0m\u001b[0;34m(\u001b[0m\u001b[0mself\u001b[0m\u001b[0;34m,\u001b[0m \u001b[0mkey\u001b[0m\u001b[0;34m,\u001b[0m \u001b[0maxis\u001b[0m\u001b[0;34m=\u001b[0m\u001b[0;32mNone\u001b[0m\u001b[0;34m)\u001b[0m\u001b[0;34m:\u001b[0m\u001b[0;34m\u001b[0m\u001b[0;34m\u001b[0m\u001b[0m\n",
      "\u001b[0;32m/utp/joha/miniconda3/envs/polya/lib/python3.7/site-packages/pandas/core/generic.py\u001b[0m in \u001b[0;36mxs\u001b[0;34m(self, key, axis, level, drop_level)\u001b[0m\n\u001b[1;32m   3574\u001b[0m \u001b[0;34m\u001b[0m\u001b[0m\n\u001b[1;32m   3575\u001b[0m         \u001b[0;32mif\u001b[0m \u001b[0maxis\u001b[0m \u001b[0;34m==\u001b[0m \u001b[0;36m1\u001b[0m\u001b[0;34m:\u001b[0m\u001b[0;34m\u001b[0m\u001b[0;34m\u001b[0m\u001b[0m\n\u001b[0;32m-> 3576\u001b[0;31m             \u001b[0;32mreturn\u001b[0m \u001b[0mself\u001b[0m\u001b[0;34m[\u001b[0m\u001b[0mkey\u001b[0m\u001b[0;34m]\u001b[0m\u001b[0;34m\u001b[0m\u001b[0;34m\u001b[0m\u001b[0m\n\u001b[0m\u001b[1;32m   3577\u001b[0m \u001b[0;34m\u001b[0m\u001b[0m\n\u001b[1;32m   3578\u001b[0m         \u001b[0mself\u001b[0m\u001b[0;34m.\u001b[0m\u001b[0m_consolidate_inplace\u001b[0m\u001b[0;34m(\u001b[0m\u001b[0;34m)\u001b[0m\u001b[0;34m\u001b[0m\u001b[0;34m\u001b[0m\u001b[0m\n",
      "\u001b[0;32m/utp/joha/miniconda3/envs/polya/lib/python3.7/site-packages/pandas/core/frame.py\u001b[0m in \u001b[0;36m__getitem__\u001b[0;34m(self, key)\u001b[0m\n\u001b[1;32m   2925\u001b[0m             \u001b[0;32mif\u001b[0m \u001b[0mself\u001b[0m\u001b[0;34m.\u001b[0m\u001b[0mcolumns\u001b[0m\u001b[0;34m.\u001b[0m\u001b[0mnlevels\u001b[0m \u001b[0;34m>\u001b[0m \u001b[0;36m1\u001b[0m\u001b[0;34m:\u001b[0m\u001b[0;34m\u001b[0m\u001b[0;34m\u001b[0m\u001b[0m\n\u001b[1;32m   2926\u001b[0m                 \u001b[0;32mreturn\u001b[0m \u001b[0mself\u001b[0m\u001b[0;34m.\u001b[0m\u001b[0m_getitem_multilevel\u001b[0m\u001b[0;34m(\u001b[0m\u001b[0mkey\u001b[0m\u001b[0;34m)\u001b[0m\u001b[0;34m\u001b[0m\u001b[0;34m\u001b[0m\u001b[0m\n\u001b[0;32m-> 2927\u001b[0;31m             \u001b[0mindexer\u001b[0m \u001b[0;34m=\u001b[0m \u001b[0mself\u001b[0m\u001b[0;34m.\u001b[0m\u001b[0mcolumns\u001b[0m\u001b[0;34m.\u001b[0m\u001b[0mget_loc\u001b[0m\u001b[0;34m(\u001b[0m\u001b[0mkey\u001b[0m\u001b[0;34m)\u001b[0m\u001b[0;34m\u001b[0m\u001b[0;34m\u001b[0m\u001b[0m\n\u001b[0m\u001b[1;32m   2928\u001b[0m             \u001b[0;32mif\u001b[0m \u001b[0mis_integer\u001b[0m\u001b[0;34m(\u001b[0m\u001b[0mindexer\u001b[0m\u001b[0;34m)\u001b[0m\u001b[0;34m:\u001b[0m\u001b[0;34m\u001b[0m\u001b[0;34m\u001b[0m\u001b[0m\n\u001b[1;32m   2929\u001b[0m                 \u001b[0mindexer\u001b[0m \u001b[0;34m=\u001b[0m \u001b[0;34m[\u001b[0m\u001b[0mindexer\u001b[0m\u001b[0;34m]\u001b[0m\u001b[0;34m\u001b[0m\u001b[0;34m\u001b[0m\u001b[0m\n",
      "\u001b[0;32m/utp/joha/miniconda3/envs/polya/lib/python3.7/site-packages/pandas/core/indexes/base.py\u001b[0m in \u001b[0;36mget_loc\u001b[0;34m(self, key, method, tolerance)\u001b[0m\n\u001b[1;32m   2657\u001b[0m                 \u001b[0;32mreturn\u001b[0m \u001b[0mself\u001b[0m\u001b[0;34m.\u001b[0m\u001b[0m_engine\u001b[0m\u001b[0;34m.\u001b[0m\u001b[0mget_loc\u001b[0m\u001b[0;34m(\u001b[0m\u001b[0mkey\u001b[0m\u001b[0;34m)\u001b[0m\u001b[0;34m\u001b[0m\u001b[0;34m\u001b[0m\u001b[0m\n\u001b[1;32m   2658\u001b[0m             \u001b[0;32mexcept\u001b[0m \u001b[0mKeyError\u001b[0m\u001b[0;34m:\u001b[0m\u001b[0;34m\u001b[0m\u001b[0;34m\u001b[0m\u001b[0m\n\u001b[0;32m-> 2659\u001b[0;31m                 \u001b[0;32mreturn\u001b[0m \u001b[0mself\u001b[0m\u001b[0;34m.\u001b[0m\u001b[0m_engine\u001b[0m\u001b[0;34m.\u001b[0m\u001b[0mget_loc\u001b[0m\u001b[0;34m(\u001b[0m\u001b[0mself\u001b[0m\u001b[0;34m.\u001b[0m\u001b[0m_maybe_cast_indexer\u001b[0m\u001b[0;34m(\u001b[0m\u001b[0mkey\u001b[0m\u001b[0;34m)\u001b[0m\u001b[0;34m)\u001b[0m\u001b[0;34m\u001b[0m\u001b[0;34m\u001b[0m\u001b[0m\n\u001b[0m\u001b[1;32m   2660\u001b[0m         \u001b[0mindexer\u001b[0m \u001b[0;34m=\u001b[0m \u001b[0mself\u001b[0m\u001b[0;34m.\u001b[0m\u001b[0mget_indexer\u001b[0m\u001b[0;34m(\u001b[0m\u001b[0;34m[\u001b[0m\u001b[0mkey\u001b[0m\u001b[0;34m]\u001b[0m\u001b[0;34m,\u001b[0m \u001b[0mmethod\u001b[0m\u001b[0;34m=\u001b[0m\u001b[0mmethod\u001b[0m\u001b[0;34m,\u001b[0m \u001b[0mtolerance\u001b[0m\u001b[0;34m=\u001b[0m\u001b[0mtolerance\u001b[0m\u001b[0;34m)\u001b[0m\u001b[0;34m\u001b[0m\u001b[0;34m\u001b[0m\u001b[0m\n\u001b[1;32m   2661\u001b[0m         \u001b[0;32mif\u001b[0m \u001b[0mindexer\u001b[0m\u001b[0;34m.\u001b[0m\u001b[0mndim\u001b[0m \u001b[0;34m>\u001b[0m \u001b[0;36m1\u001b[0m \u001b[0;32mor\u001b[0m \u001b[0mindexer\u001b[0m\u001b[0;34m.\u001b[0m\u001b[0msize\u001b[0m \u001b[0;34m>\u001b[0m \u001b[0;36m1\u001b[0m\u001b[0;34m:\u001b[0m\u001b[0;34m\u001b[0m\u001b[0;34m\u001b[0m\u001b[0m\n",
      "\u001b[0;32mpandas/_libs/index.pyx\u001b[0m in \u001b[0;36mpandas._libs.index.IndexEngine.get_loc\u001b[0;34m()\u001b[0m\n",
      "\u001b[0;32mpandas/_libs/index.pyx\u001b[0m in \u001b[0;36mpandas._libs.index.IndexEngine.get_loc\u001b[0;34m()\u001b[0m\n",
      "\u001b[0;32mpandas/_libs/hashtable_class_helper.pxi\u001b[0m in \u001b[0;36mpandas._libs.hashtable.PyObjectHashTable.get_item\u001b[0;34m()\u001b[0m\n",
      "\u001b[0;32mpandas/_libs/hashtable_class_helper.pxi\u001b[0m in \u001b[0;36mpandas._libs.hashtable.PyObjectHashTable.get_item\u001b[0;34m()\u001b[0m\n",
      "\u001b[0;31mKeyError\u001b[0m: 'Input'"
     ]
    },
    {
     "data": {
      "image/png": "[encoded data removed]",
      "text/plain": [
       "<Figure size 162x252 with 2 Axes>"
      ]
     },
     "metadata": {},
     "output_type": "display_data"
    }
   ],
   "source": [
    "# Draw a figure\n",
    "\n",
    "savefig = False\n",
    "minifig = True\n",
    "\n",
    "\n",
    "# samples for embedding in every figure\n",
    "embedsmp = [\"Input\"] \n",
    "# embedsmp = [\"siNC\"]\n",
    "subsamples = samples\n",
    "nrows = 2\n",
    "\n",
    "figsize = [4.5, 3 + 2 * nrows]\n",
    "\n",
    "styles = [\"barricade\"]\n",
    "if minifig is True: \n",
    "    styles.append(\"mini\")\n",
    "    figsize = list(np.array(figsize) / 2)\n",
    "with plt.style.context(styles):\n",
    "\n",
    "    fig, axes = plt.subplots(nrows, 1, figsize=figsize, sharex=True, sharey=True)\n",
    "    plt.subplots_adjust(hspace=0.1)\n",
    "\n",
    "    axi = 0\n",
    "    for si, smp in enumerate(subsamples[1:]):\n",
    "        ax = axes.ravel()[axi]\n",
    "\n",
    "        for esmp in embedsmp:\n",
    "            density = smooth(np.array(df.loc[:,esmp]), 50) * 1000\n",
    "            ax.plot(density, ls=\"-.\", color=\"black\", label=\"\")\n",
    "                \n",
    "        density = smooth(np.array(df.loc[:,smp]), 50) * 1000\n",
    "        ax.plot(density, color=colors[smp], label=smp)\n",
    "        \n",
    "        ax.grid(True)\n",
    "        ax.set_ylim([0,0.65])\n",
    "        ax.set_yticks([0,0.5])\n",
    "        ax.legend(loc=\"lower center\", ncol=2, columnspacing=0.5, handlelength=1.0)\n",
    "        \n",
    "        if smp != 'LARP4': axi += 1\n",
    "          \n",
    "    ax.set_xticks(marker_peaks)\n",
    "    marker_sizes = [20,30,50,80,150]\n",
    "    ax.set_xticklabels([m if m in marker_sizes else \"\" for m in marker_labels])\n",
    "    \n",
    "    ## Shared labels\n",
    "    ax = fig.add_subplot(111, frameon=False)\n",
    "    ax.set_xticks([]); ax.set_yticks([])\n",
    "    ax.set_xlabel(\"Poly(A) length (nt)\", labelpad=18)\n",
    "    ax.set_ylabel(\"Normalized signal intensity (a.u.)\", labelpad=23)\n",
    "    ax.set_title(work, fontsize=\"medium\")\n",
    "\n",
    "    \n",
    "    fname_adduct = \"\"\n",
    "    if minifig: fname_adduct += \"_mini\"\n",
    "    if savefig is True:\n",
    "        outfigdir = Path(\"../plots\")\n",
    "        outfigname = f\"bpa_densitogram_{work}_{''.join(subsamples[1:])}\" + fname_adduct + \".pdf\"\n",
    "        outfigpath = outfigdir/outfigname\n",
    "        print( outfigpath )\n",
    "        \n",
    "        fig.savefig(outfigpath, dpi=300, bbox_inches=\"tight\")\n",
    "    \n",
    "    plt.show()\n",
    "    "
   ]
  },
  {
   "cell_type": "code",
   "execution_count": null,
   "metadata": {},
   "outputs": [],
   "source": []
  }
 ],
 "metadata": {
  "kernelspec": {
   "display_name": "polya",
   "language": "python",
   "name": "polya"
  },
  "language_info": {
   "codemirror_mode": {
    "name": "ipython",
    "version": 3
   },
   "file_extension": ".py",
   "mimetype": "text/x-python",
   "name": "python",
   "nbconvert_exporter": "python",
   "pygments_lexer": "ipython3",
   "version": "3.7.7"
  }
 },
 "nbformat": 4,
 "nbformat_minor": 4
}
