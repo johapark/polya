{
 "cells": [
  {
   "cell_type": "code",
   "execution_count": 69,
   "metadata": {},
   "outputs": [],
   "source": [
    "# Built-in\n",
    "from pathlib import Path\n",
    "\n",
    "# Third-party\n",
    "from mpl_toolkits.axes_grid1 import make_axes_locatable\n",
    "from scipy.signal import find_peaks_cwt\n",
    "from matplotlib import pyplot as plt\n",
    "from matplotlib import cm\n",
    "import seaborn as sns\n",
    "import pandas as pd\n",
    "import numpy as np\n",
    "\n",
    "# Local imports\n",
    "from polya.utils import smooth\n",
    "\n",
    "styles = ['../polya.mplstyle']\n"
   ]
  },
  {
   "cell_type": "code",
   "execution_count": 70,
   "metadata": {},
   "outputs": [
    {
     "data": {
      "text/plain": [
       "[PosixPath('../data/bpa/rip-bpa/180612_cytosol frac RIP_Profile_15d.txt'),\n",
       " PosixPath('../data/bpa/rip-bpa/180710 cyto barricade RIP 2nd Profile_5d.txt'),\n",
       " PosixPath('../data/bpa/rip-bpa/190809 RIP cyto bpa_Profile_10d.txt'),\n",
       " PosixPath('../data/bpa/rip-bpa/200507 RIP-cytoBPA.txt')]"
      ]
     },
     "execution_count": 70,
     "metadata": {},
     "output_type": "execute_result"
    }
   ],
   "source": [
    "experiment = 'rip-bpa'\n",
    "\n",
    "datadir = Path(\"../data/bpa\")/experiment\n",
    "\n",
    "fnames = sorted(list(datadir.glob(\"*.txt\")))\n",
    "fnames"
   ]
  },
  {
   "cell_type": "code",
   "execution_count": 129,
   "metadata": {},
   "outputs": [
    {
     "name": "stdout",
     "output_type": "stream",
     "text": [
      "200507 RIP-cytoBPA.txt\n",
      "['Decade1', 'Input', 'LARP1', 'LARP4', 'LARP4B', 'Decade2']\n"
     ]
    },
    {
     "data": {
      "text/html": [
       "<div>\n",
       "<style scoped>\n",
       "    .dataframe tbody tr th:only-of-type {\n",
       "        vertical-align: middle;\n",
       "    }\n",
       "\n",
       "    .dataframe tbody tr th {\n",
       "        vertical-align: top;\n",
       "    }\n",
       "\n",
       "    .dataframe thead th {\n",
       "        text-align: right;\n",
       "    }\n",
       "</style>\n",
       "<table border=\"1\" class=\"dataframe\">\n",
       "  <thead>\n",
       "    <tr style=\"text-align: right;\">\n",
       "      <th></th>\n",
       "      <th>Decade1</th>\n",
       "      <th>Input</th>\n",
       "      <th>LARP1</th>\n",
       "      <th>LARP4</th>\n",
       "      <th>Decade2</th>\n",
       "    </tr>\n",
       "    <tr>\n",
       "      <th>(pixel)</th>\n",
       "      <th></th>\n",
       "      <th></th>\n",
       "      <th></th>\n",
       "      <th></th>\n",
       "      <th></th>\n",
       "    </tr>\n",
       "  </thead>\n",
       "  <tbody>\n",
       "    <tr>\n",
       "      <th>0</th>\n",
       "      <td>145362.0735</td>\n",
       "      <td>146368.8661</td>\n",
       "      <td>165762.8858</td>\n",
       "      <td>154543.2293</td>\n",
       "      <td>150408.9270</td>\n",
       "    </tr>\n",
       "    <tr>\n",
       "      <th>1</th>\n",
       "      <td>148393.7948</td>\n",
       "      <td>148800.2324</td>\n",
       "      <td>162522.7034</td>\n",
       "      <td>161981.6148</td>\n",
       "      <td>149454.8735</td>\n",
       "    </tr>\n",
       "    <tr>\n",
       "      <th>2</th>\n",
       "      <td>141866.4092</td>\n",
       "      <td>146807.8849</td>\n",
       "      <td>160101.7130</td>\n",
       "      <td>163956.0270</td>\n",
       "      <td>152658.9649</td>\n",
       "    </tr>\n",
       "  </tbody>\n",
       "</table>\n",
       "</div>"
      ],
      "text/plain": [
       "             Decade1        Input        LARP1        LARP4      Decade2\n",
       "(pixel)                                                                 \n",
       "0        145362.0735  146368.8661  165762.8858  154543.2293  150408.9270\n",
       "1        148393.7948  148800.2324  162522.7034  161981.6148  149454.8735\n",
       "2        141866.4092  146807.8849  160101.7130  163956.0270  152658.9649"
      ]
     },
     "execution_count": 129,
     "metadata": {},
     "output_type": "execute_result"
    }
   ],
   "source": [
    "smpidx = 3\n",
    "inpfpath = fnames[smpidx]\n",
    "work = inpfpath.name\n",
    "print(work)\n",
    "\n",
    "samples = {\n",
    "    \"rip-bpa\": [\"Input\", \"LARP1\", \"LARP4\"],\n",
    "    \"kd-bpa\": [\"siNC\", \"siLARP1\", \"siLARP4_4B\"],\n",
    "}[experiment]\n",
    "\n",
    "# Read the data\n",
    "df = pd.read_csv(inpfpath, sep='\\t', header=5, index_col=0).dropna()\n",
    "print(list(df.columns))\n",
    "df = df[['Decade1'] + samples + ['Decade2']]\n",
    "df.head(3)"
   ]
  },
  {
   "cell_type": "markdown",
   "metadata": {},
   "source": [
    "### Find the marker peaks"
   ]
  },
  {
   "cell_type": "code",
   "execution_count": 130,
   "metadata": {},
   "outputs": [
    {
     "name": "stdout",
     "output_type": "stream",
     "text": [
      "[  18  301  754 1101 1363 1564 1725 1851 1958 2047 2381 2783]\n"
     ]
    },
    {
     "data": {
      "image/png": "[encoded data removed]",
      "text/plain": [
       "<Figure size 576x144 with 1 Axes>"
      ]
     },
     "metadata": {
      "needs_background": "light"
     },
     "output_type": "display_data"
    }
   ],
   "source": [
    "marker_colidx = 0\n",
    "\n",
    "# Normalize signal intensities by lane and reverse it\n",
    "df = df.div(df.sum(), axis=\"columns\")[::-1].reset_index(drop=True)\n",
    "\n",
    "marker_density = df.iloc[:,marker_colidx]\n",
    "peaks_found = find_peaks_cwt(marker_density.dropna(), np.arange(17, 100), min_snr=1, noise_perc=10) # peak calling\n",
    "print(peaks_found)\n",
    "\n",
    "# Visualization of the peak for manual curation\n",
    "fig = plt.figure(figsize=(8,2))\n",
    "ax = fig.add_subplot(111)\n",
    "marker_density.plot(ax=ax)\n",
    "for x in peaks_found: ax.axvline(x, color='black', linestyle='dashed', linewidth=1)\n",
    "# ax.set_xticks(peaks_found)\n",
    "# ax.set_xticklabels(np.arange(0,len(peaks_found)))\n",
    "\n",
    "plt.show()"
   ]
  },
  {
   "cell_type": "markdown",
   "metadata": {},
   "source": [
    "### Manually add or remove the marker peaks"
   ]
  },
  {
   "cell_type": "code",
   "execution_count": 131,
   "metadata": {},
   "outputs": [
    {
     "data": {
      "image/png": "[encoded data removed]",
      "text/plain": [
       "<Figure size 576x144 with 1 Axes>"
      ]
     },
     "metadata": {
      "needs_background": "light"
     },
     "output_type": "display_data"
    }
   ],
   "source": [
    "to_add = {\n",
    "    '190729-1 HeLa cyto kd-bpa.txt':[1690],\n",
    "    '190729-2 A549 cyto kd-bpa.txt':[1690],\n",
    "}.get(work, [])\n",
    "to_remove ={\n",
    "    '180612_cytosol frac RIP_Profile_15d.txt': [17, 455, 2287],\n",
    "    '200507_T11_barricade RIP_cyto_BPA_Profile_20d.txt': [18, 2783],\n",
    "    '180710 cyto barricade RIP 2nd Profile_5d.txt': [17, 189, 981, 2632],\n",
    "    '190809 RIP cyto bpa_Profile_10d.txt': [16, 2542],\n",
    "    '200507 RIP-cytoBPA.txt':[18, 2783],\n",
    "\n",
    "    \n",
    "    '181126 Barricade_KD_cytosol_fraction_BPA_6d_labeled.txt':[17, 2472],\n",
    "    '190729-1 HeLa cyto kd-bpa.txt':[15, 2099, 2252, 2384, 2484, 2611],\n",
    "    '190729-2 A549 cyto kd-bpa.txt':[15, 2099, 2252, 2384, 2484, 2611],\n",
    "    '200507 T11_barricade KD_cyto_BPA_half decrease_Profile_17d_named.txt':[17, 2456],\n",
    "#     'rip-bpa':[20, 2780],\n",
    "#     'kd-bpa': [2453],\n",
    "}[work]\n",
    "\n",
    "marker_peaks = list(peaks_found) + to_add\n",
    "marker_peaks = sorted(list(set(peaks_found) - set(to_remove)))\n",
    "\n",
    "# Visualization of the peak for manual curation\n",
    "fig = plt.figure(figsize=(8,2))\n",
    "ax = fig.add_subplot(111)\n",
    "marker_density.plot(ax=ax)\n",
    "for x in marker_peaks: ax.axvline(x, color='black', linestyle='dashed', linewidth=1)\n",
    "for x in to_add: ax.axvline(x, color=\"orange\", ls=\"--\", lw=1)\n",
    "ax.set_xticks(marker_peaks)\n",
    "ax.set_xticklabels(np.arange(0,len(marker_peaks)))\n",
    "\n",
    "plt.show()"
   ]
  },
  {
   "cell_type": "code",
   "execution_count": 132,
   "metadata": {},
   "outputs": [],
   "source": [
    "marker_labels = [20,30,40,50,60,70,80,90,100,150]\n",
    "\n",
    "assert len(marker_labels) == len(marker_peaks)"
   ]
  },
  {
   "cell_type": "markdown",
   "metadata": {},
   "source": [
    "### Draw plots"
   ]
  },
  {
   "cell_type": "code",
   "execution_count": 133,
   "metadata": {},
   "outputs": [
    {
     "data": {
      "image/png": "[encoded data removed]",
      "text/plain": [
       "<Figure size 576x72 with 1 Axes>"
      ]
     },
     "metadata": {},
     "output_type": "display_data"
    },
    {
     "name": "stdout",
     "output_type": "stream",
     "text": [
      "{'Input': '#303030', 'LARP1': '#DD3224', 'LARP4': '#F4D348'}\n"
     ]
    }
   ],
   "source": [
    "with plt.style.context(styles):\n",
    "    palette = plt.rcParams['axes.prop_cycle'].by_key()['color']\n",
    "    sns.palplot(palette)\n",
    "    plt.show()\n",
    "    \n",
    "    colors = dict(zip(samples, palette))\n",
    "    print( colors )"
   ]
  },
  {
   "cell_type": "markdown",
   "metadata": {},
   "source": [
    "Plot separately"
   ]
  },
  {
   "cell_type": "code",
   "execution_count": 134,
   "metadata": {},
   "outputs": [
    {
     "data": {
      "image/png": "[encoded data removed]",
      "text/plain": [
       "<Figure size 162x108 with 2 Axes>"
      ]
     },
     "metadata": {},
     "output_type": "display_data"
    },
    {
     "data": {
      "image/png": "[encoded data removed]",
      "text/plain": [
       "<Figure size 162x108 with 2 Axes>"
      ]
     },
     "metadata": {},
     "output_type": "display_data"
    }
   ],
   "source": [
    "# Draw a figure\n",
    "\n",
    "savefig = False\n",
    "minifig = True\n",
    "\n",
    "\n",
    "# samples for embedding in every figure\n",
    "embedsmp = [\"Input\"] \n",
    "# embedsmp = [\"siNC\"]\n",
    "subsamples = samples\n",
    "\n",
    "figsize = [4.5, 3]\n",
    "\n",
    "if minifig is True: \n",
    "    styles.append(\"../mini.mplstyle\")\n",
    "    figsize = list(np.array(figsize) / 2)\n",
    "with plt.style.context(styles):\n",
    "    for si, smp in enumerate(subsamples[1:]):\n",
    "        fig, ax = plt.subplots(figsize=figsize)\n",
    "\n",
    "        for esmp in embedsmp:\n",
    "            density = smooth(np.array(df.loc[:,esmp]), 50) * 1000\n",
    "            ax.plot(density, ls=\"-.\", color=\"black\", label=\"\")\n",
    "                \n",
    "        density = smooth(np.array(df.loc[:,smp]), 50) * 1000\n",
    "        ax.plot(density, color=colors[smp], label=smp)\n",
    "        \n",
    "        ax.grid(True)\n",
    "        ax.set_ylim([0,0.75])\n",
    "        ax.set_yticks([0,0.5])\n",
    "        ax.legend(loc=\"lower center\", ncol=2, columnspacing=0.5, handlelength=1.0)\n",
    "          \n",
    "        ax.set_xticks(marker_peaks)\n",
    "        marker_sizes = [20,30,50,80,150]\n",
    "        ax.set_xticklabels([m if m in marker_sizes else \"\" for m in marker_labels])\n",
    "\n",
    "        ## Shared labels\n",
    "        ax = fig.add_subplot(111, frameon=False)\n",
    "        ax.set_xticks([]); ax.set_yticks([])\n",
    "        ax.set_xlabel(\"Poly(A) length (nt)\", labelpad=18)\n",
    "        ax.set_ylabel(\"Normalized signal (a.u.)\", labelpad=23)\n",
    "        ax.set_title(f\"{work.split('_')[0]} {experiment}\", fontsize=\"medium\")\n",
    "\n",
    "\n",
    "        fname_adduct = \"\"\n",
    "        if minifig: fname_adduct += \"_mini\"\n",
    "        if savefig is True:\n",
    "            outfigdir = Path(\"../plots\")\n",
    "            outfigname = f\"{experiment}_{work.split('_')[0]}_{smp}\" + fname_adduct + \".pdf\"\n",
    "            outfigpath = outfigdir/outfigname\n",
    "            print( outfigpath )\n",
    "\n",
    "            fig.savefig(outfigpath, dpi=300, bbox_inches=\"tight\")\n",
    "\n",
    "        plt.show()\n"
   ]
  },
  {
   "cell_type": "markdown",
   "metadata": {},
   "source": [
    "log2fc 1d heatmap"
   ]
  },
  {
   "cell_type": "code",
   "execution_count": 135,
   "metadata": {},
   "outputs": [
    {
     "name": "stdout",
     "output_type": "stream",
     "text": [
      "../plots/rip-bpa_200507_LARP4_log2fc_mini.pdf saved\n"
     ]
    },
    {
     "data": {
      "image/png": "[encoded data removed]",
      "text/plain": [
       "<Figure size 187.2x5.76 with 2 Axes>"
      ]
     },
     "metadata": {},
     "output_type": "display_data"
    }
   ],
   "source": [
    "savefig = True\n",
    "ctrl, tret = \"Input\", \"LARP4\"\n",
    "# ctrl, tret = \"siNC\", \"siLARP4_4B\"\n",
    "vmin, vmax = -0.5, 0.5\n",
    "markers_to_include = [20, 30, 50, 80, 150]\n",
    "\n",
    "ctrl_intensity = smooth(np.array(df.loc[:,ctrl]), 50) * 1000\n",
    "tret_intensity = smooth(np.array(df.loc[:,tret]), 50) * 1000\n",
    "log2fc = np.log2(tret_intensity / ctrl_intensity)\n",
    "# log2fc = df[tret].div(df[ctrl]).map(np.log2)\n",
    "figsize = 2.6, 0.08\n",
    "\n",
    "with plt.style.context(['../polya.mplstyle', '../mini.mplstyle', '../tick.mplstyle']): \n",
    "    fig, ax = plt.subplots(figsize=figsize)\n",
    "    im = ax.pcolormesh(np.asarray(log2fc).reshape(-1,1).T, cmap=cm.RdBu_r, vmin=vmin, vmax=vmax)\n",
    "\n",
    "    marker_dict = dict(zip(marker_labels, marker_peaks))\n",
    "    xticks = [marker_dict[m] for m in markers_to_include]\n",
    "    ax.set_xticks(xticks)\n",
    "    ax.set_xticklabels(markers_to_include)\n",
    "    ax.set_yticks([])\n",
    "\n",
    "    divider = make_axes_locatable(ax)\n",
    "    cax = divider.append_axes(\"left\", size=\"20%\", pad=0.15)\n",
    "    cbar = plt.colorbar(im, cax=cax, orientation=\"horizontal\")\n",
    "    cbar.set_ticks([vmin, vmax])\n",
    "    cbar.solids.set_rasterized(True)\n",
    "\n",
    "    fname_adduct = \"\"\n",
    "    if minifig: fname_adduct += \"_mini\"\n",
    "    if savefig is True:\n",
    "        outfigdir = Path(\"../plots\")\n",
    "        outfigname = f\"{experiment}_{work.split()[0]}_{tret}_log2fc\" + fname_adduct + \".pdf\"\n",
    "        outfigpath = outfigdir/outfigname\n",
    "        print( outfigpath, 'saved' )\n",
    "\n",
    "        fig.savefig(outfigpath, dpi=300, bbox_inches=\"tight\")\n",
    "\n",
    "plt.show()"
   ]
  },
  {
   "cell_type": "markdown",
   "metadata": {},
   "source": [
    "x-linearized log2fc 1d heatmap"
   ]
  },
  {
   "cell_type": "code",
   "execution_count": 136,
   "metadata": {},
   "outputs": [],
   "source": [
    "# Add the size column to linearize the range within marker limits\n",
    "\n",
    "sizes = list()\n",
    "for pi, size in enumerate(marker_labels):\n",
    "    if pi + 1 == len(marker_peaks): break\n",
    "    pos = marker_peaks[pi]\n",
    "    nextpos = marker_peaks[pi+1]\n",
    "    nextsize = marker_labels[pi+1]\n",
    "    nsigs = nextpos - pos\n",
    "    sizes += list(np.linspace(size, nextsize, nsigs+1)[:-1])\n",
    "sizes += [marker_labels[-1]]\n",
    "df[\"size\"] = None\n",
    "df.iloc[marker_peaks[0]:marker_peaks[-1]+1, -1] = sizes"
   ]
  },
  {
   "cell_type": "code",
   "execution_count": 137,
   "metadata": {},
   "outputs": [
    {
     "data": {
      "text/html": [
       "<div>\n",
       "<style scoped>\n",
       "    .dataframe tbody tr th:only-of-type {\n",
       "        vertical-align: middle;\n",
       "    }\n",
       "\n",
       "    .dataframe tbody tr th {\n",
       "        vertical-align: top;\n",
       "    }\n",
       "\n",
       "    .dataframe thead th {\n",
       "        text-align: right;\n",
       "    }\n",
       "</style>\n",
       "<table border=\"1\" class=\"dataframe\">\n",
       "  <thead>\n",
       "    <tr style=\"text-align: right;\">\n",
       "      <th></th>\n",
       "      <th>Decade1</th>\n",
       "      <th>Input</th>\n",
       "      <th>LARP1</th>\n",
       "      <th>LARP4</th>\n",
       "      <th>Decade2</th>\n",
       "    </tr>\n",
       "    <tr>\n",
       "      <th>binid</th>\n",
       "      <th></th>\n",
       "      <th></th>\n",
       "      <th></th>\n",
       "      <th></th>\n",
       "      <th></th>\n",
       "    </tr>\n",
       "  </thead>\n",
       "  <tbody>\n",
       "    <tr>\n",
       "      <th>9.0</th>\n",
       "      <td>0.017801</td>\n",
       "      <td>0.012013</td>\n",
       "      <td>0.013324</td>\n",
       "      <td>0.012942</td>\n",
       "      <td>0.015613</td>\n",
       "    </tr>\n",
       "    <tr>\n",
       "      <th>10.0</th>\n",
       "      <td>0.026510</td>\n",
       "      <td>0.031259</td>\n",
       "      <td>0.037443</td>\n",
       "      <td>0.032935</td>\n",
       "      <td>0.024354</td>\n",
       "    </tr>\n",
       "    <tr>\n",
       "      <th>11.0</th>\n",
       "      <td>0.023509</td>\n",
       "      <td>0.032062</td>\n",
       "      <td>0.039541</td>\n",
       "      <td>0.031606</td>\n",
       "      <td>0.022528</td>\n",
       "    </tr>\n",
       "  </tbody>\n",
       "</table>\n",
       "</div>"
      ],
      "text/plain": [
       "        Decade1     Input     LARP1     LARP4   Decade2\n",
       "binid                                                  \n",
       "9.0    0.017801  0.012013  0.013324  0.012942  0.015613\n",
       "10.0   0.026510  0.031259  0.037443  0.032935  0.024354\n",
       "11.0   0.023509  0.032062  0.039541  0.031606  0.022528"
      ]
     },
     "execution_count": 137,
     "metadata": {},
     "output_type": "execute_result"
    }
   ],
   "source": [
    "# Draw a x-linearised log2 foldchange of the signals\n",
    "nbins = 1000\n",
    "binsize = (marker_peaks[-1] - marker_peaks[0]) / nbins\n",
    "df_temp = df.copy()\n",
    "df_temp.loc[:, \"binid\"] = df_temp.loc[:,\"size\"] // binsize\n",
    "df_binned = df_temp.groupby(\"binid\").agg(np.sum)\n",
    "\n",
    "def get_size_from_binid(bid):\n",
    "    return bid * binsize + (binsize / 2)\n",
    "\n",
    "df_binned.head(3)"
   ]
  },
  {
   "cell_type": "code",
   "execution_count": 139,
   "metadata": {},
   "outputs": [
    {
     "name": "stdout",
     "output_type": "stream",
     "text": [
      "../plots/rip-bpa_200507 RIP-cytoBPA.txt_LARP4_linearized_log2fc_mini.pdf saved\n"
     ]
    },
    {
     "data": {
      "image/png": "[encoded data removed]",
      "text/plain": [
       "<Figure size 194.4x86.4 with 2 Axes>"
      ]
     },
     "metadata": {},
     "output_type": "display_data"
    },
    {
     "name": "stdout",
     "output_type": "stream",
     "text": [
      "0.21226742401542623 134.16\n",
      "0.1966582610406148 130.0\n",
      "0.19637353811525432 127.92000000000002\n",
      "0.19401096953936475 132.07999999999998\n",
      "0.17973922760507546 105.04\n",
      "0.17502706481899596 107.12\n",
      "0.17426021425001298 125.84000000000002\n",
      "0.17130355767141364 136.24\n",
      "0.1676698064601419 109.2\n",
      "0.16755771941162614 121.68\n",
      "0.1655870484873365 102.96000000000001\n",
      "0.1633052103350135 123.76\n",
      "0.16297547012218136 115.44000000000001\n",
      "0.16191909629003834 113.36000000000001\n",
      "0.16073916359917867 100.88000000000001\n",
      "0.1569649174444694 111.28000000000002\n",
      "0.15123293908314092 117.52000000000001\n",
      "0.1488050161144155 119.60000000000001\n",
      "0.14744480645248229 140.4\n",
      "0.14503126404713637 98.80000000000001\n",
      "0.14224309703826918 96.72000000000001\n",
      "0.13744503399181737 138.32\n",
      "0.13503609066042155 142.48\n",
      "0.13397506071024456 144.56\n",
      "0.12716346212603305 82.16000000000001\n",
      "0.12575745547616124 146.64\n",
      "0.12392168825171411 94.64000000000001\n",
      "0.12373036329796651 78.00000000000001\n",
      "0.12053464252129491 150.79999999999998\n",
      "0.12024472005266998 86.32000000000001\n",
      "0.11438441296447638 75.92\n",
      "0.11351377048913011 92.56000000000002\n",
      "0.11299163258719237 88.4\n",
      "0.11222347996859132 73.84\n",
      "0.11213084242754562 84.24000000000001\n",
      "0.11158192121894708 80.08000000000001\n",
      "0.10745190107252021 19.759999999999998\n",
      "0.10521002182213966 90.48\n",
      "0.0989121421892169 71.76\n",
      "0.09060132231115918 148.72\n",
      "0.07535771478804425 21.84\n",
      "0.04752054562925119 69.68\n",
      "0.007547034473239374 67.60000000000001\n",
      "-0.010342087714447966 65.52000000000001\n",
      "-0.020709270001181203 23.92\n",
      "-0.036383368510442216 63.440000000000005\n",
      "-0.06275794495530164 61.36\n",
      "-0.07373134548252575 50.96\n",
      "-0.0743500688989914 53.04\n",
      "-0.07980078087151499 26.0\n"
     ]
    }
   ],
   "source": [
    "savefig = True\n",
    "minifig = True\n",
    "\n",
    "figsize = 5.4, 2.4\n",
    "\n",
    "if minifig is True: \n",
    "    styles.append(\"../mini.mplstyle\")\n",
    "    figsize = list(np.array(figsize) / 2)\n",
    "    \n",
    "# ctrl, tret = \"siNC\", \"siLARP4_4B\"\n",
    "# vmin, vmax = -0.4, 0.4\n",
    "ctrl, tret = \"Input\", \"LARP4\"\n",
    "vmin, vmax = -0.5, 0.5\n",
    "\n",
    "with plt.style.context(styles + [\"../tick.mplstyle\"]):\n",
    "    fig = plt.figure(figsize=figsize)\n",
    "    ax = fig.add_subplot(111)\n",
    "\n",
    "    log2fc = np.log2(df_binned.loc[:, tret] / df_binned.loc[:, ctrl])\n",
    "\n",
    "    d = np.vstack((log2fc, log2fc))\n",
    "\n",
    "    im = ax.imshow(d, cmap=cm.RdBu_r, vmin=vmin, vmax=vmax)\n",
    "\n",
    "    xticklabels = list(range(30, 151, 20))\n",
    "    xticks = (xticklabels // binsize) - (marker_labels[0] // binsize)\n",
    "    ax.set_xticks(xticks)\n",
    "    ax.set_xticklabels(xticklabels)\n",
    "    ax.set_yticks([])\n",
    "\n",
    "    divider = make_axes_locatable(ax)\n",
    "    cax = divider.append_axes(\"left\", size=\"15%\", pad=0.1)\n",
    "    cbar = plt.colorbar(im, cax=cax, orientation=\"horizontal\")\n",
    "    cbar.set_ticks([vmin, vmax])\n",
    "    cbar.solids.set_rasterized(True)\n",
    "\n",
    "    fname_adduct = \"\"\n",
    "    if minifig: fname_adduct += \"_mini\"\n",
    "    if savefig is True:\n",
    "        outfigdir = Path(\"../plots\")\n",
    "        outfigname = f\"{experiment}_{work.split('_')[0]}_{tret}_linearized_log2fc\" + fname_adduct + \".pdf\"\n",
    "        outfigpath = outfigdir/outfigname\n",
    "        print( outfigpath, 'saved' )\n",
    "\n",
    "        fig.savefig(outfigpath, dpi=300, bbox_inches=\"tight\")\n",
    "\n",
    "    plt.show()\n",
    "\n",
    "for i in log2fc.sort_values(ascending=False).head(50).index:\n",
    "    print( log2fc.loc[i], get_size_from_binid(i) )"
   ]
  },
  {
   "cell_type": "markdown",
   "metadata": {},
   "source": [
    "Plot combined"
   ]
  },
  {
   "cell_type": "code",
   "execution_count": 62,
   "metadata": {},
   "outputs": [
    {
     "data": {
      "image/png": "[encoded data removed]",
      "text/plain": [
       "<Figure size 162x252 with 3 Axes>"
      ]
     },
     "metadata": {},
     "output_type": "display_data"
    }
   ],
   "source": [
    "# Draw a figure\n",
    "\n",
    "savefig = False\n",
    "minifig = True\n",
    "\n",
    "\n",
    "# samples for embedding in every figure\n",
    "embedsmp = [\"Input\"] \n",
    "# embedsmp = [\"siNC\"]\n",
    "subsamples = samples\n",
    "nrows = 2\n",
    "\n",
    "figsize = [4.5, 3 + 2 * nrows]\n",
    "\n",
    "styles = [\"barricade\"]\n",
    "if minifig is True: \n",
    "    styles.append(\"mini\")\n",
    "    figsize = list(np.array(figsize) / 2)\n",
    "with plt.style.context(styles):\n",
    "\n",
    "    fig, axes = plt.subplots(nrows, 1, figsize=figsize, sharex=True, sharey=True)\n",
    "    plt.subplots_adjust(hspace=0.1)\n",
    "\n",
    "    axi = 0\n",
    "    for si, smp in enumerate(subsamples[1:]):\n",
    "        ax = axes.ravel()[axi]\n",
    "\n",
    "        for esmp in embedsmp:\n",
    "            density = smooth(np.array(df.loc[:,esmp]), 50) * 1000\n",
    "            ax.plot(density, ls=\"-.\", color=\"black\", label=\"\")\n",
    "                \n",
    "        density = smooth(np.array(df.loc[:,smp]), 50) * 1000\n",
    "        ax.plot(density, color=colors[smp], label=smp)\n",
    "        \n",
    "        ax.grid(True)\n",
    "        ax.set_ylim([0,0.65])\n",
    "        ax.set_yticks([0,0.5])\n",
    "        ax.legend(loc=\"lower center\", ncol=2, columnspacing=0.5, handlelength=1.0)\n",
    "        \n",
    "        if smp != 'LARP4': axi += 1\n",
    "          \n",
    "    ax.set_xticks(marker_peaks)\n",
    "    marker_sizes = [20,30,50,80,150]\n",
    "    ax.set_xticklabels([m if m in marker_sizes else \"\" for m in marker_labels])\n",
    "    \n",
    "    ## Shared labels\n",
    "    ax = fig.add_subplot(111, frameon=False)\n",
    "    ax.set_xticks([]); ax.set_yticks([])\n",
    "    ax.set_xlabel(\"Poly(A) length (nt)\", labelpad=18)\n",
    "    ax.set_ylabel(\"Normalized signal intensity (a.u.)\", labelpad=23)\n",
    "    ax.set_title(work, fontsize=\"medium\")\n",
    "\n",
    "    \n",
    "    fname_adduct = \"\"\n",
    "    if minifig: fname_adduct += \"_mini\"\n",
    "    if savefig is True:\n",
    "        outfigdir = Path(\"../plots\")\n",
    "        outfigname = f\"bpa_densitogram_{work}_{''.join(subsamples[1:])}\" + fname_adduct + \".pdf\"\n",
    "        outfigpath = outfigdir/outfigname\n",
    "        print( outfigpath )\n",
    "        \n",
    "        fig.savefig(outfigpath, dpi=300, bbox_inches=\"tight\")\n",
    "    \n",
    "    plt.show()\n",
    "    "
   ]
  }
 ],
 "metadata": {
  "kernelspec": {
   "display_name": "polya",
   "language": "python",
   "name": "polya"
  },
  "language_info": {
   "codemirror_mode": {
    "name": "ipython",
    "version": 3
   },
   "file_extension": ".py",
   "mimetype": "text/x-python",
   "name": "python",
   "nbconvert_exporter": "python",
   "pygments_lexer": "ipython3",
   "version": "3.7.7"
  }
 },
 "nbformat": 4,
 "nbformat_minor": 4
}
