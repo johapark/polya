{
 "cells": [
  {
   "cell_type": "code",
   "execution_count": 12,
   "metadata": {},
   "outputs": [],
   "source": [
    "# Built-in\n",
    "from pathlib import Path\n",
    "\n",
    "# Third-party\n",
    "from mpl_toolkits.axes_grid1 import make_axes_locatable\n",
    "from scipy.signal import find_peaks_cwt\n",
    "from matplotlib import pyplot as plt\n",
    "from matplotlib import cm\n",
    "import seaborn as sns\n",
    "import pandas as pd\n",
    "import numpy as np\n",
    "\n",
    "# Local imports\n",
    "from polya.utils import smooth\n",
    "\n",
    "styles = ['../polya.mplstyle']\n"
   ]
  },
  {
   "cell_type": "code",
   "execution_count": 45,
   "metadata": {},
   "outputs": [
    {
     "data": {
      "text/html": [
       "<div>\n",
       "<style scoped>\n",
       "    .dataframe tbody tr th:only-of-type {\n",
       "        vertical-align: middle;\n",
       "    }\n",
       "\n",
       "    .dataframe tbody tr th {\n",
       "        vertical-align: top;\n",
       "    }\n",
       "\n",
       "    .dataframe thead th {\n",
       "        text-align: right;\n",
       "    }\n",
       "</style>\n",
       "<table border=\"1\" class=\"dataframe\">\n",
       "  <thead>\n",
       "    <tr style=\"text-align: right;\">\n",
       "      <th></th>\n",
       "      <th>Decade1</th>\n",
       "      <th>Input</th>\n",
       "      <th>LARP1</th>\n",
       "      <th>LARP4</th>\n",
       "      <th>LARP4B</th>\n",
       "      <th>Decade2</th>\n",
       "    </tr>\n",
       "    <tr>\n",
       "      <th>(pixel)</th>\n",
       "      <th></th>\n",
       "      <th></th>\n",
       "      <th></th>\n",
       "      <th></th>\n",
       "      <th></th>\n",
       "      <th></th>\n",
       "    </tr>\n",
       "  </thead>\n",
       "  <tbody>\n",
       "    <tr>\n",
       "      <th>0</th>\n",
       "      <td>145362.0735</td>\n",
       "      <td>146368.8661</td>\n",
       "      <td>165762.8858</td>\n",
       "      <td>154543.2293</td>\n",
       "      <td>153199.6007</td>\n",
       "      <td>150408.9270</td>\n",
       "    </tr>\n",
       "    <tr>\n",
       "      <th>1</th>\n",
       "      <td>148393.7948</td>\n",
       "      <td>148800.2324</td>\n",
       "      <td>162522.7034</td>\n",
       "      <td>161981.6148</td>\n",
       "      <td>152259.1011</td>\n",
       "      <td>149454.8735</td>\n",
       "    </tr>\n",
       "    <tr>\n",
       "      <th>2</th>\n",
       "      <td>141866.4092</td>\n",
       "      <td>146807.8849</td>\n",
       "      <td>160101.7130</td>\n",
       "      <td>163956.0270</td>\n",
       "      <td>153281.4034</td>\n",
       "      <td>152658.9649</td>\n",
       "    </tr>\n",
       "  </tbody>\n",
       "</table>\n",
       "</div>"
      ],
      "text/plain": [
       "             Decade1        Input        LARP1        LARP4       LARP4B  \\\n",
       "(pixel)                                                                    \n",
       "0        145362.0735  146368.8661  165762.8858  154543.2293  153199.6007   \n",
       "1        148393.7948  148800.2324  162522.7034  161981.6148  152259.1011   \n",
       "2        141866.4092  146807.8849  160101.7130  163956.0270  153281.4034   \n",
       "\n",
       "             Decade2  \n",
       "(pixel)               \n",
       "0        150408.9270  \n",
       "1        149454.8735  \n",
       "2        152658.9649  "
      ]
     },
     "execution_count": 45,
     "metadata": {},
     "output_type": "execute_result"
    }
   ],
   "source": [
    "work = 'rip-bpa'\n",
    "\n",
    "datadir = Path(\"../data/bpa\")\n",
    "\n",
    "fname = {\n",
    "    \"rip-bpa\": \"200507_RIP-cytoBPA.csv\",\n",
    "    \"kd-bpa\": '200507_KD-cytoBPA.csv',\n",
    "}[work]\n",
    "\n",
    "samples = {\n",
    "    \"rip-bpa\": [\"Input\", \"LARP1\", \"LARP4\", \"LARP4B\"],\n",
    "    \"kd-bpa\": [\"siNC\", \"siLARP1\", \"siLARP4_4B\"],\n",
    "}[work]\n",
    "inpfpath = datadir/fname\n",
    "\n",
    "# Read the data\n",
    "df = pd.read_csv(inpfpath, sep=',', header=5, index_col=0).dropna()\n",
    "df.head(3)"
   ]
  },
  {
   "cell_type": "markdown",
   "metadata": {},
   "source": [
    "### Find the marker peaks"
   ]
  },
  {
   "cell_type": "code",
   "execution_count": 46,
   "metadata": {},
   "outputs": [
    {
     "name": "stdout",
     "output_type": "stream",
     "text": [
      "[  20  301  754 1102 1363 1564 1725 1851 1958 2048 2381 2780]\n"
     ]
    },
    {
     "data": {
      "image/png": "[encoded data removed]",
      "text/plain": [
       "<Figure size 576x144 with 1 Axes>"
      ]
     },
     "metadata": {
      "needs_background": "light"
     },
     "output_type": "display_data"
    }
   ],
   "source": [
    "marker_colidx = 0\n",
    "\n",
    "# Normalize signal intensities by lane and reverse it\n",
    "df = df.div(df.sum(), axis=\"columns\")[::-1].reset_index(drop=True)\n",
    "\n",
    "marker_density = df.iloc[:,marker_colidx]\n",
    "peaks_found = find_peaks_cwt(marker_density.dropna(), np.arange(20, 100), min_snr=1, noise_perc=5) # peak calling\n",
    "print(peaks_found)\n",
    "\n",
    "# Visualization of the peak for manual curation\n",
    "fig = plt.figure(figsize=(8,2))\n",
    "ax = fig.add_subplot(111)\n",
    "marker_density.plot(ax=ax)\n",
    "for x in peaks_found: ax.axvline(x, color='black', linestyle='dashed', linewidth=1)\n",
    "# ax.set_xticks(peaks_found)\n",
    "# ax.set_xticklabels(np.arange(0,len(peaks_found)))\n",
    "\n",
    "plt.show()"
   ]
  },
  {
   "cell_type": "markdown",
   "metadata": {},
   "source": [
    "### Manually add or remove the marker peaks"
   ]
  },
  {
   "cell_type": "code",
   "execution_count": 47,
   "metadata": {},
   "outputs": [
    {
     "data": {
      "image/png": "[encoded data removed]",
      "text/plain": [
       "<Figure size 576x144 with 1 Axes>"
      ]
     },
     "metadata": {
      "needs_background": "light"
     },
     "output_type": "display_data"
    }
   ],
   "source": [
    "to_add = []\n",
    "to_remove ={\n",
    "    'rip-bpa':[20, 2780],\n",
    "    'kd-bpa': [2453],\n",
    "}[work]\n",
    "\n",
    "marker_peaks = list(peaks_found) + to_add\n",
    "marker_peaks = sorted(list(set(peaks_found) - set(to_remove)))\n",
    "\n",
    "# Visualization of the peak for manual curation\n",
    "fig = plt.figure(figsize=(8,2))\n",
    "ax = fig.add_subplot(111)\n",
    "marker_density.plot(ax=ax)\n",
    "for x in marker_peaks: ax.axvline(x, color='black', linestyle='dashed', linewidth=1)\n",
    "for x in to_add: ax.axvline(x, color=\"orange\", ls=\"--\", lw=1)\n",
    "ax.set_xticks(marker_peaks)\n",
    "ax.set_xticklabels(np.arange(0,len(marker_peaks)))\n",
    "\n",
    "plt.show()"
   ]
  },
  {
   "cell_type": "code",
   "execution_count": 48,
   "metadata": {},
   "outputs": [],
   "source": [
    "marker_labels = [20,30,40,50,60,70,80,90,100,150]\n",
    "\n",
    "assert len(marker_labels) == len(marker_peaks)"
   ]
  },
  {
   "cell_type": "markdown",
   "metadata": {},
   "source": [
    "### Draw plots"
   ]
  },
  {
   "cell_type": "code",
   "execution_count": 49,
   "metadata": {},
   "outputs": [
    {
     "data": {
      "image/png": "[encoded data removed]",
      "text/plain": [
       "<Figure size 576x72 with 1 Axes>"
      ]
     },
     "metadata": {},
     "output_type": "display_data"
    },
    {
     "name": "stdout",
     "output_type": "stream",
     "text": [
      "{'Input': '#303030', 'LARP1': '#DD3224', 'LARP4': '#F4D348', 'LARP4B': '#326841'}\n"
     ]
    }
   ],
   "source": [
    "with plt.style.context(styles):\n",
    "    palette = plt.rcParams['axes.prop_cycle'].by_key()['color']\n",
    "    sns.palplot(palette)\n",
    "    plt.show()\n",
    "    \n",
    "    colors = dict(zip(samples, palette))\n",
    "    print( colors )"
   ]
  },
  {
   "cell_type": "code",
   "execution_count": 51,
   "metadata": {},
   "outputs": [
    {
     "name": "stdout",
     "output_type": "stream",
     "text": [
      "../plots/bpa_densitogram_rip-bpa_LARP1LARP4LARP4B_mini.pdf\n"
     ]
    },
    {
     "data": {
      "image/png": "[encoded data removed]",
      "text/plain": [
       "<Figure size 162x252 with 3 Axes>"
      ]
     },
     "metadata": {},
     "output_type": "display_data"
    }
   ],
   "source": [
    "# Draw a figure\n",
    "\n",
    "savefig = True\n",
    "minifig = True\n",
    "\n",
    "\n",
    "# samples for embedding in every figure\n",
    "embedsmp = [\"Input\"] \n",
    "# embedsmp = [\"siNC\"]\n",
    "subsamples = samples\n",
    "nrows = 2\n",
    "\n",
    "figsize = [4.5, 3 + 2 * nrows]\n",
    "\n",
    "styles = [\"barricade\"]\n",
    "if minifig is True: \n",
    "    styles.append(\"mini\")\n",
    "    figsize = list(np.array(figsize) / 2)\n",
    "with plt.style.context(styles):\n",
    "\n",
    "    fig, axes = plt.subplots(nrows, 1, figsize=figsize, sharex=True, sharey=True)\n",
    "    plt.subplots_adjust(hspace=0.1)\n",
    "\n",
    "    axi = 0\n",
    "    for si, smp in enumerate(subsamples[1:]):\n",
    "        ax = axes.ravel()[axi]\n",
    "\n",
    "        for esmp in embedsmp:\n",
    "            density = smooth(np.array(df.loc[:,esmp]), 50) * 1000\n",
    "            ax.plot(density, ls=\"-.\", color=\"black\", label=\"\")\n",
    "                \n",
    "        density = smooth(np.array(df.loc[:,smp]), 50) * 1000\n",
    "        ax.plot(density, color=colors[smp], label=smp)\n",
    "        \n",
    "        ax.grid(True)\n",
    "        ax.set_ylim([0,0.65])\n",
    "        ax.set_yticks([0,0.5])\n",
    "        ax.legend(loc=\"lower center\", ncol=2, columnspacing=0.5, handlelength=1.0)\n",
    "        \n",
    "        if smp != 'LARP4': axi += 1\n",
    "          \n",
    "    ax.set_xticks(marker_peaks)\n",
    "    marker_sizes = [20,30,50,80,150]\n",
    "    ax.set_xticklabels([m if m in marker_sizes else \"\" for m in marker_labels])\n",
    "    \n",
    "    ## Shared labels\n",
    "    ax = fig.add_subplot(111, frameon=False)\n",
    "    ax.set_xticks([]); ax.set_yticks([])\n",
    "    ax.set_xlabel(\"Poly(A) length (nt)\", labelpad=18)\n",
    "    ax.set_ylabel(\"Normalized signal intensity (a.u.)\", labelpad=23)\n",
    "    ax.set_title(work, fontsize=\"medium\")\n",
    "\n",
    "    \n",
    "    fname_adduct = \"\"\n",
    "    if minifig: fname_adduct += \"_mini\"\n",
    "    if savefig is True:\n",
    "        outfigdir = Path(\"../plots\")\n",
    "        outfigname = f\"bpa_densitogram_{work}_{''.join(subsamples[1:])}\" + fname_adduct + \".pdf\"\n",
    "        outfigpath = outfigdir/outfigname\n",
    "        print( outfigpath )\n",
    "        \n",
    "        fig.savefig(outfigpath, dpi=300, bbox_inches=\"tight\")\n",
    "    \n",
    "    plt.show()\n",
    "    "
   ]
  }
 ],
 "metadata": {
  "kernelspec": {
   "display_name": "polya",
   "language": "python",
   "name": "polya"
  },
  "language_info": {
   "codemirror_mode": {
    "name": "ipython",
    "version": 3
   },
   "file_extension": ".py",
   "mimetype": "text/x-python",
   "name": "python",
   "nbconvert_exporter": "python",
   "pygments_lexer": "ipython3",
   "version": "3.7.7"
  }
 },
 "nbformat": 4,
 "nbformat_minor": 4
}
