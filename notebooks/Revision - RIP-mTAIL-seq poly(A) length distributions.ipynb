{
 "cells": [
  {
   "cell_type": "code",
   "execution_count": 87,
   "id": "a06d106d-c99d-42ed-85a1-229b4d151c1d",
   "metadata": {},
   "outputs": [],
   "source": [
    "from pathlib import Path\n",
    "import json\n",
    "\n",
    "from matplotlib.ticker import AutoMinorLocator\n",
    "from matplotlib import pyplot as plt\n",
    "from scipy.stats import gmean\n",
    "import seaborn as sns\n",
    "import pandas as pd\n",
    "import numpy as np\n",
    "import feather\n",
    "import lzma\n",
    "\n",
    "from polya.utils import smooth\n",
    "\n",
    "work = \"jp3\""
   ]
  },
  {
   "cell_type": "code",
   "execution_count": 88,
   "id": "b8385b60-60f3-4937-a843-5c9cd4e3c3c8",
   "metadata": {},
   "outputs": [],
   "source": [
    "samples = {\n",
    "    'mh1': [\"Input\", \"LARP1\"],\n",
    "    'jp3': ['siNC', 'siLARP1-3'],#, 'siLARP44B']\n",
    "    # 'jp3': ['siNC', 'siLARP44B'],\n",
    "}[work]\n",
    "\n",
    "ctrl = {\n",
    "}.get(work, samples[0])"
   ]
  },
  {
   "cell_type": "code",
   "execution_count": 89,
   "id": "a65d21cf-6234-4d65-ae69-7255e125b8fe",
   "metadata": {},
   "outputs": [
    {
     "name": "stderr",
     "output_type": "stream",
     "text": [
      "/casa/joha/anaconda3/envs/polya/lib/python3.7/site-packages/pandas/io/packers.py:187: FutureWarning: \n",
      "Panel is deprecated and will be removed in a future version.\n",
      "The recommended way to represent these types of 3-dimensional data are with a MultiIndex on a DataFrame, via the Panel.to_frame() method\n",
      "Alternatively, you can use the xarray package http://xarray.pydata.org/en/stable/.\n",
      "Pandas provides a `.to_xarray()` method to help automate this conversion.\n",
      "\n",
      "  unpacked_obj = list(unpack(fh, encoding=encoding, **kwargs))\n"
     ]
    }
   ],
   "source": [
    "workdir = Path(\"/casa/joha/projects/polya/works/\")\n",
    "\n",
    "panels = {\n",
    "    s: pd.read_msgpack(lzma.open(workdir/work/\"tagcounts/{}-single-U-canonical.msgpack.xz\".format(s), \"rb\"))\n",
    "    for s in samples\n",
    "} # pd.read_msgpack is deprecated in the >0.25.0 version of pandas"
   ]
  },
  {
   "cell_type": "markdown",
   "id": "cc9d267b-42fa-42fa-a5e4-7b0ba6c2553a",
   "metadata": {},
   "source": [
    "Get some gene lists"
   ]
  },
  {
   "cell_type": "code",
   "execution_count": 90,
   "id": "f97c30c8-51d4-450a-a28e-13a55aa0c9f2",
   "metadata": {},
   "outputs": [
    {
     "name": "stdout",
     "output_type": "stream",
     "text": [
      "39 MT-encoded genes\n",
      "89 TOP genes\n",
      "1177 RP genes\n"
     ]
    }
   ],
   "source": [
    "genepath = \"/casa/joha/scripts/tailseeker3.1.7/refdb/level3/GRCh38/annotations-gene.feather\"\n",
    "df_gene = feather.read_dataframe(genepath)\n",
    "\n",
    "# Mitochondrially-encoded genes\n",
    "df_mtgenes = df_gene[df_gene[\"seqname\"].map(lambda x: x == \"chrM\" if x else False)]\n",
    "mtgenes = df_mtgenes[\"gene_id\"]\n",
    "mtgenes = mtgenes.append(pd.Series(['ENSG00000247627.2', 'ENSG00000248527.1']) ) # adding MTND4P12, MTATP6P1 pseudogenes\n",
    "print( len(mtgenes), \"MT-encoded genes\")\n",
    "\n",
    "# TOP genes: The list is from Yamashita et al., NAR, 2008\n",
    "topglist = [g.strip().upper() for g in open(\"../data/external/human_top_genes_nar_2008.csv\", \"rt\").readlines()]\n",
    "df_topgenes = df_gene[df_gene[\"gene_name\"].isin(topglist)]\n",
    "topgenes = df_topgenes[\"gene_id\"]\n",
    "print( len(topgenes), \"TOP genes\" )\n",
    "\n",
    "# RP genes\n",
    "df_rpgenes = df_gene[df_gene[\"gene_description\"].map(lambda x: x.startswith(\"ribosomal protein\") if x else False)]\n",
    "df_rpgenes = df_rpgenes[df_rpgenes[\"gene_description\"].map(lambda x: \"kinase\" not in x)]\n",
    "df_rpgenes = df_rpgenes[df_rpgenes[\"gene_description\"].map(lambda x: \"like\" not in x)]\n",
    "df_rpgenes = df_rpgenes[df_rpgenes[\"gene_description\"].map(lambda x: \"binding\" not in x)]\n",
    "print(len(df_rpgenes), \"RP genes\")\n",
    "rpgenes = df_rpgenes[\"gene_id\"]\n",
    "\n",
    "gene_lists = {\n",
    "    'all': df_gene['gene_id'],\n",
    "    'mtgenes': mtgenes,\n",
    "    'topgenes': topgenes,\n",
    "    'nontopgenes': df_gene['gene_id'][~df_gene['gene_id'].isin(topgenes)],\n",
    "    'rpgenes': rpgenes,\n",
    "}"
   ]
  },
  {
   "cell_type": "markdown",
   "id": "a2777667-a129-40a7-801c-cb3c3cbbf836",
   "metadata": {},
   "source": [
    "---\n",
    "### Global poly(A)-tail length distribution"
   ]
  },
  {
   "cell_type": "code",
   "execution_count": 94,
   "id": "ce35fb78-6e28-4e5e-a153-d3cd2e7de132",
   "metadata": {},
   "outputs": [
    {
     "name": "stdout",
     "output_type": "stream",
     "text": [
      "/casa/joha/projects/polya/works/jp3/plots/global_pAlen_dists_jp3_10-220_non-topgenes_wo_mtgenes_mini.pdf saved\n"
     ]
    },
    {
     "data": {
      "image/png": "[encoded data removed]",
      "text/plain": [
       "<Figure size 194.4x126 with 1 Axes>"
      ]
     },
     "metadata": {},
     "output_type": "display_data"
    }
   ],
   "source": [
    "# Configurations\n",
    "gene_subset = gene_lists['nontopgenes']\n",
    "subset_label = 'non-topgenes'\n",
    "drop_subsets=['mtgenes']\n",
    "# drop_subsets=[]\n",
    "\n",
    "savefig = True\n",
    "minifig = True\n",
    "# figsize = 5.4, 2.8 # for Fig. 4\n",
    "figsize = 5.4, 3.5 # for Fig. 4\n",
    "\n",
    "smoothing = True\n",
    "smoothing_window = 15\n",
    "pAlen_range = [10, 220]; pr = pAlen_range\n",
    "\n",
    "styles = [\"../polya.mplstyle\"]\n",
    "if minifig is True:\n",
    "    styles.append(\"../mini.mplstyle\")\n",
    "    figsize = list(map(lambda x:x/2, figsize))\n",
    "    \n",
    "with plt.style.context(styles):\n",
    "    default_colors = sns.color_palette()\n",
    "    colors_by_smp = json.load(open(\"../colors_by_smp.json\",\"r\"))\n",
    "    colors = [colors_by_smp.get(smp, default_colors[si]) for si, smp in enumerate(samples)]\n",
    "    global_fmax = None # Maximum value of the fraction\n",
    "    \n",
    "    fig, ax = plt.subplots(figsize=figsize)\n",
    "    for si, smp in enumerate(samples):\n",
    "        pn = panels[smp]\n",
    "        \n",
    "        # Consider only a specific gene set\n",
    "        if gene_subset is not None:\n",
    "            pn = pn.reindex(gene_subset) \n",
    "\n",
    "        # Exlucde specific gene sets\n",
    "        if drop_subsets:\n",
    "            for subset in drop_subsets:\n",
    "                pn = pn.drop(gene_lists[subset], errors='ignore')\n",
    "\n",
    "        if not pAlen_range: pAlen_range = [0, pn.shape[1]-1]\n",
    "\n",
    "        # Normalization\n",
    "        pAtags = pn.sum(axis=0).sum(axis=1).iloc[pr[0]:pr[1]+1]\n",
    "        pAlen_dist = pAtags / pAtags.sum() * 100 # fraction in percent\n",
    "\n",
    "        # Smoothing\n",
    "        if smoothing is True:\n",
    "            pAlen_dist = smooth(np.array(pAlen_dist), window_len=smoothing_window)\n",
    "\n",
    "        fmax = pAlen_dist.max()\n",
    "        if global_fmax is None: global_fmax = fmax\n",
    "        elif global_fmax < fmax: global_fmax = fmax\n",
    "\n",
    "        if smp == 'siLARP4_5': label = 'siLARP4/4B'\n",
    "        elif smp == 'siLARP44B': label = 'siLARP4/4B'\n",
    "        elif smp == 'siLARP1-3': label = 'siLARP1'\n",
    "        else: label = smp\n",
    "\n",
    "        ## Plotting\n",
    "        ax.plot(np.arange(pr[0], pr[1]+1), pAlen_dist, color=colors[si], label=label, zorder=7)\n",
    "\n",
    "    ax.xaxis.set_minor_locator(AutoMinorLocator(5))\n",
    "    ax.yaxis.set_minor_locator(AutoMinorLocator(2)) \n",
    "    ax.xaxis.grid(True, which='major', color='#878787', linestyle='-', lw=0.5)\n",
    "    ax.xaxis.grid(True, which='minor', color='#878787', linestyle='--', lw=0.3)\n",
    "    ax.yaxis.grid(True, which='major', color='#878787', linestyle='-', lw=0.5)\n",
    "    ax.yaxis.grid(True, which='minor', color='#878787', linestyle='--', lw=0.3)\n",
    "    ax.set_xlim([0,230])\n",
    "    ax.set_xticks(np.arange(0,230,50))\n",
    "    # ax.set_ylim([0, np.round(global_fmax * 1.1, 1)])\n",
    "    ax.set_ylim([0, 1.25])\n",
    "    ax.legend(loc=\"upper right\", fontsize=\"medium\", ncol=1, handlelength=1.0, columnspacing=0.5)\n",
    "    ax.set_xlabel(\"Poly(A) length (nt)\")\n",
    "    ax.set_ylabel(\"Fraction (%)\")\n",
    "    # title = f\"{work}, w/o mt-mRNAs\"\n",
    "    title = f\"{work} - mt-mRNAs\"\n",
    "    ax.set_title(title, fontsize=\"medium\")\n",
    "\n",
    "    fname_adduct = \"\"\n",
    "    if gene_subset is not None: fname_adduct += f\"_{subset_label}\"\n",
    "    if 'mtgenes' in drop_subsets: fname_adduct += \"_wo_mtgenes\"\n",
    "    if minifig is True: fname_adduct += \"_mini\"\n",
    "\n",
    "    if savefig is True:\n",
    "        outfigpath = workdir/work/\"plots/global_pAlen_dists_{}_{}-{}{}.pdf\".format(work, pr[0], pr[1], fname_adduct)\n",
    "        fig.savefig(outfigpath, dpi=300, bbox_inches=\"tight\")\n",
    "        print(outfigpath, \"saved\")\n",
    "\n",
    "    plt.show()"
   ]
  },
  {
   "cell_type": "markdown",
   "id": "67a9f0a3-c73f-46cb-b2a1-907fe75412c3",
   "metadata": {},
   "source": [
    "Abundance scaled by mt-mRNAs"
   ]
  },
  {
   "cell_type": "code",
   "execution_count": 68,
   "id": "dc14dd32-9a0f-404a-94ef-3946b4695af0",
   "metadata": {},
   "outputs": [
    {
     "name": "stdout",
     "output_type": "stream",
     "text": [
      "16108\n"
     ]
    }
   ],
   "source": [
    "glstats_path = workdir/work/\"stats/genelevelstats-GRCh38-single.csv\"\n",
    "df_glstats = pd.read_csv(glstats_path, index_col=0)\n",
    "print( len(df_glstats) )"
   ]
  },
  {
   "cell_type": "code",
   "execution_count": 69,
   "id": "c35d09f3-8adb-45c8-ad69-2758082ced92",
   "metadata": {},
   "outputs": [
    {
     "data": {
      "text/plain": [
       "{'Input': 91118.24595898722, 'LARP1': 127189.95819436359}"
      ]
     },
     "execution_count": 69,
     "metadata": {},
     "output_type": "execute_result"
    }
   ],
   "source": [
    "mtgenes_cutoff = 1000\n",
    "scaler = 1000\n",
    "normed_tagcnt_cutoff = 12.5\n",
    "\n",
    "def get_mtnormed_tagcnts(smp, df):\n",
    "    global mtgenes, mtgenes_cutoff, scaler, normed_tagcnt_cutoff\n",
    "    tagcnts = df[[f\"{smp}:polyA_tag_count\", f\"{smp}:nonpolyA_tag_count\"]].sum(axis=1).dropna()\n",
    "    mtgenes_tagcnts = tagcnts[mtgenes]\n",
    "    mtgenes_tagcnts = mtgenes_tagcnts[mtgenes_tagcnts >= mtgenes_cutoff]\n",
    "    normed = tagcnts / gmean(mtgenes_tagcnts) * scaler\n",
    "    \n",
    "    return normed[normed >= normed_tagcnt_cutoff]\n",
    "\n",
    "mtnormed_tagcnts_sum = dict()\n",
    "for smp in samples:\n",
    "    mtnormed_tagcnts_sum[smp] = get_mtnormed_tagcnts(smp, df_glstats).sum()\n",
    "\n",
    "mtnormed_tagcnts_sum"
   ]
  },
  {
   "cell_type": "code",
   "execution_count": 70,
   "id": "4c93109c-f740-4806-b75d-a74dc973be29",
   "metadata": {},
   "outputs": [
    {
     "name": "stdout",
     "output_type": "stream",
     "text": [
      "/casa/joha/projects/polya/works/mh1/plots/global_pAlen_dists_mh1_mt-scaled_10-220_wo_mtgenes_mini.pdf saved\n"
     ]
    },
    {
     "data": {
      "image/png": "[encoded data removed]",
      "text/plain": [
       "<Figure size 194.4x126 with 1 Axes>"
      ]
     },
     "metadata": {},
     "output_type": "display_data"
    }
   ],
   "source": [
    "# Configurations\n",
    "gene_subset = None \n",
    "subset_label = None\n",
    "drop_subsets=['mtgenes']\n",
    "\n",
    "savefig = True\n",
    "minifig = True\n",
    "# figsize = 5.4, 2.8 # for Fig. 4\n",
    "figsize = 5.4, 3.5 # for Fig. 4\n",
    "\n",
    "smoothing = True\n",
    "smoothing_window = 15\n",
    "pAlen_range = [10, 220]; pr = pAlen_range\n",
    "\n",
    "styles = [\"../polya.mplstyle\"]\n",
    "if minifig is True:\n",
    "    styles.append(\"../mini.mplstyle\")\n",
    "    figsize = list(map(lambda x:x/2, figsize))\n",
    "    \n",
    "with plt.style.context(styles):\n",
    "    default_colors = sns.color_palette()\n",
    "    colors_by_smp = json.load(open(\"../colors_by_smp.json\",\"r\"))\n",
    "    colors = [colors_by_smp.get(smp, default_colors[si]) for si, smp in enumerate(samples)]\n",
    "    global_fmax = None # Maximum value of the fraction\n",
    "    \n",
    "    fig, ax = plt.subplots(figsize=figsize)\n",
    "    for si, smp in enumerate(samples):\n",
    "        pn = panels[smp]\n",
    "        \n",
    "        # Consider only a specific gene set\n",
    "        if gene_subset is not None:\n",
    "            pn = pn.reindex(gene_subset) \n",
    "\n",
    "        # Exlucde specific gene sets\n",
    "        if drop_subsets:\n",
    "            for subset in drop_subsets:\n",
    "                pn = pn.drop(gene_lists[subset], errors='ignore')\n",
    "\n",
    "        if not pAlen_range: pAlen_range = [0, pn.shape[1]-1]\n",
    "\n",
    "        # Normalization\n",
    "        pAtags = pn.sum(axis=0).sum(axis=1).iloc[pr[0]:pr[1]+1]\n",
    "        pAlen_dist = pAtags / pAtags.sum() * 100 # fraction in percent\n",
    "        pAlen_dist = pAlen_dist * (mtnormed_tagcnts_sum[smp] / mtnormed_tagcnts_sum[ctrl])\n",
    "\n",
    "        # Smoothing\n",
    "        if smoothing is True:\n",
    "            pAlen_dist = smooth(np.array(pAlen_dist), window_len=smoothing_window)\n",
    "\n",
    "        fmax = pAlen_dist.max()\n",
    "        if global_fmax is None: global_fmax = fmax\n",
    "        elif global_fmax < fmax: global_fmax = fmax\n",
    "\n",
    "        if smp == 'siLARP4_5': label = 'siLARP4/4B'\n",
    "        elif smp == 'siLARP1-3': label = 'siLARP1'\n",
    "        else: label = smp\n",
    "\n",
    "        ## Plotting\n",
    "        ax.plot(np.arange(pr[0], pr[1]+1), pAlen_dist, color=colors[si], label=label, zorder=7)\n",
    "\n",
    "    ax.xaxis.set_minor_locator(AutoMinorLocator(5))\n",
    "    ax.yaxis.set_minor_locator(AutoMinorLocator(2)) \n",
    "    ax.xaxis.grid(True, which='major', color='#878787', linestyle='-', lw=0.5)\n",
    "    ax.xaxis.grid(True, which='minor', color='#878787', linestyle='--', lw=0.3)\n",
    "    ax.yaxis.grid(True, which='major', color='#878787', linestyle='-', lw=0.5)\n",
    "    ax.yaxis.grid(True, which='minor', color='#878787', linestyle='--', lw=0.3)\n",
    "    ax.set_xlim([0,230])\n",
    "    ax.set_xticks(np.arange(0,230,50))\n",
    "    # ax.set_ylim([0, np.round(global_fmax * 1.1, 1)])\n",
    "    ax.set_ylim([0, 0.95])\n",
    "    ax.legend(loc=\"lower center\", fontsize=\"medium\", ncol=2, handlelength=1.0, columnspacing=0.5)\n",
    "    ax.set_xlabel(\"Poly(A) length (nt)\")\n",
    "    ax.set_ylabel(\"Fraction (%)\")\n",
    "    title = f\"{work}, w/o mt-mRNAs\"\n",
    "    ax.set_title(title, fontsize=\"medium\")\n",
    "\n",
    "    fname_adduct = \"\"\n",
    "    if gene_subset is not None: fname_adduct += f\"_{subset_label}\"\n",
    "    if 'mtgenes' in drop_subsets: fname_adduct += \"_wo_mtgenes\"\n",
    "    if minifig is True: fname_adduct += \"_mini\"\n",
    "\n",
    "    if savefig is True:\n",
    "        outfigpath = workdir/work/\"plots/global_pAlen_dists_{}_mt-scaled_{}-{}{}.pdf\".format(work, pr[0], pr[1], fname_adduct)\n",
    "        fig.savefig(outfigpath, dpi=300, bbox_inches=\"tight\")\n",
    "        print(outfigpath, \"saved\")\n",
    "\n",
    "    plt.show()"
   ]
  },
  {
   "cell_type": "markdown",
   "id": "2b31111e-2d28-4a99-9b9b-91110d897499",
   "metadata": {},
   "source": [
    "---\n",
    "### Heat map for the poly(A) length histogram"
   ]
  },
  {
   "cell_type": "code",
   "execution_count": 71,
   "id": "4fd2f73d-1d69-4a60-b3ec-8819a44ca8f3",
   "metadata": {},
   "outputs": [],
   "source": [
    "# Additional imports\n",
    "from polya.utils import binning\n",
    "from sklearn.cluster import KMeans\n",
    "from scipy.cluster.hierarchy import dendrogram, linkage\n",
    "from mpl_toolkits.axes_grid1 import make_axes_locatable"
   ]
  },
  {
   "cell_type": "code",
   "execution_count": 72,
   "id": "7895bdee-4b22-4026-b057-9846f01015e4",
   "metadata": {},
   "outputs": [
    {
     "name": "stdout",
     "output_type": "stream",
     "text": [
      "Input 1997\n",
      "LARP1 1726\n"
     ]
    }
   ],
   "source": [
    "# Binning and counting poly(A) tas and get fractions for each bin\n",
    "\n",
    "pAlen_range = (10, 220)\n",
    "drop_mtgenes = True\n",
    "scale = \"linear\"\n",
    "binsize = 20\n",
    "pseudocount = 1\n",
    "edges = binning(pAlen_range[0], pAlen_range[1], binsize, cap=True)\n",
    "\n",
    "# pAtag_cutoff = 100\n",
    "pAtag_cutoff = 150\n",
    "\n",
    "dfs = {}\n",
    "for smp in samples:\n",
    "    pn = panels[smp].drop(mtgenes, errors=\"ignore\") if drop_mtgenes else panels[smp]\n",
    "\n",
    "    df_polyA = pn.sum(axis=2).T.iloc[:, pAlen_range[0]:pAlen_range[1] + 1]\n",
    "    b = np.digitize(df_polyA.columns, edges) - 1\n",
    "    b[-1] -= 1 # To include the rightmost bound\n",
    "    df_polyA.loc[\"bin\"] = b\n",
    "    df_binned = df_polyA.T.groupby(\"bin\").agg(np.sum).T\n",
    "    \n",
    "    if pAtag_cutoff is not None:\n",
    "        df_binned = df_binned[df_binned.sum(axis=1) >= pAtag_cutoff]\n",
    "        \n",
    "    df_binned += pseudocount\n",
    "    df_binned_frac = df_binned.div(df_binned.sum(axis=1), axis=\"index\")\n",
    "\n",
    "    dfs[smp] = df_binned_frac\n",
    "    print(smp, len(df_binned_frac))\n",
    "\n"
   ]
  },
  {
   "cell_type": "code",
   "execution_count": 73,
   "id": "7e950792-3147-4445-8644-897816fdf090",
   "metadata": {},
   "outputs": [],
   "source": [
    "# Cluster genes based on the pAlen histogram of ctrl sample\n",
    "\n",
    "method = \"kmeans\"\n",
    "\n",
    "df_frac_ctrl = dfs[ctrl].copy()\n",
    "\n",
    "if method == \"kmeans\":\n",
    "    nclusters = 5\n",
    "    renumbering = True\n",
    "    np.random.seed(42)\n",
    "    est = KMeans(n_clusters=nclusters)\n",
    "    est.fit(df_frac_ctrl)\n",
    "    clusters = est.labels_\n",
    "    \n",
    "    if renumbering is True:    \n",
    "        glstats_path = workdir/work/\"stats/genelevelstats-GRCh38-single.csv\"\n",
    "        df_glstats = pd.read_csv(glstats_path, index_col=0)\n",
    "        df_tmp = df_glstats.loc[df_frac_ctrl.index, [f\"{ctrl}:polyA_mean\"]].copy()\n",
    "        df_tmp['cluster'] = clusters\n",
    "        cluster_order = df_tmp.groupby('cluster').agg(np.mean).sort_values(by=df_tmp.columns[0]).index\n",
    "        cluster_mappings = dict(zip(cluster_order, range(nclusters)))\n",
    "        clusters = np.vectorize(cluster_mappings.get)(clusters)\n",
    "        \n",
    "    df_tmp = df_frac_ctrl.copy()\n",
    "    df_tmp['cluster'] = clusters\n",
    "    df_cluster = df_tmp.sort_values(by='cluster')\n",
    "    cluster_counts = df_cluster['cluster'].value_counts()\n",
    "\n",
    "    reordering_indices = df_cluster.index\n",
    "\n",
    "elif method == \"hierarchical\":\n",
    "    X = np.array(df_frac_ctrl)\n",
    "    Z = linkage(X, \"ward\")\n",
    "    D = dendrogram(Z)\n",
    "    \n",
    "    reordering_indices = df_frac_ctrl.iloc[D['ivl']].index"
   ]
  },
  {
   "cell_type": "code",
   "execution_count": 77,
   "id": "fe80313a-c436-4085-ba43-04b83d32a660",
   "metadata": {},
   "outputs": [
    {
     "name": "stdout",
     "output_type": "stream",
     "text": [
      "/casa/joha/projects/polya/works/mh1/plots/heatmap_binned_pAlen_hist_Input_kmeans_clustered.pdf saved\n"
     ]
    },
    {
     "data": {
      "image/png": "[encoded data removed]",
      "text/plain": [
       "<Figure size 374.4x216 with 2 Axes>"
      ]
     },
     "metadata": {
      "needs_background": "light"
     },
     "output_type": "display_data"
    }
   ],
   "source": [
    "savefig = True\n",
    "vmax = 0.5\n",
    "figsize = 5.2, 3\n",
    "fig, ax = plt.subplots(figsize=figsize)\n",
    "image = ax.pcolor(df_frac_ctrl.reindex(reordering_indices).dropna().iloc[:,:], cmap='cubehelix', vmax=vmax, rasterized=True)\n",
    "xticklabels = edges\n",
    "ax.set_xticks(np.arange(len(xticklabels)))\n",
    "ax.set_xticklabels(xticklabels)\n",
    "ax.set_xlabel('Poly(A) length (nt)')\n",
    "ax.set_yticks([])\n",
    "ax.set_ylabel(f'Fraction')\n",
    "\n",
    "if method == \"kmeans\":\n",
    "    # Draw horizontal lines that border clusters\n",
    "    ncum = 0\n",
    "    for ci in range(nclusters - 1):\n",
    "        ncum += cluster_counts.loc[ci]\n",
    "        ax.axhline(ncum, color=\"white\")\n",
    "\n",
    "ax.invert_yaxis()\n",
    "    \n",
    "# Adjust a colorbar\n",
    "# create an axes on the right side of ax. The width of cax will be (size)%\n",
    "# of ax and the padding between cax and ax will be fixed at 0.05 inch.\n",
    "divider = make_axes_locatable(ax)\n",
    "cax = divider.append_axes(\"bottom\", size=\"1.5%\", pad=0.5)\n",
    "cbar = plt.colorbar(image, cax=cax, orientation=\"horizontal\")\n",
    "cbar.solids.set_rasterized(True)\n",
    "ax.set_title(f\"{ctrl.split('-')[0]}, n={len(df_frac_ctrl)}\", fontsize='medium')\n",
    "\n",
    "if savefig is True:\n",
    "    outfigpath = workdir/work/f\"plots/heatmap_binned_pAlen_hist_{ctrl}_{method}_clustered.pdf\" \n",
    "    print(outfigpath, 'saved')\n",
    "    plt.savefig(outfigpath, dpi=300, bbox_inches='tight')\n",
    "    \n",
    "plt.show()\n"
   ]
  },
  {
   "cell_type": "code",
   "execution_count": 75,
   "id": "2e6aa1c7-6326-4bd7-9745-1a725bac21db",
   "metadata": {},
   "outputs": [
    {
     "name": "stdout",
     "output_type": "stream",
     "text": [
      "/casa/joha/projects/polya/works/mh1/plots/heatmap_fraction_fold_mh1_LARP1_over_Input_reordered.pdf saved\n"
     ]
    },
    {
     "data": {
      "image/png": "[encoded data removed]",
      "text/plain": [
       "<Figure size 374.4x216 with 2 Axes>"
      ]
     },
     "metadata": {
      "needs_background": "light"
     },
     "output_type": "display_data"
    }
   ],
   "source": [
    "gene_subset = reordering_indices\n",
    "subset_label = 'reordered'\n",
    "\n",
    "savefig = True\n",
    "figsize = 5.2, 3\n",
    "\n",
    "df_frac_ctrl = dfs[ctrl]\n",
    "for smp in dfs:\n",
    "    if smp == ctrl: continue\n",
    "    df_frac = dfs[smp].copy()\n",
    "    df_fold = np.log2(df_frac.div(df_frac_ctrl, axis='index').dropna())\n",
    "    \n",
    "    if gene_subset is not None:\n",
    "        df_fold = df_fold.reindex(gene_subset).dropna()\n",
    "        \n",
    "    fig, ax = plt.subplots(figsize=figsize)\n",
    "    cmap = 'seismic'\n",
    "    image = ax.pcolor(df_fold.iloc[:,:], vmin=-2, vmax=2, cmap=cmap, rasterized=True)\n",
    "    \n",
    "    if method == \"kmeans\":\n",
    "        # Draw horizontal lines that border clusters\n",
    "        ncum = 0\n",
    "        cc = df_cluster['cluster'].reindex(df_fold.index).value_counts()\n",
    "        for ci in range(nclusters - 1):\n",
    "            ncum += cc.loc[ci]\n",
    "            ax.axhline(ncum, color=\"black\")\n",
    "        \n",
    "    # Adjust x-axis\n",
    "    # xticklabels = edges + [pAlen_range[1]]\n",
    "    xticklabels = edges\n",
    "    ax.set_xticks(np.arange(len(xticklabels)))\n",
    "    ax.set_xticklabels(xticklabels)\n",
    "    ax.set_xlabel('Poly(A) length (nt)')\n",
    "\n",
    "    # Adjust y-axis\n",
    "    ax.set_yticks([])\n",
    "    ax.set_ylabel(f'Fold fraction, log2')\n",
    "    ax.invert_yaxis()\n",
    "    \n",
    "    # Adjust a colorbar\n",
    "    # create an axes on the right side of ax. The width of cax will be (size)%\n",
    "    # of ax and the padding between cax and ax will be fixed at 0.05 inch.\n",
    "    divider = make_axes_locatable(ax)\n",
    "    cax = divider.append_axes(\"bottom\", size=\"1.5%\", pad=0.5)\n",
    "    cbar = plt.colorbar(image, cax=cax, orientation=\"horizontal\")\n",
    "    cbar.solids.set_rasterized(True)\n",
    "    \n",
    "    ax.set_title(f\"{smp.split('-')[0]}, n={len(df_fold)}\", fontsize='medium')\n",
    "    \n",
    "    fname_adduct = \"\"\n",
    "    if gene_subset is not None: fname_adduct += f\"_{subset_label}\"\n",
    "    \n",
    "    if savefig is True:\n",
    "        outfigpath = workdir/work/\"plots/heatmap_fraction_fold_{}_{}_over_{}{}.pdf\".format(work, smp, ctrl, fname_adduct)\n",
    "        plt.savefig(outfigpath, dpi=300, bbox_inches='tight')\n",
    "        print(outfigpath, 'saved')\n",
    "        \n",
    "    plt.show()\n"
   ]
  },
  {
   "cell_type": "markdown",
   "id": "80630a6b-9435-49c8-b215-42b6c72b1dcc",
   "metadata": {},
   "source": [
    "Metagene-level poly(A) length distributions by clusters"
   ]
  },
  {
   "cell_type": "code",
   "execution_count": 76,
   "id": "7ce3437c-e395-4b0f-89d7-84452304dc1c",
   "metadata": {},
   "outputs": [
    {
     "name": "stdout",
     "output_type": "stream",
     "text": [
      "/casa/joha/projects/polya/works/mh1/plots/clusters_pAlen_dists_mh1_10-220_mini.pdf saved\n"
     ]
    },
    {
     "data": {
      "image/png": "[encoded data removed]",
      "text/plain": [
       "<Figure size 432x72 with 5 Axes>"
      ]
     },
     "metadata": {},
     "output_type": "display_data"
    }
   ],
   "source": [
    "savefig = True\n",
    "minifig = True\n",
    "figsize = 12, 2\n",
    "\n",
    "smoothing = True\n",
    "smoothing_window = 15\n",
    "pAlen_range = [10, 220]; pr = pAlen_range\n",
    "\n",
    "\n",
    "styles = [\"../polya.mplstyle\"]\n",
    "if minifig is True:\n",
    "    styles.append(\"../mini.mplstyle\")\n",
    "    figsize = list(map(lambda x:x/2, figsize))\n",
    "    \n",
    "with plt.style.context(styles):\n",
    "    default_colors = sns.color_palette()\n",
    "    colors_by_smp = json.load(open(\"../colors_by_smp.json\",\"r\"))\n",
    "    colors = [colors_by_smp.get(smp, default_colors[si]) for si, smp in enumerate(samples)]\n",
    "    global_fmax = 0\n",
    "    \n",
    "    fig, axes = plt.subplots(1, len(cluster_counts), sharey=True, figsize=figsize,\n",
    "                             gridspec_kw=dict(wspace=0.1))\n",
    "    for clstr, group in df_cluster.groupby('cluster'):\n",
    "        gids = group.index\n",
    "        ax = axes[clstr]\n",
    "        for si, smp in enumerate(samples):\n",
    "            pn = panels[smp].reindex(gids)\n",
    "\n",
    "            if not pAlen_range: pAlen_range = [0, pn.shape[1]-1]\n",
    "\n",
    "            # Normalization\n",
    "            pAtags = pn.sum(axis=0).sum(axis=1).iloc[pr[0]:pr[1]+1]\n",
    "            pAlen_dist = pAtags / pAtags.sum() * 100 # fraction in percent\n",
    "\n",
    "            # Smoothing\n",
    "            if smoothing is True:\n",
    "                pAlen_dist = smooth(np.array(pAlen_dist), window_len=smoothing_window)\n",
    "\n",
    "            fmax = pAlen_dist.max()\n",
    "            if global_fmax is None: global_fmax = fmax\n",
    "            elif global_fmax < fmax: global_fmax = fmax\n",
    "\n",
    "            if smp == 'siLARP4_5': label = 'siLARP4/4B'\n",
    "            elif smp == 'siLARP44B': label = 'siLARP4/4B'\n",
    "            elif smp == 'siLARP1-3': label = 'siLARP1'\n",
    "            else: label = smp\n",
    "\n",
    "            # Plotting\n",
    "            ax.plot(np.arange(pr[0], pr[1]+1), pAlen_dist, color=colors[si], label=label, zorder=7)\n",
    "            \n",
    "        ax.xaxis.set_minor_locator(AutoMinorLocator(2))\n",
    "        ax.yaxis.set_minor_locator(AutoMinorLocator(2)) \n",
    "        ax.xaxis.grid(True, which='major', color='#878787', linestyle='-', lw=0.5)\n",
    "        ax.xaxis.grid(True, which='minor', color='#878787', linestyle='--', lw=0.3)\n",
    "        ax.yaxis.grid(True, which='major', color='#878787', linestyle='-', lw=0.5)\n",
    "        ax.yaxis.grid(True, which='minor', color='#878787', linestyle='--', lw=0.3)\n",
    "        ax.set_xlim([0,230])\n",
    "        ax.set_xticks(np.arange(0,230,100))\n",
    "        ax.set_title(f\"C{clstr}\", fontsize='medium')\n",
    "        \n",
    "    axes[0].set_ylabel(\"Fraction (%)\")\n",
    "    axes[2].set_xlabel(\"Poly(A) length (nt)\")\n",
    "    axes[-1].legend(loc=\"upper right\", fontsize=\"medium\", ncol=1, handlelength=1.0, columnspacing=0.5)\n",
    "\n",
    "    fname_adduct = \"\"\n",
    "    if minifig is True: fname_adduct += \"_mini\"\n",
    "    \n",
    "    if savefig is True:\n",
    "        outfigpath = workdir/work/\"plots/clusters_pAlen_dists_{}_{}-{}{}.pdf\".format(work, pr[0], pr[1], fname_adduct)\n",
    "        fig.savefig(outfigpath, dpi=300, bbox_inches=\"tight\")\n",
    "        print(outfigpath, \"saved\")\n",
    "            \n",
    "    plt.show()"
   ]
  },
  {
   "cell_type": "code",
   "execution_count": null,
   "id": "02884ce6-4387-4841-86d4-92a46c4bf5d8",
   "metadata": {},
   "outputs": [],
   "source": []
  }
 ],
 "metadata": {
  "kernelspec": {
   "display_name": "polya",
   "language": "python",
   "name": "polya"
  },
  "language_info": {
   "codemirror_mode": {
    "name": "ipython",
    "version": 3
   },
   "file_extension": ".py",
   "mimetype": "text/x-python",
   "name": "python",
   "nbconvert_exporter": "python",
   "pygments_lexer": "ipython3",
   "version": "3.7.11"
  }
 },
 "nbformat": 4,
 "nbformat_minor": 5
}
