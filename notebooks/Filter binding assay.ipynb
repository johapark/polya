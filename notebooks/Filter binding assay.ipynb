{
 "cells": [
  {
   "cell_type": "code",
   "execution_count": 1,
   "metadata": {},
   "outputs": [
    {
     "name": "stderr",
     "output_type": "stream",
     "text": [
      "\n",
      "Bad key datapath in file /casa/joha/.config/matplotlib/matplotlibrc, line 65 ('datapath : /utp/joha/.config/matplotlib/data')\n",
      "You probably need to get an updated matplotlibrc file from\n",
      "https://github.com/matplotlib/matplotlib/blob/v3.5.1/matplotlibrc.template\n",
      "or from the matplotlib source distribution\n"
     ]
    }
   ],
   "source": [
    "from pathlib import Path\n",
    "\n",
    "from scipy.optimize import curve_fit\n",
    "from matplotlib import ticker\n",
    "import matplotlib.pyplot as plt\n",
    "import pandas as pd\n",
    "import numpy as np"
   ]
  },
  {
   "cell_type": "code",
   "execution_count": 13,
   "metadata": {},
   "outputs": [
    {
     "data": {
      "text/html": [
       "<div>\n",
       "<style scoped>\n",
       "    .dataframe tbody tr th:only-of-type {\n",
       "        vertical-align: middle;\n",
       "    }\n",
       "\n",
       "    .dataframe tbody tr th {\n",
       "        vertical-align: top;\n",
       "    }\n",
       "\n",
       "    .dataframe thead th {\n",
       "        text-align: right;\n",
       "    }\n",
       "</style>\n",
       "<table border=\"1\" class=\"dataframe\">\n",
       "  <thead>\n",
       "    <tr style=\"text-align: right;\">\n",
       "      <th></th>\n",
       "      <th>LARP1</th>\n",
       "      <th>A0</th>\n",
       "      <th>A25</th>\n",
       "      <th>A50</th>\n",
       "      <th>Replicate</th>\n",
       "    </tr>\n",
       "  </thead>\n",
       "  <tbody>\n",
       "    <tr>\n",
       "      <th>0</th>\n",
       "      <td>0.010</td>\n",
       "      <td>-0.004617</td>\n",
       "      <td>0.000273</td>\n",
       "      <td>0.001797</td>\n",
       "      <td>Rep1</td>\n",
       "    </tr>\n",
       "    <tr>\n",
       "      <th>1</th>\n",
       "      <td>0.025</td>\n",
       "      <td>-0.001664</td>\n",
       "      <td>0.009007</td>\n",
       "      <td>0.003807</td>\n",
       "      <td>Rep1</td>\n",
       "    </tr>\n",
       "    <tr>\n",
       "      <th>2</th>\n",
       "      <td>0.050</td>\n",
       "      <td>0.005909</td>\n",
       "      <td>0.005907</td>\n",
       "      <td>0.005455</td>\n",
       "      <td>Rep1</td>\n",
       "    </tr>\n",
       "  </tbody>\n",
       "</table>\n",
       "</div>"
      ],
      "text/plain": [
       "   LARP1        A0       A25       A50 Replicate\n",
       "0  0.010 -0.004617  0.000273  0.001797      Rep1\n",
       "1  0.025 -0.001664  0.009007  0.003807      Rep1\n",
       "2  0.050  0.005909  0.005907  0.005455      Rep1"
      ]
     },
     "execution_count": 13,
     "metadata": {},
     "output_type": "execute_result"
    }
   ],
   "source": [
    "datadir = Path(\"../data/fba\")\n",
    "work = \"larp1\"\n",
    "\n",
    "fname = {\n",
    "    \"pabpc1\": \"200512_FBA_PABPC1_Rep1_Rep2_Rep3.csv\",\n",
    "    \"larp1\": \"200613_FBA_LARP1_Rep1_Rep2_Rep3.csv\",\n",
    "}[work]\n",
    "inpfpath = datadir/fname\n",
    "data = pd.read_csv(inpfpath, sep=',', encoding='utf-8')\n",
    "data.head(3)"
   ]
  },
  {
   "cell_type": "code",
   "execution_count": 14,
   "metadata": {},
   "outputs": [],
   "source": [
    "# Summarize the data to get the fitted line\n",
    "groupby_colidx = 0\n",
    "average = data.groupby(data.columns[groupby_colidx]).agg(np.mean)"
   ]
  },
  {
   "cell_type": "code",
   "execution_count": 15,
   "metadata": {},
   "outputs": [],
   "source": [
    "def hill_equation(x, top, bottom, ec50, nH):\n",
    "    return bottom + (top - bottom) * x**nH / (ec50**nH + x**nH)"
   ]
  },
  {
   "cell_type": "code",
   "execution_count": 16,
   "metadata": {},
   "outputs": [],
   "source": [
    "def get_params(x:np.ndarray, y:np.ndarray):\n",
    "    global hill_equation\n",
    "    \n",
    "    ymin, ymax = y.min(), y.max()\n",
    "\n",
    "    h = abs(ymax - ymin)\n",
    "    params_initial = [ymax, ymin, 0.5 * (x[-1] - x[0]) - x[0], 1] \n",
    "    params_bounds = (\n",
    "        [ymax - 0.5 * h, ymin - 0.5 * h, 0.1 * x[0], 0.01], \n",
    "        [ymax + 0.5 * h, ymin + 0.5 * h, 10 * x[-1], 100],\n",
    "    )\n",
    "\n",
    "    popt, _ = curve_fit(hill_equation, x, y, p0=params_initial, bounds=params_bounds)\n",
    "    return list(popt)"
   ]
  },
  {
   "cell_type": "code",
   "execution_count": 17,
   "metadata": {},
   "outputs": [
    {
     "name": "stderr",
     "output_type": "stream",
     "text": [
      "/casa/joha/anaconda3/envs/polya/lib/python3.7/site-packages/ipykernel_launcher.py:2: RuntimeWarning: overflow encountered in double_scalars\n",
      "  \n"
     ]
    },
    {
     "data": {
      "image/png": "[encoded data removed]",
      "text/plain": [
       "<Figure size 626.4x180 with 3 Axes>"
      ]
     },
     "metadata": {
      "needs_background": "light"
     },
     "output_type": "display_data"
    }
   ],
   "source": [
    "savefig = True\n",
    "\n",
    "n_cols = len(average.columns)\n",
    "fig, axes = plt.subplots(1, n_cols,\n",
    "                         sharex=True, sharey=True, figsize=(8.7,2.5), \n",
    "                         gridspec_kw={'hspace':0.1, 'wspace':0.1})\n",
    "\n",
    "x = np.asarray(average.index)\n",
    "x_fit = np.linspace(x[0], x[-1], 10000)\n",
    "for cidx in range(n_cols):\n",
    "    y = average.iloc[:, cidx]\n",
    "    params = get_params(x, y)\n",
    "    y_fit = hill_equation(x_fit, *params)\n",
    "    \n",
    "    ax = axes[cidx]\n",
    "    \n",
    "    k_ds = []\n",
    "    for rep, gr in data.groupby('Replicate'):\n",
    "        x_s = np.asarray(gr.iloc[:, 0])\n",
    "        y_s = np.asarray(gr.iloc[:, cidx+1])\n",
    "        ax.scatter(x_s, y_s, label=rep, s=12)\n",
    "\n",
    "        k_ds.append(get_params(x_s, y_s)[2])\n",
    "    \n",
    "    ax.plot(x_fit, y_fit, c=\"k\")\n",
    "        \n",
    "    ax.set_title(average.columns[cidx], fontsize='medium')\n",
    "    \n",
    "    if y.max() > 0.5:\n",
    "        k_ds = np.array(k_ds)\n",
    "        k_d_est = k_ds.mean()\n",
    "        k_d_err = k_ds.std()\n",
    "        k_d_disp = rf\"K$_d$ = {k_d_est:.2f} $\\pm$ {k_d_err:.2f} nM\"\n",
    "    else:\n",
    "        k_d_disp = r\"K$_d$ = n.d.\"\n",
    "    ax.text(0.95, 0.9, k_d_disp, transform=ax.transAxes, ha='right')\n",
    "\n",
    "    \n",
    "axes[0].set_ylabel(\"Fraction bound\")\n",
    "axes[0].legend(loc=\"upper left\")\n",
    "axes[1].set_xlabel(\"Concentration (nM)\")\n",
    "    \n",
    "plt.xscale(\"log\")\n",
    "plt.ylim([-0.1,0.9])\n",
    "\n",
    "if savefig is True:\n",
    "    outfigpath = f\"../plots/fba_{work}.pdf\"\n",
    "    plt.savefig(outfigpath, bbox_inches=\"tight\")\n",
    "    \n",
    "plt.show()"
   ]
  }
 ],
 "metadata": {
  "kernelspec": {
   "display_name": "polya",
   "language": "python",
   "name": "polya"
  },
  "language_info": {
   "codemirror_mode": {
    "name": "ipython",
    "version": 3
   },
   "file_extension": ".py",
   "mimetype": "text/x-python",
   "name": "python",
   "nbconvert_exporter": "python",
   "pygments_lexer": "ipython3",
   "version": "3.7.11"
  }
 },
 "nbformat": 4,
 "nbformat_minor": 4
}
